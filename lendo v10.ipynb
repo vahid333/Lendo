{
 "cells": [
  {
   "cell_type": "markdown",
   "id": "1e87f3dd",
   "metadata": {},
   "source": [
    "# Lendo analysis data"
   ]
  },
  {
   "cell_type": "markdown",
   "id": "f27eba6f",
   "metadata": {
    "toc": true
   },
   "source": [
    "<h1>Table of Contents<span class=\"tocSkip\"></span></h1>\n",
    "<div class=\"toc\"><ul class=\"toc-item\"><li><span><a href=\"#Introduction\" data-toc-modified-id=\"Introduction-1\"><span class=\"toc-item-num\">1&nbsp;&nbsp;</span>Introduction</a></span><ul class=\"toc-item\"><li><span><a href=\"#Database-instructure\" data-toc-modified-id=\"Database-instructure-1.1\"><span class=\"toc-item-num\">1.1&nbsp;&nbsp;</span>Database instructure</a></span></li></ul></li><li><span><a href=\"#Preparing-data\" data-toc-modified-id=\"Preparing-data-2\"><span class=\"toc-item-num\">2&nbsp;&nbsp;</span>Preparing data</a></span><ul class=\"toc-item\"><li><span><a href=\"#Check-datasets\" data-toc-modified-id=\"Check-datasets-2.1\"><span class=\"toc-item-num\">2.1&nbsp;&nbsp;</span>Check datasets</a></span></li><li><span><a href=\"#Data--Distrubiotion\" data-toc-modified-id=\"Data--Distrubiotion-2.2\"><span class=\"toc-item-num\">2.2&nbsp;&nbsp;</span>Data  Distrubiotion</a></span></li><li><span><a href=\"#Dataset-content\" data-toc-modified-id=\"Dataset-content-2.3\"><span class=\"toc-item-num\">2.3&nbsp;&nbsp;</span>Dataset content</a></span></li><li><span><a href=\"#Exporting-Data\" data-toc-modified-id=\"Exporting-Data-2.4\"><span class=\"toc-item-num\">2.4&nbsp;&nbsp;</span>Exporting Data</a></span></li><li><span><a href=\"#validity-of-data\" data-toc-modified-id=\"validity-of-data-2.5\"><span class=\"toc-item-num\">2.5&nbsp;&nbsp;</span>validity of data</a></span></li><li><span><a href=\"#Dataset-use\" data-toc-modified-id=\"Dataset-use-2.6\"><span class=\"toc-item-num\">2.6&nbsp;&nbsp;</span>Dataset use</a></span></li><li><span><a href=\"#SQL-query-for-gathering-data\" data-toc-modified-id=\"SQL-query-for-gathering-data-2.7\"><span class=\"toc-item-num\">2.7&nbsp;&nbsp;</span>SQL query for gathering data</a></span></li></ul></li><li><span><a href=\"#Process-data\" data-toc-modified-id=\"Process-data-3\"><span class=\"toc-item-num\">3&nbsp;&nbsp;</span>Process data</a></span><ul class=\"toc-item\"><li><span><a href=\"#Installing-and-import-package-we-use-in-this-analysis\" data-toc-modified-id=\"Installing-and-import-package-we-use-in-this-analysis-3.1\"><span class=\"toc-item-num\">3.1&nbsp;&nbsp;</span>Installing and import package we use in this analysis</a></span></li><li><span><a href=\"#importing-data\" data-toc-modified-id=\"importing-data-3.2\"><span class=\"toc-item-num\">3.2&nbsp;&nbsp;</span>importing data</a></span><ul class=\"toc-item\"><li><span><a href=\"#importing-tables-are-all-data-in-one-file\" data-toc-modified-id=\"importing-tables-are-all-data-in-one-file-3.2.1\"><span class=\"toc-item-num\">3.2.1&nbsp;&nbsp;</span>importing tables are all data in one file</a></span></li><li><span><a href=\"#reading-dataframe-with-multiple-files\" data-toc-modified-id=\"reading-dataframe-with-multiple-files-3.2.2\"><span class=\"toc-item-num\">3.2.2&nbsp;&nbsp;</span>reading dataframe with multiple files</a></span></li></ul></li><li><span><a href=\"#Viewing-and-inspecting-data\" data-toc-modified-id=\"Viewing-and-inspecting-data-3.3\"><span class=\"toc-item-num\">3.3&nbsp;&nbsp;</span>Viewing and inspecting data</a></span><ul class=\"toc-item\"><li><span><a href=\"#Clean-names-of-columns\" data-toc-modified-id=\"Clean-names-of-columns-3.3.1\"><span class=\"toc-item-num\">3.3.1&nbsp;&nbsp;</span>Clean names of columns</a></span></li><li><span><a href=\"#Clean-dataset-and-formatting\" data-toc-modified-id=\"Clean-dataset-and-formatting-3.3.2\"><span class=\"toc-item-num\">3.3.2&nbsp;&nbsp;</span>Clean dataset and formatting</a></span></li></ul></li></ul></li><li><span><a href=\"#Analysis-data\" data-toc-modified-id=\"Analysis-data-4\"><span class=\"toc-item-num\">4&nbsp;&nbsp;</span>Analysis data</a></span><ul class=\"toc-item\"><li><span><a href=\"#Operation\" data-toc-modified-id=\"Operation-4.1\"><span class=\"toc-item-num\">4.1&nbsp;&nbsp;</span>Operation</a></span><ul class=\"toc-item\"><li><span><a href=\"#create-a-dataframe-and-new-columns-for-analysis-base-year-and-month\" data-toc-modified-id=\"create-a-dataframe-and-new-columns-for-analysis-base-year-and-month-4.1.1\"><span class=\"toc-item-num\">4.1.1&nbsp;&nbsp;</span>create a dataframe and new columns for analysis base year and month</a></span></li><li><span><a href=\"#Orders-create-per-days,month-and-year\" data-toc-modified-id=\"Orders-create-per-days,month-and-year-4.1.2\"><span class=\"toc-item-num\">4.1.2&nbsp;&nbsp;</span>Orders create per days,month and year</a></span><ul class=\"toc-item\"><li><span><a href=\"#Number-orders-per-day\" data-toc-modified-id=\"Number-orders-per-day-4.1.2.1\"><span class=\"toc-item-num\">4.1.2.1&nbsp;&nbsp;</span>Number orders per day</a></span></li><li><span><a href=\"#Number-orders-per-month-and-year\" data-toc-modified-id=\"Number-orders-per-month-and-year-4.1.2.2\"><span class=\"toc-item-num\">4.1.2.2&nbsp;&nbsp;</span>Number orders per month and year</a></span></li></ul></li><li><span><a href=\"#Checking-trend-of-in-creating-orders\" data-toc-modified-id=\"Checking-trend-of-in-creating-orders-4.1.3\"><span class=\"toc-item-num\">4.1.3&nbsp;&nbsp;</span>Checking trend of in creating orders</a></span></li><li><span><a href=\"#Number-of-order-per-status\" data-toc-modified-id=\"Number-of-order-per-status-4.1.4\"><span class=\"toc-item-num\">4.1.4&nbsp;&nbsp;</span>Number of order per status</a></span></li><li><span><a href=\"#Number-of-orders-Per-Status-base-logarithmic-Scale\" data-toc-modified-id=\"Number-of-orders-Per-Status-base-logarithmic-Scale-4.1.5\"><span class=\"toc-item-num\">4.1.5&nbsp;&nbsp;</span>Number of orders Per Status base logarithmic Scale</a></span></li><li><span><a href=\"#Checking-orders-for-distrubiotion(Fail-or-Successful)\" data-toc-modified-id=\"Checking-orders-for-distrubiotion(Fail-or-Successful)-4.1.6\"><span class=\"toc-item-num\">4.1.6&nbsp;&nbsp;</span>Checking orders for distrubiotion(Fail or Successful)</a></span></li><li><span><a href=\"#Reasons-of-failed-orders-based-on--users-or-customer-comments\" data-toc-modified-id=\"Reasons-of-failed-orders-based-on--users-or-customer-comments-4.1.7\"><span class=\"toc-item-num\">4.1.7&nbsp;&nbsp;</span>Reasons of failed orders based on  users or customer comments</a></span><ul class=\"toc-item\"><li><span><a href=\"#reasons-for-failed-orders-and-suggestions\" data-toc-modified-id=\"reasons-for-failed-orders-and-suggestions-4.1.7.1\"><span class=\"toc-item-num\">4.1.7.1&nbsp;&nbsp;</span>reasons for failed orders and suggestions</a></span></li></ul></li><li><span><a href=\"#Successful-orders-vs-created-orders\" data-toc-modified-id=\"Successful-orders-vs-created-orders-4.1.8\"><span class=\"toc-item-num\">4.1.8&nbsp;&nbsp;</span>Successful orders vs created orders</a></span></li><li><span><a href=\"#Checking-database-users-and-creating-orders\" data-toc-modified-id=\"Checking-database-users-and-creating-orders-4.1.9\"><span class=\"toc-item-num\">4.1.9&nbsp;&nbsp;</span>Checking database users and creating orders</a></span></li><li><span><a href=\"#Time-procedure-for-each-task-in-operation\" data-toc-modified-id=\"Time-procedure-for-each-task-in-operation-4.1.10\"><span class=\"toc-item-num\">4.1.10&nbsp;&nbsp;</span>Time procedure for each task in operation</a></span></li><li><span><a href=\"#Status-log-data\" data-toc-modified-id=\"Status-log-data-4.1.11\"><span class=\"toc-item-num\">4.1.11&nbsp;&nbsp;</span>Status log data</a></span></li><li><span><a href=\"#Time-and-money-consuming-status\" data-toc-modified-id=\"Time-and-money-consuming-status-4.1.12\"><span class=\"toc-item-num\">4.1.12&nbsp;&nbsp;</span>Time and money consuming status</a></span></li><li><span><a href=\"#checking-successful-orders\" data-toc-modified-id=\"checking-successful-orders-4.1.13\"><span class=\"toc-item-num\">4.1.13&nbsp;&nbsp;</span>checking successful orders</a></span></li></ul></li></ul></li></ul></div>"
   ]
  },
  {
   "cell_type": "markdown",
   "id": "be866c46",
   "metadata": {},
   "source": [
    "### Introduction\n",
    "[Lendo](https://lendo.ir/) is startup co-founders Amir and Hamid Hagh-ranjbar in the FinTech industries, founded in 2017, First Lendo provide goods, major electric products such as mobile phones, gaming console, and other products based on customer request sell them for 6,9 and 12-month payback base fixed payment. \n",
    "\n",
    "They were established to be the first online platform for online validations and selling products-based leasing platform.\n",
    "\n",
    "After 2 years, Lendo start a new line of products that is making a platform for online stores to allow their customer option of to buy their products from their store and then customer payback monthly with interest for 3,6,9 or 12-month payments and established their position for the first platform for providing credits for customers and stores after while with verity stores customers coming to their website to choose from Ecommerce have Lendo payment option to buy their goods.\n",
    "\n",
    "In 2020 in equity raising, Efarda as a subsidiary of Ayandeh bank became the third shareholder of the company.  \n",
    "It provides the opportunity for Lendo to have a resource for paying credit to customers with increasing demand.  \n",
    "In this project I try to get data, process, analysis, and recommend some suggestions for lendo in four different aspects:  \n",
    "  \n",
    "   1. Operation  \n",
    "   2. Marketing  \n",
    "   3. Financial  \n",
    "   4. Special Task  \n",
    "     \n",
    "The goal of this project is to help understand how the lendo dataset, products, and process works and find solutions or suggestions to solve their problem or improve their process.\n",
    " "
   ]
  },
  {
   "cell_type": "markdown",
   "id": "00d9bd4f",
   "metadata": {},
   "source": [
    "####  Database instructure \n",
    "Lendo has a relational and non-relational database and more than 80 tables. Data information about customers, users, orders, order details, invoices detail, payment details, stores(online shopping stores), logs, and the API they use for their products.  \n",
    "I use downloading tables for major data i need but if i don't be able to download all data i choose a variety of approaches, you can find detail in each section.\n",
    "Lendo Using [Metabase](https://www.metabase.com/) for BI tools.  \n",
    "I choose SQL query for getting data or first analysis for this project another note about data format export file i used excel export file because Metabase doesn't alert if all your data is not downloaded in CSV format."
   ]
  },
  {
   "cell_type": "markdown",
   "id": "bb13e4b9",
   "metadata": {},
   "source": [
    "### Preparing data     \n",
    "  \n",
    "      \n",
    "\n",
    "#### Check datasets\n",
    "  With native query in matabase, I extract data for process data.  \n",
    "because the number of queries is too much.    \n",
    " I try showing a few examples of the process of getting data and base amount of data it's not possible for joining data on-line, base this reasons I using SQL for extracting data from the database the other hand because its the company database I can update and change data for cleaning so using python for cleaning data even it's much easier in SQL.  \n",
    "#### Data  Distrubiotion \n",
    "Lendo has more than 80 tables in the dataset and some of the tables have more than 1 million records and more than 30 columns.  \n",
    "And for the analysis of data, we need to join 2 and many more tables.\n",
    "#### Dataset content\n",
    "I check the headers and summary of tables and seems some tables have more than 1 million records.  \n",
    "The other important factor is for using data, I need to join tables most of the time more than 2 tables and besides several records, columns become another factor for exporting data.  \n",
    "#### Exporting Data\n",
    "For exporting data, matabase has a limitation of 1 million records. numbers of our data have more than 1 million cells I try using different ways to get data but for some tables, I have to use Metabase BI for getting data from tables.  \n",
    "base these limitations I decide don't join tables in SQL and clean Dataframe and export data with 2 kinds of queries.\n",
    "1. Query with some columns of a table and merge them in python\n",
    "2. Use limitations of exporting data in files and append them in python.\n",
    "  \n",
    "#### validity of data\n",
    "Because it's first-hand data and used in operation be presume it reliable data.\n",
    "In exploring data most problematic part is because Lendo uses the same database from the beginning and they have many changes like other start-ups it's not integrated and this change causes some missed data. I check to miss each dataframe for checking the reliability and clean and base standard miss represents the originality of the statistical of our population."
   ]
  },
  {
   "cell_type": "markdown",
   "id": "50986c79",
   "metadata": {},
   "source": [
    "#### Dataset use\n",
    "\n",
    "like every technological product, Lendo also has a variety of tables and data .but for this project, i use the below tables.\n",
    "\n",
    "|NO|Name of table | Description | \n",
    "|---|--------------|--------------|\n",
    "|1| Category |Its include categories of stores|\n",
    "|2|Cities|For joining users|\n",
    "|3|Users|All base data of customer and we using customer name for this dataframe|\n",
    "|4|Order_Note|comment for employees to other co-workers|\n",
    "|5|order_Invoices|Detail of invoices for each order|\n",
    "|6|Order_Items|details of each order for connecting to products and payment|\n",
    "|7|Order_Reject|detail about reason orders reject|\n",
    "|8|Orders|Detail of each order|\n",
    "|9|products_items|Detail for Supplier of each order |\n",
    "|10|Products|Detail of Suppliers (stores)|\n",
    "|11|Reasens|list of comments for joining with other data|\n",
    "|12|Status_Log|detail changing status of orders|\n",
    "|13|Admins|list our users and id for connecting to other dataframe we call users in dataframes|\n",
    "|14|status describtion|Status in dataset base number for analysis data i put the description of each status|\n",
    "|15|order_status_logs|record any status change in orders. its source for checking the action of each order|\n",
    "\n"
   ]
  },
  {
   "cell_type": "markdown",
   "id": "ca75ccf9",
   "metadata": {},
   "source": [
    "#### SQL query for gathering data\n"
   ]
  },
  {
   "cell_type": "markdown",
   "id": "db7d3c5f",
   "metadata": {},
   "source": [
    "**SQl query fot Customer table**  \n",
    "\n",
    "SELECT id,user_id,address,city_id,state_id,postal_code  \n",
    "FROM user_addresses\n"
   ]
  },
  {
   "cell_type": "markdown",
   "id": "61335c3c",
   "metadata": {},
   "source": [
    "**SQL query for orders table**  \n",
    "SELECT id,user_id,total_amount,status,total_items_amount,is_lendo  \n",
    "FROM orders  "
   ]
  },
  {
   "cell_type": "markdown",
   "id": "af04f5c6",
   "metadata": {},
   "source": [
    "**SQL Query for order_invoice**  \n",
    "becue number of rows in `order_invoice` table i try to get data base coulumn and then add coulumn togher and we get 6 coulums and only for status (6,7,8) its that orders is finals and orders invoice is could be analysis from  tabel. \n",
    "\n",
    "`query 1`  \n",
    "SELECT order_invoices.order_id  \n",
    "FROM order_invoices  \n",
    "INNER JOIN orders ON order_invoices.order_id = orders.id  \n",
    "WHERE orders.status in (7,8,6) and order_invoices.price>0  \n",
    "ORDER BY order_invoices.order_id\n",
    "  \n",
    "`query 2`  \n",
    "SELECT order_invoices.invoice_date  \n",
    "FROM order_invoices  \n",
    "INNER JOIN orders ON order_invoices.order_id = orders.id  \n",
    "WHERE orders.status in (7,8,6) and order_invoices.price>0  \n",
    "ORDER BY order_invoices.order_id  \n",
    "\n",
    "`query 3`  \n",
    "SELECT order_invoices.status  \n",
    "FROM order_invoices  \n",
    "INNER JOIN orders ON order_invoices.order_id = orders.id  \n",
    "WHERE orders.status in (7,8,6) and order_invoices.price>0  \n",
    "ORDER BY order_invoices.order_id  \n",
    "  \n",
    "`query 4`  \n",
    "SELECT order_invoices.price  \n",
    "FROM order_invoices  \n",
    "INNER JOIN orders ON order_invoices.order_id = orders.id  \n",
    "WHERE orders.status in (7,8,6) and order_invoices.price>0  \n",
    "ORDER BY order_invoices.order_id  \n",
    "  \n",
    "`query 5`  \n",
    "SELECT order_invoices.paid_at  \n",
    "FROM order_invoices  \n",
    "INNER JOIN orders ON order_invoices.order_id = orders.id  \n",
    "WHERE orders.status in (7,8,6) and order_invoices.price>0  \n",
    "ORDER BY order_invoices.order_id  \n",
    "  \n",
    "`query 6`  \n",
    "SELECT order_invoices.number  \n",
    "FROM order_invoices  \n",
    "INNER JOIN orders ON order_invoices.order_id = orders.id  \n",
    "WHERE orders.status in (7,8,6) and order_invoices.price>0  \n",
    "ORDER BY order_invoices.order_id  \n",
    "\n",
    "\n",
    "\n"
   ]
  },
  {
   "cell_type": "markdown",
   "id": "d8e77f45",
   "metadata": {},
   "source": [
    "**SQL query for note table**  \n",
    "number of rows in this table is more than 1.4 million rows and have 2 rows we need for forther so i use `WHERE` to getting result in diffrent part and then append all export file toghether.one sample of query you can see in below.  \n",
    "  \n",
    "SELECT id,note  \n",
    "FROM order_note  \n",
    "where id>=600000 and id<900000  \n",
    "ORDER BY order_id  \n",
    "\n"
   ]
  },
  {
   "cell_type": "markdown",
   "id": "4f0b5327",
   "metadata": {},
   "source": [
    "### Process data\n",
    "We import data with the above explanation in 2  with one file and merge and append files."
   ]
  },
  {
   "cell_type": "markdown",
   "id": "7ddfb2f9",
   "metadata": {},
   "source": [
    "#### Installing and import package we use in this analysis"
   ]
  },
  {
   "cell_type": "code",
   "execution_count": 2,
   "id": "0bd47956",
   "metadata": {},
   "outputs": [],
   "source": [
    "import pandas as pd\n",
    "import numpy as np\n",
    "import os \n",
    "import functools as ft\n",
    "import matplotlib.pyplot as plt\n",
    "import plotly\n",
    "import seaborn as sns\n",
    "import janitor\n",
    "from matplotlib.dates import DateFormatter\n",
    "import itertools \n",
    "import warnings\n",
    "warnings.filterwarnings('ignore')"
   ]
  },
  {
   "cell_type": "code",
   "execution_count": 3,
   "id": "d2434bfa",
   "metadata": {},
   "outputs": [],
   "source": [
    "if os.getcwdb!=\"D:\\\\lendo\":\n",
    "    os.chdir(\"D:\\\\lendo\")\n",
    "from IPython.core.interactiveshell import InteractiveShell\n",
    "InteractiveShell.ast_node_interactivity = \"all\""
   ]
  },
  {
   "cell_type": "markdown",
   "id": "1581a37b",
   "metadata": {},
   "source": [
    "#### importing data"
   ]
  },
  {
   "cell_type": "markdown",
   "id": "37faf22a",
   "metadata": {},
   "source": [
    "   #####      importing tables are all data in one file\n",
    "   The first group of data is files from tables which we can export data  from metabase in a single file"
   ]
  },
  {
   "cell_type": "code",
   "execution_count": 4,
   "id": "a5ac4b63",
   "metadata": {},
   "outputs": [],
   "source": [
    "categoires = pd.read_excel(\"database/categories/query_result_2022-08-07T09_10_47.154029Z.xlsx\")\n",
    "cities = pd.read_excel(\"database/cities/query_result_2022-08-07T09_11_26.159852Z.xlsx\")\n",
    "order_items = pd.read_excel(\"database/order items/query_result_2022-08-07T09_05_17.881Z.xlsx\")\n",
    "order_reject = pd.read_excel(\"database/order reject/query_result_2022-08-07T09_57_37.86315Z.xlsx\")\n",
    "orders = pd.read_excel(\"database/orders/query_result_2022-08-07T09_01_19.138Z.xlsx\")\n",
    "product_items = pd.read_excel(\"database/product_items/query_result_2022-08-07T09_09_30.257591Z.xlsx\")\n",
    "products = pd.read_excel(\"database/products/query_result_2022-08-07T09_08_17.937548Z.xlsx\")\n",
    "reasons = pd.read_excel(\"database/reasons/query_result_2022-08-07T10_14_59.080808Z.xlsx\")\n",
    "users = pd.read_excel(\"database/users/query_result_2022-08-07T10_16_06.302411Z.xlsx\")\n",
    "provience = pd.read_excel('database/provience/query_result_2022-08-07T14_12_42.830099Z.xlsx')\n",
    "customers_address = pd.read_excel(\n",
    "    'database/users addres/query_result_2022-08-17T06_33_17.658344Z.xlsx')\n",
    "status = pd.read_excel('status_for descr.xlsx')"
   ]
  },
  {
   "cell_type": "markdown",
   "id": "cb9794ab",
   "metadata": {},
   "source": [
    "##### reading dataframe with multiple files\n",
    "because of the amount of data in some tables of dataset, i export some of them in multiple files and then, append or join them"
   ]
  },
  {
   "cell_type": "code",
   "execution_count": 5,
   "id": "cb871640",
   "metadata": {},
   "outputs": [],
   "source": [
    "#Customer data\n",
    "# reading customers data \n",
    "ath, dirs, files = next(os.walk(\"./database/customers/\"))\n",
    "file_count = len(files)\n",
    "\n",
    "# create empty list\n",
    "customers_df = []\n",
    " \n",
    "# append datasets to the list\n",
    "for i in range(file_count):\n",
    "    temp_df = pd.read_excel(\"./database/customers/\"+files[i])\n",
    "    customers_df.append(temp_df)"
   ]
  },
  {
   "cell_type": "code",
   "execution_count": 6,
   "id": "5cd2c419",
   "metadata": {},
   "outputs": [],
   "source": [
    "customers = ft.reduce(lambda left,right:pd.merge(left,right,on=[\"ID\"],how=\"outer\"),customers_df)"
   ]
  },
  {
   "cell_type": "code",
   "execution_count": 7,
   "id": "a5a242a0",
   "metadata": {},
   "outputs": [],
   "source": [
    "# Notes data\n",
    "ath, dirs, files = next(os.walk(\"./database/note/\"))\n",
    "file_count_note = len(files)\n",
    "note_df = []\n",
    "for i in range(file_count_note):\n",
    "    temp_df = pd.read_excel(\"./database/note/\"+files[i])\n",
    "    note_df.append(temp_df)\n",
    "\n"
   ]
  },
  {
   "cell_type": "code",
   "execution_count": 8,
   "id": "270d50e8",
   "metadata": {},
   "outputs": [
    {
     "data": {
      "text/html": [
       "<div>\n",
       "<style scoped>\n",
       "    .dataframe tbody tr th:only-of-type {\n",
       "        vertical-align: middle;\n",
       "    }\n",
       "\n",
       "    .dataframe tbody tr th {\n",
       "        vertical-align: top;\n",
       "    }\n",
       "\n",
       "    .dataframe thead th {\n",
       "        text-align: right;\n",
       "    }\n",
       "</style>\n",
       "<table border=\"1\" class=\"dataframe\">\n",
       "  <thead>\n",
       "    <tr style=\"text-align: right;\">\n",
       "      <th></th>\n",
       "      <th>order_id</th>\n",
       "      <th>invoice_date</th>\n",
       "      <th>status</th>\n",
       "      <th>invoice_price</th>\n",
       "      <th>invoice_number</th>\n",
       "    </tr>\n",
       "  </thead>\n",
       "  <tbody>\n",
       "    <tr>\n",
       "      <th>0</th>\n",
       "      <td>51.0</td>\n",
       "      <td>2018-03-19</td>\n",
       "      <td>3.0</td>\n",
       "      <td>139000.0</td>\n",
       "      <td>1.0</td>\n",
       "    </tr>\n",
       "    <tr>\n",
       "      <th>1</th>\n",
       "      <td>51.0</td>\n",
       "      <td>2018-04-17</td>\n",
       "      <td>3.0</td>\n",
       "      <td>139000.0</td>\n",
       "      <td>2.0</td>\n",
       "    </tr>\n",
       "    <tr>\n",
       "      <th>2</th>\n",
       "      <td>51.0</td>\n",
       "      <td>2018-05-18</td>\n",
       "      <td>3.0</td>\n",
       "      <td>139000.0</td>\n",
       "      <td>3.0</td>\n",
       "    </tr>\n",
       "    <tr>\n",
       "      <th>3</th>\n",
       "      <td>51.0</td>\n",
       "      <td>2018-06-18</td>\n",
       "      <td>3.0</td>\n",
       "      <td>139000.0</td>\n",
       "      <td>4.0</td>\n",
       "    </tr>\n",
       "    <tr>\n",
       "      <th>4</th>\n",
       "      <td>51.0</td>\n",
       "      <td>2018-07-19</td>\n",
       "      <td>3.0</td>\n",
       "      <td>139000.0</td>\n",
       "      <td>5.0</td>\n",
       "    </tr>\n",
       "  </tbody>\n",
       "</table>\n",
       "</div>"
      ],
      "text/plain": [
       "   order_id invoice_date  status  invoice_price  invoice_number\n",
       "0      51.0   2018-03-19     3.0       139000.0             1.0\n",
       "1      51.0   2018-04-17     3.0       139000.0             2.0\n",
       "2      51.0   2018-05-18     3.0       139000.0             3.0\n",
       "3      51.0   2018-06-18     3.0       139000.0             4.0\n",
       "4      51.0   2018-07-19     3.0       139000.0             5.0"
      ]
     },
     "execution_count": 8,
     "metadata": {},
     "output_type": "execute_result"
    }
   ],
   "source": [
    "#invoeices data\n",
    "ath, dirs, files = next(os.walk(\"./database/order invoice/\"))\n",
    "file_count = len(files)\n",
    "invoices_df = []\n",
    "for i in range(file_count):\n",
    "    temp_df = pd.read_excel(ath+files[i])\n",
    "    invoices_df.append(temp_df)\n",
    "    \n",
    "invoices=pd.DataFrame()\n",
    "for i in range(file_count):\n",
    "    invoices[i]=(invoices_df[i])\n",
    "invoices = invoices.set_axis([\"order_id\",\"invoice_date\",\"status\",\"invoice_price\",\"invoice_number\"]\n",
    "                             ,axis=1)\n",
    "invoices.head()"
   ]
  },
  {
   "cell_type": "markdown",
   "id": "1913915e",
   "metadata": {},
   "source": [
    "#### Viewing and inspecting data \n",
    "After importing base tables for our analysis, first, start viewing data to find the perspective of our data inspecting for cleaning data. \n",
    "Such as key columns for index and merging being unique and for misrepresenting data for example `N/A  or NULL` values or columns we don't need for this project."
   ]
  },
  {
   "cell_type": "code",
   "execution_count": 9,
   "id": "c73e5b3f",
   "metadata": {},
   "outputs": [
    {
     "data": {
      "text/html": [
       "<div>\n",
       "<style scoped>\n",
       "    .dataframe tbody tr th:only-of-type {\n",
       "        vertical-align: middle;\n",
       "    }\n",
       "\n",
       "    .dataframe tbody tr th {\n",
       "        vertical-align: top;\n",
       "    }\n",
       "\n",
       "    .dataframe thead th {\n",
       "        text-align: right;\n",
       "    }\n",
       "</style>\n",
       "<table border=\"1\" class=\"dataframe\">\n",
       "  <thead>\n",
       "    <tr style=\"text-align: right;\">\n",
       "      <th></th>\n",
       "      <th>id</th>\n",
       "      <th>name</th>\n",
       "      <th>parent_id</th>\n",
       "      <th>description</th>\n",
       "      <th>order</th>\n",
       "      <th>slug</th>\n",
       "      <th>status</th>\n",
       "      <th>image</th>\n",
       "      <th>created_user_id</th>\n",
       "      <th>updated_user_id</th>\n",
       "      <th>created_at</th>\n",
       "      <th>updated_at</th>\n",
       "      <th>deleted_at</th>\n",
       "      <th>title</th>\n",
       "    </tr>\n",
       "  </thead>\n",
       "  <tbody>\n",
       "    <tr>\n",
       "      <th>0</th>\n",
       "      <td>1.0</td>\n",
       "      <td>دیجیتال</td>\n",
       "      <td>NaN</td>\n",
       "      <td>NaN</td>\n",
       "      <td>20.0</td>\n",
       "      <td>digital</td>\n",
       "      <td>1.0</td>\n",
       "      <td>/static/categories/IRC1/digital-devices-152921...</td>\n",
       "      <td>NaN</td>\n",
       "      <td>NaN</td>\n",
       "      <td>2018-06-17 05:30:01</td>\n",
       "      <td>2019-07-10 13:53:47</td>\n",
       "      <td>NaN</td>\n",
       "      <td>وسایل دیجیتال</td>\n",
       "    </tr>\n",
       "    <tr>\n",
       "      <th>1</th>\n",
       "      <td>2.0</td>\n",
       "      <td>موبایل</td>\n",
       "      <td>1.0</td>\n",
       "      <td>&lt;p&gt;در دنیای دیجیتال امروز که ارتباطات نقش مهمی...</td>\n",
       "      <td>1.0</td>\n",
       "      <td>mobile-phone</td>\n",
       "      <td>0.0</td>\n",
       "      <td>/static/categories/IRC2/mobile-phone-152921348...</td>\n",
       "      <td>NaN</td>\n",
       "      <td>NaN</td>\n",
       "      <td>2018-06-17 05:34:55</td>\n",
       "      <td>2019-01-01 11:04:48</td>\n",
       "      <td>NaN</td>\n",
       "      <td>خرید موبایل</td>\n",
       "    </tr>\n",
       "    <tr>\n",
       "      <th>2</th>\n",
       "      <td>3.0</td>\n",
       "      <td>تبلت</td>\n",
       "      <td>1.0</td>\n",
       "      <td>&lt;p&gt;اگر از کسانی هستید که به دلیل شغل و کار خود...</td>\n",
       "      <td>2.0</td>\n",
       "      <td>tablet</td>\n",
       "      <td>0.0</td>\n",
       "      <td>/static/categories/IRC3/tablet-1529214239-1200...</td>\n",
       "      <td>NaN</td>\n",
       "      <td>NaN</td>\n",
       "      <td>2018-06-17 05:45:18</td>\n",
       "      <td>2019-01-23 10:05:38</td>\n",
       "      <td>NaN</td>\n",
       "      <td>خرید تبلت</td>\n",
       "    </tr>\n",
       "  </tbody>\n",
       "</table>\n",
       "</div>"
      ],
      "text/plain": [
       "    id     name  parent_id                                        description  \\\n",
       "0  1.0  دیجیتال        NaN                                                NaN   \n",
       "1  2.0   موبایل        1.0  <p>در دنیای دیجیتال امروز که ارتباطات نقش مهمی...   \n",
       "2  3.0     تبلت        1.0  <p>اگر از کسانی هستید که به دلیل شغل و کار خود...   \n",
       "\n",
       "   order          slug  status  \\\n",
       "0   20.0       digital     1.0   \n",
       "1    1.0  mobile-phone     0.0   \n",
       "2    2.0        tablet     0.0   \n",
       "\n",
       "                                               image  created_user_id  \\\n",
       "0  /static/categories/IRC1/digital-devices-152921...              NaN   \n",
       "1  /static/categories/IRC2/mobile-phone-152921348...              NaN   \n",
       "2  /static/categories/IRC3/tablet-1529214239-1200...              NaN   \n",
       "\n",
       "   updated_user_id          created_at          updated_at  deleted_at  \\\n",
       "0              NaN 2018-06-17 05:30:01 2019-07-10 13:53:47         NaN   \n",
       "1              NaN 2018-06-17 05:34:55 2019-01-01 11:04:48         NaN   \n",
       "2              NaN 2018-06-17 05:45:18 2019-01-23 10:05:38         NaN   \n",
       "\n",
       "           title  \n",
       "0  وسایل دیجیتال  \n",
       "1    خرید موبایل  \n",
       "2      خرید تبلت  "
      ]
     },
     "execution_count": 9,
     "metadata": {},
     "output_type": "execute_result"
    }
   ],
   "source": [
    "categoires.head(3)"
   ]
  },
  {
   "cell_type": "code",
   "execution_count": 10,
   "id": "17926321",
   "metadata": {},
   "outputs": [
    {
     "data": {
      "text/plain": [
       "True"
      ]
     },
     "execution_count": 10,
     "metadata": {},
     "output_type": "execute_result"
    },
    {
     "data": {
      "text/plain": [
       "id                 False\n",
       "name               False\n",
       "parent_id           True\n",
       "description         True\n",
       "order              False\n",
       "slug               False\n",
       "status             False\n",
       "image               True\n",
       "created_user_id     True\n",
       "updated_user_id     True\n",
       "created_at         False\n",
       "updated_at         False\n",
       "deleted_at          True\n",
       "title               True\n",
       "dtype: bool"
      ]
     },
     "execution_count": 10,
     "metadata": {},
     "output_type": "execute_result"
    },
    {
     "name": "stdout",
     "output_type": "stream",
     "text": [
      "<class 'pandas.core.frame.DataFrame'>\n",
      "RangeIndex: 79 entries, 0 to 78\n",
      "Data columns (total 14 columns):\n",
      " #   Column           Non-Null Count  Dtype         \n",
      "---  ------           --------------  -----         \n",
      " 0   id               79 non-null     float64       \n",
      " 1   name             79 non-null     object        \n",
      " 2   parent_id        67 non-null     float64       \n",
      " 3   description      9 non-null      object        \n",
      " 4   order            79 non-null     float64       \n",
      " 5   slug             79 non-null     object        \n",
      " 6   status           79 non-null     float64       \n",
      " 7   image            75 non-null     object        \n",
      " 8   created_user_id  0 non-null      float64       \n",
      " 9   updated_user_id  0 non-null      float64       \n",
      " 10  created_at       79 non-null     datetime64[ns]\n",
      " 11  updated_at       79 non-null     datetime64[ns]\n",
      " 12  deleted_at       0 non-null      float64       \n",
      " 13  title            16 non-null     object        \n",
      "dtypes: datetime64[ns](2), float64(7), object(5)\n",
      "memory usage: 8.8+ KB\n"
     ]
    }
   ],
   "source": [
    "categoires['id'].is_unique\n",
    "categoires.isna().any()\n",
    "categoires.info()"
   ]
  },
  {
   "cell_type": "code",
   "execution_count": 11,
   "id": "fa0c6a45",
   "metadata": {},
   "outputs": [
    {
     "data": {
      "text/plain": [
       "True"
      ]
     },
     "execution_count": 11,
     "metadata": {},
     "output_type": "execute_result"
    },
    {
     "data": {
      "text/plain": [
       "id                 False\n",
       "name               False\n",
       "gmt_code            True\n",
       "code                True\n",
       "created_user_id     True\n",
       "updated_user_id     True\n",
       "created_at          True\n",
       "updated_at          True\n",
       "state_id           False\n",
       "dtype: bool"
      ]
     },
     "execution_count": 11,
     "metadata": {},
     "output_type": "execute_result"
    },
    {
     "name": "stdout",
     "output_type": "stream",
     "text": [
      "<class 'pandas.core.frame.DataFrame'>\n",
      "RangeIndex: 1230 entries, 0 to 1229\n",
      "Data columns (total 9 columns):\n",
      " #   Column           Non-Null Count  Dtype         \n",
      "---  ------           --------------  -----         \n",
      " 0   id               1230 non-null   int64         \n",
      " 1   name             1230 non-null   object        \n",
      " 2   gmt_code         0 non-null      float64       \n",
      " 3   code             32 non-null     float64       \n",
      " 4   created_user_id  0 non-null      float64       \n",
      " 5   updated_user_id  0 non-null      float64       \n",
      " 6   created_at       1168 non-null   datetime64[ns]\n",
      " 7   updated_at       1168 non-null   datetime64[ns]\n",
      " 8   state_id         1230 non-null   int64         \n",
      "dtypes: datetime64[ns](2), float64(4), int64(2), object(1)\n",
      "memory usage: 86.6+ KB\n"
     ]
    }
   ],
   "source": [
    "cities['id'].is_unique\n",
    "cities.isna().any()\n",
    "cities.info()"
   ]
  },
  {
   "cell_type": "code",
   "execution_count": 12,
   "id": "31dd9388",
   "metadata": {},
   "outputs": [
    {
     "data": {
      "text/html": [
       "<div>\n",
       "<style scoped>\n",
       "    .dataframe tbody tr th:only-of-type {\n",
       "        vertical-align: middle;\n",
       "    }\n",
       "\n",
       "    .dataframe tbody tr th {\n",
       "        vertical-align: top;\n",
       "    }\n",
       "\n",
       "    .dataframe thead th {\n",
       "        text-align: right;\n",
       "    }\n",
       "</style>\n",
       "<table border=\"1\" class=\"dataframe\">\n",
       "  <thead>\n",
       "    <tr style=\"text-align: right;\">\n",
       "      <th></th>\n",
       "      <th>order_id</th>\n",
       "      <th>product_item_id</th>\n",
       "      <th>price</th>\n",
       "      <th>prepayment</th>\n",
       "      <th>created_at</th>\n",
       "      <th>updated_at</th>\n",
       "    </tr>\n",
       "  </thead>\n",
       "  <tbody>\n",
       "    <tr>\n",
       "      <th>0</th>\n",
       "      <td>1.0</td>\n",
       "      <td>1.0</td>\n",
       "      <td>5400000.0</td>\n",
       "      <td>1400000.0</td>\n",
       "      <td>2018-06-20 08:35:34</td>\n",
       "      <td>2018-06-20 08:35:34</td>\n",
       "    </tr>\n",
       "    <tr>\n",
       "      <th>1</th>\n",
       "      <td>2.0</td>\n",
       "      <td>2.0</td>\n",
       "      <td>5400000.0</td>\n",
       "      <td>4899000.0</td>\n",
       "      <td>2018-06-20 10:29:10</td>\n",
       "      <td>2018-06-20 10:29:10</td>\n",
       "    </tr>\n",
       "    <tr>\n",
       "      <th>2</th>\n",
       "      <td>3.0</td>\n",
       "      <td>2.0</td>\n",
       "      <td>5400000.0</td>\n",
       "      <td>4899000.0</td>\n",
       "      <td>2018-06-20 11:41:48</td>\n",
       "      <td>2018-06-20 11:41:48</td>\n",
       "    </tr>\n",
       "    <tr>\n",
       "      <th>3</th>\n",
       "      <td>4.0</td>\n",
       "      <td>1.0</td>\n",
       "      <td>5400000.0</td>\n",
       "      <td>1400000.0</td>\n",
       "      <td>2018-06-21 06:49:12</td>\n",
       "      <td>2018-06-21 06:49:12</td>\n",
       "    </tr>\n",
       "    <tr>\n",
       "      <th>4</th>\n",
       "      <td>5.0</td>\n",
       "      <td>6.0</td>\n",
       "      <td>8000000.0</td>\n",
       "      <td>4000000.0</td>\n",
       "      <td>2018-06-23 04:35:51</td>\n",
       "      <td>2018-06-23 04:35:51</td>\n",
       "    </tr>\n",
       "  </tbody>\n",
       "</table>\n",
       "</div>"
      ],
      "text/plain": [
       "   order_id  product_item_id      price  prepayment          created_at  \\\n",
       "0       1.0              1.0  5400000.0   1400000.0 2018-06-20 08:35:34   \n",
       "1       2.0              2.0  5400000.0   4899000.0 2018-06-20 10:29:10   \n",
       "2       3.0              2.0  5400000.0   4899000.0 2018-06-20 11:41:48   \n",
       "3       4.0              1.0  5400000.0   1400000.0 2018-06-21 06:49:12   \n",
       "4       5.0              6.0  8000000.0   4000000.0 2018-06-23 04:35:51   \n",
       "\n",
       "           updated_at  \n",
       "0 2018-06-20 08:35:34  \n",
       "1 2018-06-20 10:29:10  \n",
       "2 2018-06-20 11:41:48  \n",
       "3 2018-06-21 06:49:12  \n",
       "4 2018-06-23 04:35:51  "
      ]
     },
     "execution_count": 12,
     "metadata": {},
     "output_type": "execute_result"
    }
   ],
   "source": [
    "order_items.head()"
   ]
  },
  {
   "cell_type": "code",
   "execution_count": 13,
   "id": "661752ba",
   "metadata": {},
   "outputs": [
    {
     "data": {
      "text/plain": [
       "False"
      ]
     },
     "execution_count": 13,
     "metadata": {},
     "output_type": "execute_result"
    },
    {
     "data": {
      "text/plain": [
       "order_id           False\n",
       "product_item_id    False\n",
       "price              False\n",
       "prepayment          True\n",
       "created_at         False\n",
       "updated_at         False\n",
       "dtype: bool"
      ]
     },
     "execution_count": 13,
     "metadata": {},
     "output_type": "execute_result"
    },
    {
     "name": "stdout",
     "output_type": "stream",
     "text": [
      "<class 'pandas.core.frame.DataFrame'>\n",
      "RangeIndex: 310362 entries, 0 to 310361\n",
      "Data columns (total 6 columns):\n",
      " #   Column           Non-Null Count   Dtype         \n",
      "---  ------           --------------   -----         \n",
      " 0   order_id         310362 non-null  float64       \n",
      " 1   product_item_id  310362 non-null  float64       \n",
      " 2   price            310362 non-null  float64       \n",
      " 3   prepayment       296331 non-null  float64       \n",
      " 4   created_at       310362 non-null  datetime64[ns]\n",
      " 5   updated_at       310362 non-null  datetime64[ns]\n",
      "dtypes: datetime64[ns](2), float64(4)\n",
      "memory usage: 14.2 MB\n"
     ]
    }
   ],
   "source": [
    "order_items['order_id'].is_unique\n",
    "order_items.isnull().any()\n",
    "order_items.info()"
   ]
  },
  {
   "cell_type": "code",
   "execution_count": 14,
   "id": "c40b4915",
   "metadata": {},
   "outputs": [
    {
     "data": {
      "text/html": [
       "<div>\n",
       "<style scoped>\n",
       "    .dataframe tbody tr th:only-of-type {\n",
       "        vertical-align: middle;\n",
       "    }\n",
       "\n",
       "    .dataframe tbody tr th {\n",
       "        vertical-align: top;\n",
       "    }\n",
       "\n",
       "    .dataframe thead th {\n",
       "        text-align: right;\n",
       "    }\n",
       "</style>\n",
       "<table border=\"1\" class=\"dataframe\">\n",
       "  <thead>\n",
       "    <tr style=\"text-align: right;\">\n",
       "      <th></th>\n",
       "      <th>Created At</th>\n",
       "      <th>Created User ID</th>\n",
       "      <th>Description</th>\n",
       "      <th>ID</th>\n",
       "      <th>Order ID</th>\n",
       "      <th>Reason</th>\n",
       "      <th>Updated At</th>\n",
       "      <th>Updated User ID</th>\n",
       "    </tr>\n",
       "  </thead>\n",
       "  <tbody>\n",
       "    <tr>\n",
       "      <th>0</th>\n",
       "      <td>2018-06-27 07:04:48</td>\n",
       "      <td>NaN</td>\n",
       "      <td>لغو توسط مشتری به علت دیرکرد در تامین</td>\n",
       "      <td>1.0</td>\n",
       "      <td>225.0</td>\n",
       "      <td>2.0</td>\n",
       "      <td>2018-06-27 07:04:48</td>\n",
       "      <td>NaN</td>\n",
       "    </tr>\n",
       "    <tr>\n",
       "      <th>1</th>\n",
       "      <td>2018-06-28 11:49:21</td>\n",
       "      <td>NaN</td>\n",
       "      <td>zxzxzxzx</td>\n",
       "      <td>2.0</td>\n",
       "      <td>369.0</td>\n",
       "      <td>1.0</td>\n",
       "      <td>2018-06-28 11:49:21</td>\n",
       "      <td>NaN</td>\n",
       "    </tr>\n",
       "    <tr>\n",
       "      <th>2</th>\n",
       "      <td>2018-06-30 10:59:23</td>\n",
       "      <td>NaN</td>\n",
       "      <td>تست</td>\n",
       "      <td>3.0</td>\n",
       "      <td>225.0</td>\n",
       "      <td>4.0</td>\n",
       "      <td>2018-06-30 10:59:23</td>\n",
       "      <td>NaN</td>\n",
       "    </tr>\n",
       "    <tr>\n",
       "      <th>3</th>\n",
       "      <td>2018-06-30 10:59:42</td>\n",
       "      <td>NaN</td>\n",
       "      <td>تست</td>\n",
       "      <td>4.0</td>\n",
       "      <td>356.0</td>\n",
       "      <td>4.0</td>\n",
       "      <td>2018-06-30 10:59:42</td>\n",
       "      <td>NaN</td>\n",
       "    </tr>\n",
       "    <tr>\n",
       "      <th>4</th>\n",
       "      <td>2018-06-30 11:01:06</td>\n",
       "      <td>NaN</td>\n",
       "      <td>تست</td>\n",
       "      <td>5.0</td>\n",
       "      <td>555.0</td>\n",
       "      <td>4.0</td>\n",
       "      <td>2018-06-30 11:01:06</td>\n",
       "      <td>NaN</td>\n",
       "    </tr>\n",
       "  </tbody>\n",
       "</table>\n",
       "</div>"
      ],
      "text/plain": [
       "           Created At  Created User ID                            Description  \\\n",
       "0 2018-06-27 07:04:48              NaN  لغو توسط مشتری به علت دیرکرد در تامین   \n",
       "1 2018-06-28 11:49:21              NaN                               zxzxzxzx   \n",
       "2 2018-06-30 10:59:23              NaN                                    تست   \n",
       "3 2018-06-30 10:59:42              NaN                                    تست   \n",
       "4 2018-06-30 11:01:06              NaN                                    تست   \n",
       "\n",
       "    ID  Order ID  Reason          Updated At  Updated User ID  \n",
       "0  1.0     225.0     2.0 2018-06-27 07:04:48              NaN  \n",
       "1  2.0     369.0     1.0 2018-06-28 11:49:21              NaN  \n",
       "2  3.0     225.0     4.0 2018-06-30 10:59:23              NaN  \n",
       "3  4.0     356.0     4.0 2018-06-30 10:59:42              NaN  \n",
       "4  5.0     555.0     4.0 2018-06-30 11:01:06              NaN  "
      ]
     },
     "execution_count": 14,
     "metadata": {},
     "output_type": "execute_result"
    }
   ],
   "source": [
    "order_reject.head()"
   ]
  },
  {
   "cell_type": "code",
   "execution_count": 15,
   "id": "402b8400",
   "metadata": {},
   "outputs": [
    {
     "data": {
      "text/plain": [
       "True"
      ]
     },
     "execution_count": 15,
     "metadata": {},
     "output_type": "execute_result"
    },
    {
     "data": {
      "text/plain": [
       "Created At         False\n",
       "Created User ID     True\n",
       "Description         True\n",
       "ID                 False\n",
       "Order ID           False\n",
       "Reason             False\n",
       "Updated At         False\n",
       "Updated User ID     True\n",
       "dtype: bool"
      ]
     },
     "execution_count": 15,
     "metadata": {},
     "output_type": "execute_result"
    },
    {
     "name": "stdout",
     "output_type": "stream",
     "text": [
      "<class 'pandas.core.frame.DataFrame'>\n",
      "RangeIndex: 235395 entries, 0 to 235394\n",
      "Data columns (total 8 columns):\n",
      " #   Column           Non-Null Count   Dtype         \n",
      "---  ------           --------------   -----         \n",
      " 0   Created At       235395 non-null  datetime64[ns]\n",
      " 1   Created User ID  0 non-null       float64       \n",
      " 2   Description      161811 non-null  object        \n",
      " 3   ID               235395 non-null  float64       \n",
      " 4   Order ID         235395 non-null  float64       \n",
      " 5   Reason           235395 non-null  float64       \n",
      " 6   Updated At       235395 non-null  datetime64[ns]\n",
      " 7   Updated User ID  0 non-null       float64       \n",
      "dtypes: datetime64[ns](2), float64(5), object(1)\n",
      "memory usage: 14.4+ MB\n"
     ]
    }
   ],
   "source": [
    "order_reject['ID'].is_unique\n",
    "order_reject.isnull().any()\n",
    "order_reject.info()"
   ]
  },
  {
   "cell_type": "code",
   "execution_count": 16,
   "id": "80776785",
   "metadata": {},
   "outputs": [
    {
     "data": {
      "text/html": [
       "<div>\n",
       "<style scoped>\n",
       "    .dataframe tbody tr th:only-of-type {\n",
       "        vertical-align: middle;\n",
       "    }\n",
       "\n",
       "    .dataframe tbody tr th {\n",
       "        vertical-align: top;\n",
       "    }\n",
       "\n",
       "    .dataframe thead th {\n",
       "        text-align: right;\n",
       "    }\n",
       "</style>\n",
       "<table border=\"1\" class=\"dataframe\">\n",
       "  <thead>\n",
       "    <tr style=\"text-align: right;\">\n",
       "      <th></th>\n",
       "      <th>id</th>\n",
       "      <th>user_id</th>\n",
       "      <th>total_amount</th>\n",
       "      <th>status</th>\n",
       "      <th>total_items_amount</th>\n",
       "      <th>is_lendo</th>\n",
       "    </tr>\n",
       "  </thead>\n",
       "  <tbody>\n",
       "    <tr>\n",
       "      <th>0</th>\n",
       "      <td>1.0</td>\n",
       "      <td>7.0</td>\n",
       "      <td>5400000.0</td>\n",
       "      <td>0.0</td>\n",
       "      <td>1813936.0</td>\n",
       "      <td>0.0</td>\n",
       "    </tr>\n",
       "    <tr>\n",
       "      <th>1</th>\n",
       "      <td>2.0</td>\n",
       "      <td>7.0</td>\n",
       "      <td>5400000.0</td>\n",
       "      <td>0.0</td>\n",
       "      <td>5035398.0</td>\n",
       "      <td>0.0</td>\n",
       "    </tr>\n",
       "    <tr>\n",
       "      <th>2</th>\n",
       "      <td>3.0</td>\n",
       "      <td>7.0</td>\n",
       "      <td>5400000.0</td>\n",
       "      <td>0.0</td>\n",
       "      <td>4950845.0</td>\n",
       "      <td>0.0</td>\n",
       "    </tr>\n",
       "    <tr>\n",
       "      <th>3</th>\n",
       "      <td>4.0</td>\n",
       "      <td>8.0</td>\n",
       "      <td>5400000.0</td>\n",
       "      <td>0.0</td>\n",
       "      <td>1813936.0</td>\n",
       "      <td>0.0</td>\n",
       "    </tr>\n",
       "    <tr>\n",
       "      <th>4</th>\n",
       "      <td>5.0</td>\n",
       "      <td>7.0</td>\n",
       "      <td>8000000.0</td>\n",
       "      <td>0.0</td>\n",
       "      <td>4413936.0</td>\n",
       "      <td>0.0</td>\n",
       "    </tr>\n",
       "  </tbody>\n",
       "</table>\n",
       "</div>"
      ],
      "text/plain": [
       "    id  user_id  total_amount  status  total_items_amount  is_lendo\n",
       "0  1.0      7.0     5400000.0     0.0           1813936.0       0.0\n",
       "1  2.0      7.0     5400000.0     0.0           5035398.0       0.0\n",
       "2  3.0      7.0     5400000.0     0.0           4950845.0       0.0\n",
       "3  4.0      8.0     5400000.0     0.0           1813936.0       0.0\n",
       "4  5.0      7.0     8000000.0     0.0           4413936.0       0.0"
      ]
     },
     "execution_count": 16,
     "metadata": {},
     "output_type": "execute_result"
    }
   ],
   "source": [
    "orders.head()"
   ]
  },
  {
   "cell_type": "code",
   "execution_count": 17,
   "id": "266a492c",
   "metadata": {},
   "outputs": [
    {
     "data": {
      "text/plain": [
       "True"
      ]
     },
     "execution_count": 17,
     "metadata": {},
     "output_type": "execute_result"
    },
    {
     "data": {
      "text/plain": [
       "id                    False\n",
       "user_id               False\n",
       "total_amount          False\n",
       "status                False\n",
       "total_items_amount    False\n",
       "is_lendo              False\n",
       "dtype: bool"
      ]
     },
     "execution_count": 17,
     "metadata": {},
     "output_type": "execute_result"
    },
    {
     "name": "stdout",
     "output_type": "stream",
     "text": [
      "<class 'pandas.core.frame.DataFrame'>\n",
      "RangeIndex: 310357 entries, 0 to 310356\n",
      "Data columns (total 6 columns):\n",
      " #   Column              Non-Null Count   Dtype  \n",
      "---  ------              --------------   -----  \n",
      " 0   id                  310357 non-null  float64\n",
      " 1   user_id             310357 non-null  float64\n",
      " 2   total_amount        310357 non-null  float64\n",
      " 3   status              310357 non-null  float64\n",
      " 4   total_items_amount  310357 non-null  float64\n",
      " 5   is_lendo            310357 non-null  float64\n",
      "dtypes: float64(6)\n",
      "memory usage: 14.2 MB\n"
     ]
    }
   ],
   "source": [
    "orders['id'].is_unique\n",
    "orders.isnull().any()\n",
    "orders.info()"
   ]
  },
  {
   "cell_type": "code",
   "execution_count": 18,
   "id": "450c7a07",
   "metadata": {},
   "outputs": [
    {
     "data": {
      "text/html": [
       "<div>\n",
       "<style scoped>\n",
       "    .dataframe tbody tr th:only-of-type {\n",
       "        vertical-align: middle;\n",
       "    }\n",
       "\n",
       "    .dataframe tbody tr th {\n",
       "        vertical-align: top;\n",
       "    }\n",
       "\n",
       "    .dataframe thead th {\n",
       "        text-align: right;\n",
       "    }\n",
       "</style>\n",
       "<table border=\"1\" class=\"dataframe\">\n",
       "  <thead>\n",
       "    <tr style=\"text-align: right;\">\n",
       "      <th></th>\n",
       "      <th>id</th>\n",
       "      <th>product_id</th>\n",
       "      <th>status</th>\n",
       "      <th>price</th>\n",
       "      <th>prepayment</th>\n",
       "      <th>warranty_id</th>\n",
       "      <th>color_id</th>\n",
       "      <th>size_id</th>\n",
       "      <th>vendor_id</th>\n",
       "      <th>qty</th>\n",
       "      <th>promotion_price</th>\n",
       "      <th>promotion_start</th>\n",
       "      <th>promotion_end</th>\n",
       "      <th>created_user_id</th>\n",
       "      <th>updated_user_id</th>\n",
       "      <th>created_at</th>\n",
       "      <th>updated_at</th>\n",
       "    </tr>\n",
       "  </thead>\n",
       "  <tbody>\n",
       "    <tr>\n",
       "      <th>0</th>\n",
       "      <td>1.0</td>\n",
       "      <td>1.0</td>\n",
       "      <td>1.0</td>\n",
       "      <td>10100000.0</td>\n",
       "      <td>5100000.0</td>\n",
       "      <td>1.0</td>\n",
       "      <td>2.0</td>\n",
       "      <td>NaN</td>\n",
       "      <td>1.0</td>\n",
       "      <td>NaN</td>\n",
       "      <td>NaN</td>\n",
       "      <td>NaT</td>\n",
       "      <td>NaT</td>\n",
       "      <td>NaN</td>\n",
       "      <td>NaN</td>\n",
       "      <td>2018-06-17 05:56:20</td>\n",
       "      <td>2019-02-02 15:26:49</td>\n",
       "    </tr>\n",
       "    <tr>\n",
       "      <th>1</th>\n",
       "      <td>2.0</td>\n",
       "      <td>1.0</td>\n",
       "      <td>0.0</td>\n",
       "      <td>10200000.0</td>\n",
       "      <td>5200000.0</td>\n",
       "      <td>1.0</td>\n",
       "      <td>1.0</td>\n",
       "      <td>NaN</td>\n",
       "      <td>1.0</td>\n",
       "      <td>NaN</td>\n",
       "      <td>NaN</td>\n",
       "      <td>2018-07-04 13:13:00</td>\n",
       "      <td>2018-07-08 10:15:00</td>\n",
       "      <td>NaN</td>\n",
       "      <td>NaN</td>\n",
       "      <td>2018-06-17 05:57:52</td>\n",
       "      <td>2019-02-02 15:27:55</td>\n",
       "    </tr>\n",
       "    <tr>\n",
       "      <th>2</th>\n",
       "      <td>3.0</td>\n",
       "      <td>2.0</td>\n",
       "      <td>1.0</td>\n",
       "      <td>17050000.0</td>\n",
       "      <td>12050000.0</td>\n",
       "      <td>2.0</td>\n",
       "      <td>5.0</td>\n",
       "      <td>NaN</td>\n",
       "      <td>1.0</td>\n",
       "      <td>NaN</td>\n",
       "      <td>NaN</td>\n",
       "      <td>NaT</td>\n",
       "      <td>NaT</td>\n",
       "      <td>NaN</td>\n",
       "      <td>NaN</td>\n",
       "      <td>2018-06-17 06:31:51</td>\n",
       "      <td>2019-02-23 10:14:55</td>\n",
       "    </tr>\n",
       "  </tbody>\n",
       "</table>\n",
       "</div>"
      ],
      "text/plain": [
       "    id  product_id  status       price  prepayment  warranty_id  color_id  \\\n",
       "0  1.0         1.0     1.0  10100000.0   5100000.0          1.0       2.0   \n",
       "1  2.0         1.0     0.0  10200000.0   5200000.0          1.0       1.0   \n",
       "2  3.0         2.0     1.0  17050000.0  12050000.0          2.0       5.0   \n",
       "\n",
       "   size_id  vendor_id  qty  promotion_price     promotion_start  \\\n",
       "0      NaN        1.0  NaN              NaN                 NaT   \n",
       "1      NaN        1.0  NaN              NaN 2018-07-04 13:13:00   \n",
       "2      NaN        1.0  NaN              NaN                 NaT   \n",
       "\n",
       "        promotion_end  created_user_id  updated_user_id          created_at  \\\n",
       "0                 NaT              NaN              NaN 2018-06-17 05:56:20   \n",
       "1 2018-07-08 10:15:00              NaN              NaN 2018-06-17 05:57:52   \n",
       "2                 NaT              NaN              NaN 2018-06-17 06:31:51   \n",
       "\n",
       "           updated_at  \n",
       "0 2019-02-02 15:26:49  \n",
       "1 2019-02-02 15:27:55  \n",
       "2 2019-02-23 10:14:55  "
      ]
     },
     "execution_count": 18,
     "metadata": {},
     "output_type": "execute_result"
    }
   ],
   "source": [
    "product_items.head(3)"
   ]
  },
  {
   "cell_type": "code",
   "execution_count": 19,
   "id": "f18149dc",
   "metadata": {},
   "outputs": [
    {
     "data": {
      "text/plain": [
       "True"
      ]
     },
     "execution_count": 19,
     "metadata": {},
     "output_type": "execute_result"
    },
    {
     "data": {
      "text/plain": [
       "False"
      ]
     },
     "execution_count": 19,
     "metadata": {},
     "output_type": "execute_result"
    },
    {
     "name": "stdout",
     "output_type": "stream",
     "text": [
      "<class 'pandas.core.frame.DataFrame'>\n",
      "RangeIndex: 6560 entries, 0 to 6559\n",
      "Data columns (total 17 columns):\n",
      " #   Column           Non-Null Count  Dtype         \n",
      "---  ------           --------------  -----         \n",
      " 0   id               6560 non-null   float64       \n",
      " 1   product_id       6560 non-null   float64       \n",
      " 2   status           6560 non-null   float64       \n",
      " 3   price            6560 non-null   float64       \n",
      " 4   prepayment       787 non-null    float64       \n",
      " 5   warranty_id      6560 non-null   float64       \n",
      " 6   color_id         6560 non-null   float64       \n",
      " 7   size_id          598 non-null    float64       \n",
      " 8   vendor_id        6560 non-null   float64       \n",
      " 9   qty              2602 non-null   float64       \n",
      " 10  promotion_price  1 non-null      float64       \n",
      " 11  promotion_start  84 non-null     datetime64[ns]\n",
      " 12  promotion_end    84 non-null     datetime64[ns]\n",
      " 13  created_user_id  0 non-null      float64       \n",
      " 14  updated_user_id  0 non-null      float64       \n",
      " 15  created_at       6560 non-null   datetime64[ns]\n",
      " 16  updated_at       6560 non-null   datetime64[ns]\n",
      "dtypes: datetime64[ns](4), float64(13)\n",
      "memory usage: 871.4 KB\n"
     ]
    }
   ],
   "source": [
    "product_items['id'].is_unique\n",
    "product_items['product_id'].is_unique\n",
    "product_items.info()"
   ]
  },
  {
   "cell_type": "code",
   "execution_count": 20,
   "id": "c1ed5cf0",
   "metadata": {},
   "outputs": [
    {
     "data": {
      "text/html": [
       "<div>\n",
       "<style scoped>\n",
       "    .dataframe tbody tr th:only-of-type {\n",
       "        vertical-align: middle;\n",
       "    }\n",
       "\n",
       "    .dataframe tbody tr th {\n",
       "        vertical-align: top;\n",
       "    }\n",
       "\n",
       "    .dataframe thead th {\n",
       "        text-align: right;\n",
       "    }\n",
       "</style>\n",
       "<table border=\"1\" class=\"dataframe\">\n",
       "  <thead>\n",
       "    <tr style=\"text-align: right;\">\n",
       "      <th></th>\n",
       "      <th>id</th>\n",
       "      <th>name</th>\n",
       "      <th>description</th>\n",
       "      <th>brand_id</th>\n",
       "      <th>insurance_percentage</th>\n",
       "      <th>default_product_item_id</th>\n",
       "      <th>search</th>\n",
       "      <th>slug</th>\n",
       "      <th>name_en</th>\n",
       "      <th>store_type</th>\n",
       "      <th>...</th>\n",
       "      <th>color_code</th>\n",
       "      <th>logo</th>\n",
       "      <th>second_logo</th>\n",
       "      <th>starting_cooperation_date</th>\n",
       "      <th>shop_supported_categories</th>\n",
       "      <th>short_desc</th>\n",
       "      <th>check_profit_rate</th>\n",
       "      <th>svg_logo</th>\n",
       "      <th>shop_directory_image</th>\n",
       "      <th>commission</th>\n",
       "    </tr>\n",
       "  </thead>\n",
       "  <tbody>\n",
       "    <tr>\n",
       "      <th>0</th>\n",
       "      <td>1.0</td>\n",
       "      <td>گوشی موبایل اپل مدل iPhone 8 ظرفیت 64 گیگابایت</td>\n",
       "      <td>&lt;p dir=\"RTL\"&gt;با ورود گوشی موبایل اپل مدل iPhon...</td>\n",
       "      <td>1.0</td>\n",
       "      <td>10.0</td>\n",
       "      <td>238.0</td>\n",
       "      <td>گوشی موبایل اپل مدل iPhone 8 ظرفیت 64 گیگابایت...</td>\n",
       "      <td>apple-iphone-8-64gb-mobile-phone</td>\n",
       "      <td>NaN</td>\n",
       "      <td>VOUCHER</td>\n",
       "      <td>...</td>\n",
       "      <td>NaN</td>\n",
       "      <td>NaN</td>\n",
       "      <td>NaN</td>\n",
       "      <td>NaT</td>\n",
       "      <td>NaN</td>\n",
       "      <td>NaN</td>\n",
       "      <td>0.0</td>\n",
       "      <td>NaN</td>\n",
       "      <td>NaN</td>\n",
       "      <td>NaN</td>\n",
       "    </tr>\n",
       "    <tr>\n",
       "      <th>1</th>\n",
       "      <td>2.0</td>\n",
       "      <td>لپ تاپ اپل مدل MacBook MNYF2 2017 12 inch</td>\n",
       "      <td>NaN</td>\n",
       "      <td>1.0</td>\n",
       "      <td>10.0</td>\n",
       "      <td>3.0</td>\n",
       "      <td>Apple MacBook MNYF2 2017 12 inch Laptop - لپ ت...</td>\n",
       "      <td>apple-macbook-mnyf2-2017-12-inch-laptop</td>\n",
       "      <td>NaN</td>\n",
       "      <td>VOUCHER</td>\n",
       "      <td>...</td>\n",
       "      <td>NaN</td>\n",
       "      <td>NaN</td>\n",
       "      <td>NaN</td>\n",
       "      <td>NaT</td>\n",
       "      <td>NaN</td>\n",
       "      <td>NaN</td>\n",
       "      <td>0.0</td>\n",
       "      <td>NaN</td>\n",
       "      <td>NaN</td>\n",
       "      <td>NaN</td>\n",
       "    </tr>\n",
       "  </tbody>\n",
       "</table>\n",
       "<p>2 rows × 35 columns</p>\n",
       "</div>"
      ],
      "text/plain": [
       "    id                                            name  \\\n",
       "0  1.0  گوشی موبایل اپل مدل iPhone 8 ظرفیت 64 گیگابایت   \n",
       "1  2.0       لپ تاپ اپل مدل MacBook MNYF2 2017 12 inch   \n",
       "\n",
       "                                         description  brand_id  \\\n",
       "0  <p dir=\"RTL\">با ورود گوشی موبایل اپل مدل iPhon...       1.0   \n",
       "1                                                NaN       1.0   \n",
       "\n",
       "   insurance_percentage  default_product_item_id  \\\n",
       "0                  10.0                    238.0   \n",
       "1                  10.0                      3.0   \n",
       "\n",
       "                                              search  \\\n",
       "0  گوشی موبایل اپل مدل iPhone 8 ظرفیت 64 گیگابایت...   \n",
       "1  Apple MacBook MNYF2 2017 12 inch Laptop - لپ ت...   \n",
       "\n",
       "                                      slug  name_en store_type  ...  \\\n",
       "0         apple-iphone-8-64gb-mobile-phone      NaN    VOUCHER  ...   \n",
       "1  apple-macbook-mnyf2-2017-12-inch-laptop      NaN    VOUCHER  ...   \n",
       "\n",
       "   color_code  logo  second_logo  starting_cooperation_date  \\\n",
       "0         NaN   NaN          NaN                        NaT   \n",
       "1         NaN   NaN          NaN                        NaT   \n",
       "\n",
       "   shop_supported_categories short_desc check_profit_rate  svg_logo  \\\n",
       "0                        NaN        NaN               0.0       NaN   \n",
       "1                        NaN        NaN               0.0       NaN   \n",
       "\n",
       "   shop_directory_image  commission  \n",
       "0                   NaN         NaN  \n",
       "1                   NaN         NaN  \n",
       "\n",
       "[2 rows x 35 columns]"
      ]
     },
     "execution_count": 20,
     "metadata": {},
     "output_type": "execute_result"
    }
   ],
   "source": [
    "products.head(2)"
   ]
  },
  {
   "cell_type": "code",
   "execution_count": 21,
   "id": "e1e925b2",
   "metadata": {},
   "outputs": [
    {
     "data": {
      "text/plain": [
       "True"
      ]
     },
     "execution_count": 21,
     "metadata": {},
     "output_type": "execute_result"
    },
    {
     "name": "stdout",
     "output_type": "stream",
     "text": [
      "<class 'pandas.core.frame.DataFrame'>\n",
      "RangeIndex: 5352 entries, 0 to 5351\n",
      "Data columns (total 35 columns):\n",
      " #   Column                     Non-Null Count  Dtype         \n",
      "---  ------                     --------------  -----         \n",
      " 0   id                         5352 non-null   float64       \n",
      " 1   name                       5351 non-null   object        \n",
      " 2   description                475 non-null    object        \n",
      " 3   brand_id                   4627 non-null   float64       \n",
      " 4   insurance_percentage       4226 non-null   float64       \n",
      " 5   default_product_item_id    5342 non-null   float64       \n",
      " 6   search                     4636 non-null   object        \n",
      " 7   slug                       5352 non-null   object        \n",
      " 8   name_en                    0 non-null      float64       \n",
      " 9   store_type                 5352 non-null   object        \n",
      " 10  status                     5352 non-null   float64       \n",
      " 11  order                      1116 non-null   float64       \n",
      " 12  prepayment                 209 non-null    float64       \n",
      " 13  created_user_id            0 non-null      float64       \n",
      " 14  updated_user_id            0 non-null      float64       \n",
      " 15  created_at                 5352 non-null   datetime64[ns]\n",
      " 16  updated_at                 5352 non-null   datetime64[ns]\n",
      " 17  deleted_at                 0 non-null      float64       \n",
      " 18  visit_count                5352 non-null   float64       \n",
      " 19  order_count                5352 non-null   float64       \n",
      " 20  profit_rate                5352 non-null   float64       \n",
      " 21  website_url                1115 non-null   object        \n",
      " 22  domain                     1115 non-null   object        \n",
      " 23  api_key                    1 non-null      object        \n",
      " 24  sheba_number               412 non-null    object        \n",
      " 25  color_code                 390 non-null    object        \n",
      " 26  logo                       390 non-null    object        \n",
      " 27  second_logo                390 non-null    object        \n",
      " 28  starting_cooperation_date  1114 non-null   datetime64[ns]\n",
      " 29  shop_supported_categories  62 non-null     object        \n",
      " 30  short_desc                 1112 non-null   object        \n",
      " 31  check_profit_rate          5352 non-null   float64       \n",
      " 32  svg_logo                   1091 non-null   object        \n",
      " 33  shop_directory_image       998 non-null    object        \n",
      " 34  commission                 0 non-null      float64       \n",
      "dtypes: datetime64[ns](3), float64(16), object(16)\n",
      "memory usage: 1.4+ MB\n"
     ]
    }
   ],
   "source": [
    "products['id'].is_unique\n",
    "products.info()"
   ]
  },
  {
   "cell_type": "code",
   "execution_count": 22,
   "id": "f2d5027f",
   "metadata": {},
   "outputs": [
    {
     "data": {
      "text/html": [
       "<div>\n",
       "<style scoped>\n",
       "    .dataframe tbody tr th:only-of-type {\n",
       "        vertical-align: middle;\n",
       "    }\n",
       "\n",
       "    .dataframe tbody tr th {\n",
       "        vertical-align: top;\n",
       "    }\n",
       "\n",
       "    .dataframe thead th {\n",
       "        text-align: right;\n",
       "    }\n",
       "</style>\n",
       "<table border=\"1\" class=\"dataframe\">\n",
       "  <thead>\n",
       "    <tr style=\"text-align: right;\">\n",
       "      <th></th>\n",
       "      <th>Content</th>\n",
       "      <th>Created At</th>\n",
       "      <th>ID</th>\n",
       "      <th>Status</th>\n",
       "      <th>Updated At</th>\n",
       "    </tr>\n",
       "  </thead>\n",
       "  <tbody>\n",
       "    <tr>\n",
       "      <th>0</th>\n",
       "      <td>بارگذاری تصویر روی کارت ملی</td>\n",
       "      <td>2021-10-03 14:15:40</td>\n",
       "      <td>25.0</td>\n",
       "      <td>IDENTITY_CONFIRMED</td>\n",
       "      <td>2021-10-04 11:58:52</td>\n",
       "    </tr>\n",
       "    <tr>\n",
       "      <th>1</th>\n",
       "      <td>اصلاح تصویر واضح روی کارت ملی</td>\n",
       "      <td>2021-10-03 14:15:52</td>\n",
       "      <td>26.0</td>\n",
       "      <td>IDENTITY_CONFIRMED</td>\n",
       "      <td>2021-11-03 12:01:25</td>\n",
       "    </tr>\n",
       "    <tr>\n",
       "      <th>2</th>\n",
       "      <td>بارگذاری تصویر پشت کارت ملی</td>\n",
       "      <td>2021-10-03 14:16:22</td>\n",
       "      <td>27.0</td>\n",
       "      <td>IDENTITY_CONFIRMED</td>\n",
       "      <td>2021-11-03 12:01:37</td>\n",
       "    </tr>\n",
       "    <tr>\n",
       "      <th>3</th>\n",
       "      <td>اصلاح تصویر واضح پشت کارت ملی</td>\n",
       "      <td>2021-10-03 14:16:32</td>\n",
       "      <td>28.0</td>\n",
       "      <td>IDENTITY_CONFIRMED</td>\n",
       "      <td>2021-11-03 12:01:49</td>\n",
       "    </tr>\n",
       "    <tr>\n",
       "      <th>4</th>\n",
       "      <td>بارگذاری تصویر صفحه اول شناسنامه</td>\n",
       "      <td>2021-10-03 14:54:08</td>\n",
       "      <td>29.0</td>\n",
       "      <td>IDENTITY_CONFIRMED</td>\n",
       "      <td>2021-11-03 12:02:02</td>\n",
       "    </tr>\n",
       "  </tbody>\n",
       "</table>\n",
       "</div>"
      ],
      "text/plain": [
       "                            Content          Created At    ID  \\\n",
       "0       بارگذاری تصویر روی کارت ملی 2021-10-03 14:15:40  25.0   \n",
       "1     اصلاح تصویر واضح روی کارت ملی 2021-10-03 14:15:52  26.0   \n",
       "2       بارگذاری تصویر پشت کارت ملی 2021-10-03 14:16:22  27.0   \n",
       "3     اصلاح تصویر واضح پشت کارت ملی 2021-10-03 14:16:32  28.0   \n",
       "4  بارگذاری تصویر صفحه اول شناسنامه 2021-10-03 14:54:08  29.0   \n",
       "\n",
       "               Status          Updated At  \n",
       "0  IDENTITY_CONFIRMED 2021-10-04 11:58:52  \n",
       "1  IDENTITY_CONFIRMED 2021-11-03 12:01:25  \n",
       "2  IDENTITY_CONFIRMED 2021-11-03 12:01:37  \n",
       "3  IDENTITY_CONFIRMED 2021-11-03 12:01:49  \n",
       "4  IDENTITY_CONFIRMED 2021-11-03 12:02:02  "
      ]
     },
     "execution_count": 22,
     "metadata": {},
     "output_type": "execute_result"
    }
   ],
   "source": [
    "reasons.head()"
   ]
  },
  {
   "cell_type": "code",
   "execution_count": 23,
   "id": "5b2fd89a",
   "metadata": {},
   "outputs": [
    {
     "data": {
      "text/plain": [
       "True"
      ]
     },
     "execution_count": 23,
     "metadata": {},
     "output_type": "execute_result"
    },
    {
     "name": "stdout",
     "output_type": "stream",
     "text": [
      "<class 'pandas.core.frame.DataFrame'>\n",
      "RangeIndex: 22 entries, 0 to 21\n",
      "Data columns (total 5 columns):\n",
      " #   Column      Non-Null Count  Dtype         \n",
      "---  ------      --------------  -----         \n",
      " 0   Content     22 non-null     object        \n",
      " 1   Created At  22 non-null     datetime64[ns]\n",
      " 2   ID          22 non-null     float64       \n",
      " 3   Status      22 non-null     object        \n",
      " 4   Updated At  22 non-null     datetime64[ns]\n",
      "dtypes: datetime64[ns](2), float64(1), object(2)\n",
      "memory usage: 1008.0+ bytes\n"
     ]
    }
   ],
   "source": [
    "reasons['ID'].is_unique\n",
    "reasons.info()"
   ]
  },
  {
   "cell_type": "code",
   "execution_count": 24,
   "id": "d1d51025",
   "metadata": {},
   "outputs": [
    {
     "data": {
      "text/html": [
       "<div>\n",
       "<style scoped>\n",
       "    .dataframe tbody tr th:only-of-type {\n",
       "        vertical-align: middle;\n",
       "    }\n",
       "\n",
       "    .dataframe tbody tr th {\n",
       "        vertical-align: top;\n",
       "    }\n",
       "\n",
       "    .dataframe thead th {\n",
       "        text-align: right;\n",
       "    }\n",
       "</style>\n",
       "<table border=\"1\" class=\"dataframe\">\n",
       "  <thead>\n",
       "    <tr style=\"text-align: right;\">\n",
       "      <th></th>\n",
       "      <th>Api Token</th>\n",
       "      <th>Created At</th>\n",
       "      <th>Created User ID</th>\n",
       "      <th>Current Login</th>\n",
       "      <th>Deleted At</th>\n",
       "      <th>Email</th>\n",
       "      <th>Full Name</th>\n",
       "      <th>ID</th>\n",
       "      <th>Job Title</th>\n",
       "      <th>Last Login</th>\n",
       "      <th>Mobile</th>\n",
       "      <th>Password</th>\n",
       "      <th>Remember Token</th>\n",
       "      <th>Role ID</th>\n",
       "      <th>Updated At</th>\n",
       "      <th>Updated User ID</th>\n",
       "    </tr>\n",
       "  </thead>\n",
       "  <tbody>\n",
       "    <tr>\n",
       "      <th>0</th>\n",
       "      <td>kjZHuvEHTeqei2XEB04qItjogvD1V8QMu3KPSIbrJRXxiW...</td>\n",
       "      <td>2018-06-08 13:41:35</td>\n",
       "      <td>NaN</td>\n",
       "      <td>NaN</td>\n",
       "      <td>NaT</td>\n",
       "      <td>farhad@iranrenter.com</td>\n",
       "      <td>farhad zand</td>\n",
       "      <td>1.0</td>\n",
       "      <td>2</td>\n",
       "      <td>NaN</td>\n",
       "      <td>9.120724e+09</td>\n",
       "      <td>$2y$10$Obv39xcce5RDgrmEho9/nu2E5S6Y4zyIhXPXA.Z...</td>\n",
       "      <td>ApbwIIgkjd3NlAJyHKklpoyUpxR4dzyVXJwSIqXvFoVU8p...</td>\n",
       "      <td>0.0</td>\n",
       "      <td>2021-12-15 12:07:27</td>\n",
       "      <td>NaN</td>\n",
       "    </tr>\n",
       "    <tr>\n",
       "      <th>1</th>\n",
       "      <td>QRTTTYcMUzBIRkQoiDmQpNeCgOqvsn04opDEPpX1hzCQZr...</td>\n",
       "      <td>2018-06-17 04:37:52</td>\n",
       "      <td>NaN</td>\n",
       "      <td>NaN</td>\n",
       "      <td>2022-05-30 14:11:30</td>\n",
       "      <td>nasri@iranrenter.com</td>\n",
       "      <td>خانم نصری</td>\n",
       "      <td>17.0</td>\n",
       "      <td>1</td>\n",
       "      <td>NaN</td>\n",
       "      <td>NaN</td>\n",
       "      <td>$2y$12$aAtcanRedcyGYkHy.Ofxy.F2j8BbF5QWcA/</td>\n",
       "      <td>NaN</td>\n",
       "      <td>0.0</td>\n",
       "      <td>2022-05-30 14:11:30</td>\n",
       "      <td>NaN</td>\n",
       "    </tr>\n",
       "    <tr>\n",
       "      <th>2</th>\n",
       "      <td>C2njefkaC7ZTGPAJEklBmVDeI5ybMobuHwqSD38d5kbcaW...</td>\n",
       "      <td>2018-06-17 04:38:19</td>\n",
       "      <td>NaN</td>\n",
       "      <td>NaN</td>\n",
       "      <td>2022-05-30 14:11:21</td>\n",
       "      <td>mohammadi@iranrenter.com</td>\n",
       "      <td>خانم محمدی</td>\n",
       "      <td>18.0</td>\n",
       "      <td>1</td>\n",
       "      <td>NaN</td>\n",
       "      <td>NaN</td>\n",
       "      <td>$2y$10$Xjf4jMMisYLu8w6oTelYYORpzYhVDCNsgFhJIXo...</td>\n",
       "      <td>NaN</td>\n",
       "      <td>0.0</td>\n",
       "      <td>2022-05-30 14:11:21</td>\n",
       "      <td>NaN</td>\n",
       "    </tr>\n",
       "    <tr>\n",
       "      <th>3</th>\n",
       "      <td>BiKh2eLLIvTeGKiNEyBm7uhXwHVPHQ8gtL1Fbz0LzZeg5m...</td>\n",
       "      <td>2018-06-26 08:22:50</td>\n",
       "      <td>NaN</td>\n",
       "      <td>NaN</td>\n",
       "      <td>2022-05-30 15:04:38</td>\n",
       "      <td>negar.hojatpanah@gmail.com</td>\n",
       "      <td>نگار حجت پناه</td>\n",
       "      <td>19.0</td>\n",
       "      <td>1</td>\n",
       "      <td>NaN</td>\n",
       "      <td>NaN</td>\n",
       "      <td>$2y$12$aAtcanRedcyGYkHy.Ofxy.F2j8BbF5QWcA/m4S6...</td>\n",
       "      <td>NaN</td>\n",
       "      <td>0.0</td>\n",
       "      <td>2022-05-30 15:04:38</td>\n",
       "      <td>NaN</td>\n",
       "    </tr>\n",
       "    <tr>\n",
       "      <th>4</th>\n",
       "      <td>kYaH882SknKraCooAcEYH6VQ67mAq96q9CxeywNVKomYB4...</td>\n",
       "      <td>2018-06-26 09:06:06</td>\n",
       "      <td>NaN</td>\n",
       "      <td>NaN</td>\n",
       "      <td>2022-05-30 14:50:03</td>\n",
       "      <td>fariba@gmail.com</td>\n",
       "      <td>فریبا اصفهانی</td>\n",
       "      <td>20.0</td>\n",
       "      <td>1</td>\n",
       "      <td>NaN</td>\n",
       "      <td>NaN</td>\n",
       "      <td>NaN</td>\n",
       "      <td>NaN</td>\n",
       "      <td>0.0</td>\n",
       "      <td>2022-05-30 14:50:03</td>\n",
       "      <td>NaN</td>\n",
       "    </tr>\n",
       "  </tbody>\n",
       "</table>\n",
       "</div>"
      ],
      "text/plain": [
       "                                           Api Token          Created At  \\\n",
       "0  kjZHuvEHTeqei2XEB04qItjogvD1V8QMu3KPSIbrJRXxiW... 2018-06-08 13:41:35   \n",
       "1  QRTTTYcMUzBIRkQoiDmQpNeCgOqvsn04opDEPpX1hzCQZr... 2018-06-17 04:37:52   \n",
       "2  C2njefkaC7ZTGPAJEklBmVDeI5ybMobuHwqSD38d5kbcaW... 2018-06-17 04:38:19   \n",
       "3  BiKh2eLLIvTeGKiNEyBm7uhXwHVPHQ8gtL1Fbz0LzZeg5m... 2018-06-26 08:22:50   \n",
       "4  kYaH882SknKraCooAcEYH6VQ67mAq96q9CxeywNVKomYB4... 2018-06-26 09:06:06   \n",
       "\n",
       "   Created User ID  Current Login          Deleted At  \\\n",
       "0              NaN            NaN                 NaT   \n",
       "1              NaN            NaN 2022-05-30 14:11:30   \n",
       "2              NaN            NaN 2022-05-30 14:11:21   \n",
       "3              NaN            NaN 2022-05-30 15:04:38   \n",
       "4              NaN            NaN 2022-05-30 14:50:03   \n",
       "\n",
       "                        Email      Full Name    ID  Job Title  Last Login  \\\n",
       "0       farhad@iranrenter.com    farhad zand   1.0          2         NaN   \n",
       "1        nasri@iranrenter.com      خانم نصری  17.0          1         NaN   \n",
       "2    mohammadi@iranrenter.com     خانم محمدی  18.0          1         NaN   \n",
       "3  negar.hojatpanah@gmail.com  نگار حجت پناه  19.0          1         NaN   \n",
       "4            fariba@gmail.com  فریبا اصفهانی  20.0          1         NaN   \n",
       "\n",
       "         Mobile                                           Password  \\\n",
       "0  9.120724e+09  $2y$10$Obv39xcce5RDgrmEho9/nu2E5S6Y4zyIhXPXA.Z...   \n",
       "1           NaN         $2y$12$aAtcanRedcyGYkHy.Ofxy.F2j8BbF5QWcA/   \n",
       "2           NaN  $2y$10$Xjf4jMMisYLu8w6oTelYYORpzYhVDCNsgFhJIXo...   \n",
       "3           NaN  $2y$12$aAtcanRedcyGYkHy.Ofxy.F2j8BbF5QWcA/m4S6...   \n",
       "4           NaN                                                NaN   \n",
       "\n",
       "                                      Remember Token  Role ID  \\\n",
       "0  ApbwIIgkjd3NlAJyHKklpoyUpxR4dzyVXJwSIqXvFoVU8p...      0.0   \n",
       "1                                                NaN      0.0   \n",
       "2                                                NaN      0.0   \n",
       "3                                                NaN      0.0   \n",
       "4                                                NaN      0.0   \n",
       "\n",
       "           Updated At  Updated User ID  \n",
       "0 2021-12-15 12:07:27              NaN  \n",
       "1 2022-05-30 14:11:30              NaN  \n",
       "2 2022-05-30 14:11:21              NaN  \n",
       "3 2022-05-30 15:04:38              NaN  \n",
       "4 2022-05-30 14:50:03              NaN  "
      ]
     },
     "execution_count": 24,
     "metadata": {},
     "output_type": "execute_result"
    }
   ],
   "source": [
    "users.head()"
   ]
  },
  {
   "cell_type": "code",
   "execution_count": 25,
   "id": "ab579b44",
   "metadata": {},
   "outputs": [
    {
     "data": {
      "text/plain": [
       "True"
      ]
     },
     "execution_count": 25,
     "metadata": {},
     "output_type": "execute_result"
    },
    {
     "name": "stdout",
     "output_type": "stream",
     "text": [
      "<class 'pandas.core.frame.DataFrame'>\n",
      "RangeIndex: 312 entries, 0 to 311\n",
      "Data columns (total 16 columns):\n",
      " #   Column           Non-Null Count  Dtype         \n",
      "---  ------           --------------  -----         \n",
      " 0   Api Token        296 non-null    object        \n",
      " 1   Created At       312 non-null    datetime64[ns]\n",
      " 2   Created User ID  0 non-null      float64       \n",
      " 3   Current Login    0 non-null      float64       \n",
      " 4   Deleted At       221 non-null    datetime64[ns]\n",
      " 5   Email            312 non-null    object        \n",
      " 6   Full Name        312 non-null    object        \n",
      " 7   ID               312 non-null    float64       \n",
      " 8   Job Title        312 non-null    int64         \n",
      " 9   Last Login       0 non-null      float64       \n",
      " 10  Mobile           1 non-null      float64       \n",
      " 11  Password         298 non-null    object        \n",
      " 12  Remember Token   9 non-null      object        \n",
      " 13  Role ID          312 non-null    float64       \n",
      " 14  Updated At       312 non-null    datetime64[ns]\n",
      " 15  Updated User ID  0 non-null      float64       \n",
      "dtypes: datetime64[ns](3), float64(7), int64(1), object(5)\n",
      "memory usage: 39.1+ KB\n"
     ]
    }
   ],
   "source": [
    "users['ID'].is_unique\n",
    "users.info()"
   ]
  },
  {
   "cell_type": "code",
   "execution_count": 26,
   "id": "6132b56c",
   "metadata": {},
   "outputs": [
    {
     "data": {
      "text/html": [
       "<div>\n",
       "<style scoped>\n",
       "    .dataframe tbody tr th:only-of-type {\n",
       "        vertical-align: middle;\n",
       "    }\n",
       "\n",
       "    .dataframe tbody tr th {\n",
       "        vertical-align: top;\n",
       "    }\n",
       "\n",
       "    .dataframe thead th {\n",
       "        text-align: right;\n",
       "    }\n",
       "</style>\n",
       "<table border=\"1\" class=\"dataframe\">\n",
       "  <thead>\n",
       "    <tr style=\"text-align: right;\">\n",
       "      <th></th>\n",
       "      <th>Created At</th>\n",
       "      <th>Created User ID</th>\n",
       "      <th>ID</th>\n",
       "      <th>Name</th>\n",
       "      <th>Updated At</th>\n",
       "      <th>Updated User ID</th>\n",
       "    </tr>\n",
       "  </thead>\n",
       "  <tbody>\n",
       "    <tr>\n",
       "      <th>0</th>\n",
       "      <td>NaN</td>\n",
       "      <td>NaN</td>\n",
       "      <td>1.0</td>\n",
       "      <td>تهران</td>\n",
       "      <td>NaN</td>\n",
       "      <td>NaN</td>\n",
       "    </tr>\n",
       "    <tr>\n",
       "      <th>1</th>\n",
       "      <td>NaN</td>\n",
       "      <td>NaN</td>\n",
       "      <td>2.0</td>\n",
       "      <td>البرز</td>\n",
       "      <td>NaN</td>\n",
       "      <td>NaN</td>\n",
       "    </tr>\n",
       "    <tr>\n",
       "      <th>2</th>\n",
       "      <td>NaN</td>\n",
       "      <td>NaN</td>\n",
       "      <td>3.0</td>\n",
       "      <td>خراسان رضوی</td>\n",
       "      <td>NaN</td>\n",
       "      <td>NaN</td>\n",
       "    </tr>\n",
       "    <tr>\n",
       "      <th>3</th>\n",
       "      <td>NaN</td>\n",
       "      <td>NaN</td>\n",
       "      <td>4.0</td>\n",
       "      <td>قم</td>\n",
       "      <td>NaN</td>\n",
       "      <td>NaN</td>\n",
       "    </tr>\n",
       "    <tr>\n",
       "      <th>4</th>\n",
       "      <td>NaN</td>\n",
       "      <td>NaN</td>\n",
       "      <td>5.0</td>\n",
       "      <td>اصفهان</td>\n",
       "      <td>NaN</td>\n",
       "      <td>NaN</td>\n",
       "    </tr>\n",
       "  </tbody>\n",
       "</table>\n",
       "</div>"
      ],
      "text/plain": [
       "   Created At  Created User ID   ID         Name  Updated At  Updated User ID\n",
       "0         NaN              NaN  1.0        تهران         NaN              NaN\n",
       "1         NaN              NaN  2.0        البرز         NaN              NaN\n",
       "2         NaN              NaN  3.0  خراسان رضوی         NaN              NaN\n",
       "3         NaN              NaN  4.0           قم         NaN              NaN\n",
       "4         NaN              NaN  5.0       اصفهان         NaN              NaN"
      ]
     },
     "execution_count": 26,
     "metadata": {},
     "output_type": "execute_result"
    }
   ],
   "source": [
    "provience.head()"
   ]
  },
  {
   "cell_type": "code",
   "execution_count": 27,
   "id": "ba8f0737",
   "metadata": {},
   "outputs": [
    {
     "data": {
      "text/plain": [
       "True"
      ]
     },
     "execution_count": 27,
     "metadata": {},
     "output_type": "execute_result"
    },
    {
     "name": "stdout",
     "output_type": "stream",
     "text": [
      "<class 'pandas.core.frame.DataFrame'>\n",
      "RangeIndex: 53 entries, 0 to 52\n",
      "Data columns (total 6 columns):\n",
      " #   Column           Non-Null Count  Dtype  \n",
      "---  ------           --------------  -----  \n",
      " 0   Created At       0 non-null      float64\n",
      " 1   Created User ID  0 non-null      float64\n",
      " 2   ID               53 non-null     float64\n",
      " 3   Name             53 non-null     object \n",
      " 4   Updated At       0 non-null      float64\n",
      " 5   Updated User ID  0 non-null      float64\n",
      "dtypes: float64(5), object(1)\n",
      "memory usage: 2.6+ KB\n"
     ]
    }
   ],
   "source": [
    "provience['ID'].is_unique\n",
    "provience.info()"
   ]
  },
  {
   "cell_type": "code",
   "execution_count": 28,
   "id": "ac8e1dec",
   "metadata": {},
   "outputs": [
    {
     "data": {
      "text/html": [
       "<div>\n",
       "<style scoped>\n",
       "    .dataframe tbody tr th:only-of-type {\n",
       "        vertical-align: middle;\n",
       "    }\n",
       "\n",
       "    .dataframe tbody tr th {\n",
       "        vertical-align: top;\n",
       "    }\n",
       "\n",
       "    .dataframe thead th {\n",
       "        text-align: right;\n",
       "    }\n",
       "</style>\n",
       "<table border=\"1\" class=\"dataframe\">\n",
       "  <thead>\n",
       "    <tr style=\"text-align: right;\">\n",
       "      <th></th>\n",
       "      <th>id</th>\n",
       "      <th>user_id</th>\n",
       "      <th>address</th>\n",
       "      <th>city_id</th>\n",
       "      <th>state_id</th>\n",
       "      <th>postal_code</th>\n",
       "    </tr>\n",
       "  </thead>\n",
       "  <tbody>\n",
       "    <tr>\n",
       "      <th>0</th>\n",
       "      <td>1.0</td>\n",
       "      <td>7.0</td>\n",
       "      <td>تهران</td>\n",
       "      <td>1.0</td>\n",
       "      <td>1.0</td>\n",
       "      <td>1498754958</td>\n",
       "    </tr>\n",
       "    <tr>\n",
       "      <th>1</th>\n",
       "      <td>3.0</td>\n",
       "      <td>13.0</td>\n",
       "      <td>تهران-شهرک غرب-خیابان درختی-کوجه ثقفی-بلاک ٣١ ...</td>\n",
       "      <td>1.0</td>\n",
       "      <td>1.0</td>\n",
       "      <td>1468795166</td>\n",
       "    </tr>\n",
       "    <tr>\n",
       "      <th>2</th>\n",
       "      <td>4.0</td>\n",
       "      <td>15.0</td>\n",
       "      <td>میدان خراسان .خیابان خراسان خیابان مشهدی رحیم ...</td>\n",
       "      <td>1.0</td>\n",
       "      <td>1.0</td>\n",
       "      <td>1175894313</td>\n",
       "    </tr>\n",
       "    <tr>\n",
       "      <th>3</th>\n",
       "      <td>5.0</td>\n",
       "      <td>16.0</td>\n",
       "      <td>اتوبان محلاتی.خیابان شهید کیانی .کوچه حسن شریع...</td>\n",
       "      <td>1.0</td>\n",
       "      <td>1.0</td>\n",
       "      <td>1175894313</td>\n",
       "    </tr>\n",
       "    <tr>\n",
       "      <th>4</th>\n",
       "      <td>6.0</td>\n",
       "      <td>14.0</td>\n",
       "      <td>تهرانپارس فلکه سوم تهرانپارس خ 196 بین خ سجده ...</td>\n",
       "      <td>1.0</td>\n",
       "      <td>1.0</td>\n",
       "      <td>1655755881</td>\n",
       "    </tr>\n",
       "  </tbody>\n",
       "</table>\n",
       "</div>"
      ],
      "text/plain": [
       "    id  user_id                                            address  city_id  \\\n",
       "0  1.0      7.0                                              تهران      1.0   \n",
       "1  3.0     13.0  تهران-شهرک غرب-خیابان درختی-کوجه ثقفی-بلاک ٣١ ...      1.0   \n",
       "2  4.0     15.0  میدان خراسان .خیابان خراسان خیابان مشهدی رحیم ...      1.0   \n",
       "3  5.0     16.0  اتوبان محلاتی.خیابان شهید کیانی .کوچه حسن شریع...      1.0   \n",
       "4  6.0     14.0  تهرانپارس فلکه سوم تهرانپارس خ 196 بین خ سجده ...      1.0   \n",
       "\n",
       "   state_id postal_code  \n",
       "0       1.0  1498754958  \n",
       "1       1.0  1468795166  \n",
       "2       1.0  1175894313  \n",
       "3       1.0  1175894313  \n",
       "4       1.0  1655755881  "
      ]
     },
     "execution_count": 28,
     "metadata": {},
     "output_type": "execute_result"
    }
   ],
   "source": [
    "customers_address.head()"
   ]
  },
  {
   "cell_type": "code",
   "execution_count": 29,
   "id": "7fbb12cf",
   "metadata": {},
   "outputs": [
    {
     "data": {
      "text/plain": [
       "False"
      ]
     },
     "execution_count": 29,
     "metadata": {},
     "output_type": "execute_result"
    },
    {
     "data": {
      "text/html": [
       "<div>\n",
       "<style scoped>\n",
       "    .dataframe tbody tr th:only-of-type {\n",
       "        vertical-align: middle;\n",
       "    }\n",
       "\n",
       "    .dataframe tbody tr th {\n",
       "        vertical-align: top;\n",
       "    }\n",
       "\n",
       "    .dataframe thead th {\n",
       "        text-align: right;\n",
       "    }\n",
       "</style>\n",
       "<table border=\"1\" class=\"dataframe\">\n",
       "  <thead>\n",
       "    <tr style=\"text-align: right;\">\n",
       "      <th></th>\n",
       "      <th>id</th>\n",
       "      <th>user_id</th>\n",
       "      <th>address</th>\n",
       "      <th>city_id</th>\n",
       "      <th>state_id</th>\n",
       "      <th>postal_code</th>\n",
       "    </tr>\n",
       "  </thead>\n",
       "  <tbody>\n",
       "    <tr>\n",
       "      <th>136001</th>\n",
       "      <td>290149.0</td>\n",
       "      <td>3394.0</td>\n",
       "      <td>کرج شاهین ویلا خ ششم شرقی پ 7 و 4</td>\n",
       "      <td>1.0</td>\n",
       "      <td>1.0</td>\n",
       "      <td>1234567899</td>\n",
       "    </tr>\n",
       "    <tr>\n",
       "      <th>136002</th>\n",
       "      <td>290150.0</td>\n",
       "      <td>3394.0</td>\n",
       "      <td>کرج شاهین ویلا خ ششم شرقی پ 7 و 4</td>\n",
       "      <td>1.0</td>\n",
       "      <td>1.0</td>\n",
       "      <td>1234567899</td>\n",
       "    </tr>\n",
       "    <tr>\n",
       "      <th>4733</th>\n",
       "      <td>5458.0</td>\n",
       "      <td>10743.0</td>\n",
       "      <td>سردار جنگل بالاتر از مخبری کوچه غروی شرقی پلاک 99</td>\n",
       "      <td>1.0</td>\n",
       "      <td>1.0</td>\n",
       "      <td>3373333733</td>\n",
       "    </tr>\n",
       "    <tr>\n",
       "      <th>4734</th>\n",
       "      <td>5459.0</td>\n",
       "      <td>10743.0</td>\n",
       "      <td>سردار جنگل بالاتر از مخبری کوچه غروی شرقی پلاک 99</td>\n",
       "      <td>1.0</td>\n",
       "      <td>1.0</td>\n",
       "      <td>3373333733</td>\n",
       "    </tr>\n",
       "    <tr>\n",
       "      <th>7621</th>\n",
       "      <td>8849.0</td>\n",
       "      <td>18144.0</td>\n",
       "      <td>مرزداران خ ایثار خ دریا پلاک9 واحد 6</td>\n",
       "      <td>1.0</td>\n",
       "      <td>1.0</td>\n",
       "      <td>1464643446</td>\n",
       "    </tr>\n",
       "    <tr>\n",
       "      <th>...</th>\n",
       "      <td>...</td>\n",
       "      <td>...</td>\n",
       "      <td>...</td>\n",
       "      <td>...</td>\n",
       "      <td>...</td>\n",
       "      <td>...</td>\n",
       "    </tr>\n",
       "    <tr>\n",
       "      <th>237264</th>\n",
       "      <td>453057.0</td>\n",
       "      <td>708871.0</td>\n",
       "      <td>NaN</td>\n",
       "      <td>950.0</td>\n",
       "      <td>11.0</td>\n",
       "      <td>NaN</td>\n",
       "    </tr>\n",
       "    <tr>\n",
       "      <th>245544</th>\n",
       "      <td>464703.0</td>\n",
       "      <td>732894.0</td>\n",
       "      <td>NaN</td>\n",
       "      <td>512.0</td>\n",
       "      <td>7.0</td>\n",
       "      <td>NaN</td>\n",
       "    </tr>\n",
       "    <tr>\n",
       "      <th>245545</th>\n",
       "      <td>464704.0</td>\n",
       "      <td>732894.0</td>\n",
       "      <td>NaN</td>\n",
       "      <td>512.0</td>\n",
       "      <td>7.0</td>\n",
       "      <td>NaN</td>\n",
       "    </tr>\n",
       "    <tr>\n",
       "      <th>250054</th>\n",
       "      <td>470892.0</td>\n",
       "      <td>748491.0</td>\n",
       "      <td>NaN</td>\n",
       "      <td>25.0</td>\n",
       "      <td>6.0</td>\n",
       "      <td>NaN</td>\n",
       "    </tr>\n",
       "    <tr>\n",
       "      <th>250055</th>\n",
       "      <td>470893.0</td>\n",
       "      <td>748491.0</td>\n",
       "      <td>NaN</td>\n",
       "      <td>25.0</td>\n",
       "      <td>6.0</td>\n",
       "      <td>NaN</td>\n",
       "    </tr>\n",
       "  </tbody>\n",
       "</table>\n",
       "<p>217 rows × 6 columns</p>\n",
       "</div>"
      ],
      "text/plain": [
       "              id   user_id                                            address  \\\n",
       "136001  290149.0    3394.0                  کرج شاهین ویلا خ ششم شرقی پ 7 و 4   \n",
       "136002  290150.0    3394.0                  کرج شاهین ویلا خ ششم شرقی پ 7 و 4   \n",
       "4733      5458.0   10743.0  سردار جنگل بالاتر از مخبری کوچه غروی شرقی پلاک 99   \n",
       "4734      5459.0   10743.0  سردار جنگل بالاتر از مخبری کوچه غروی شرقی پلاک 99   \n",
       "7621      8849.0   18144.0               مرزداران خ ایثار خ دریا پلاک9 واحد 6   \n",
       "...          ...       ...                                                ...   \n",
       "237264  453057.0  708871.0                                                NaN   \n",
       "245544  464703.0  732894.0                                                NaN   \n",
       "245545  464704.0  732894.0                                                NaN   \n",
       "250054  470892.0  748491.0                                                NaN   \n",
       "250055  470893.0  748491.0                                                NaN   \n",
       "\n",
       "        city_id  state_id postal_code  \n",
       "136001      1.0       1.0  1234567899  \n",
       "136002      1.0       1.0  1234567899  \n",
       "4733        1.0       1.0  3373333733  \n",
       "4734        1.0       1.0  3373333733  \n",
       "7621        1.0       1.0  1464643446  \n",
       "...         ...       ...         ...  \n",
       "237264    950.0      11.0         NaN  \n",
       "245544    512.0       7.0         NaN  \n",
       "245545    512.0       7.0         NaN  \n",
       "250054     25.0       6.0         NaN  \n",
       "250055     25.0       6.0         NaN  \n",
       "\n",
       "[217 rows x 6 columns]"
      ]
     },
     "execution_count": 29,
     "metadata": {},
     "output_type": "execute_result"
    },
    {
     "name": "stdout",
     "output_type": "stream",
     "text": [
      "<class 'pandas.core.frame.DataFrame'>\n",
      "RangeIndex: 251616 entries, 0 to 251615\n",
      "Data columns (total 6 columns):\n",
      " #   Column       Non-Null Count   Dtype  \n",
      "---  ------       --------------   -----  \n",
      " 0   id           251616 non-null  float64\n",
      " 1   user_id      251616 non-null  float64\n",
      " 2   address      124563 non-null  object \n",
      " 3   city_id      251616 non-null  float64\n",
      " 4   state_id     251616 non-null  float64\n",
      " 5   postal_code  117271 non-null  object \n",
      "dtypes: float64(4), object(2)\n",
      "memory usage: 11.5+ MB\n"
     ]
    }
   ],
   "source": [
    "customers_address['user_id'].is_unique\n",
    "customers_address[customers_address.duplicated(subset= 'user_id',keep=False)].sort_values(by='user_id')\n",
    "customers_address.info()"
   ]
  },
  {
   "cell_type": "markdown",
   "id": "b986c534",
   "metadata": {},
   "source": [
    "##### Clean names of columns"
   ]
  },
  {
   "cell_type": "code",
   "execution_count": 30,
   "id": "d145d380",
   "metadata": {},
   "outputs": [],
   "source": [
    "categoires=categoires.clean_names()\n",
    "cities = cities.clean_names()\n",
    "order_items = order_items.clean_names()\n",
    "order_reject= order_reject.clean_names()\n",
    "orders = orders.clean_names()\n",
    "product_items = product_items.clean_names()\n",
    "products = products.clean_names()\n",
    "reasons = reasons.clean_names()\n",
    "users = users.clean_names()\n",
    "provience = provience.clean_names()\n",
    "status = status.clean_names()\n",
    "customers = customers.clean_names()"
   ]
  },
  {
   "cell_type": "markdown",
   "id": "7c971a82",
   "metadata": {},
   "source": [
    "##### Clean dataset and formatting\n",
    "After checking the head of our data, Start to clean data some tasks in clean lendo data include  \n",
    " 1. drop columns  \n",
    " 2. change index  \n",
    " 3. format of cells  \n",
    " 4. add new columns  \n",
    " 5. remove duplicate data  \n",
    " 6. joining Dataframe\n",
    " 7. import a new dataset for translation from Persian to English  \n",
    " "
   ]
  },
  {
   "cell_type": "code",
   "execution_count": 31,
   "id": "3464c936",
   "metadata": {},
   "outputs": [],
   "source": [
    "categoires = categoires.drop(columns=[\n",
    "    'description','image','created_user_id','updated_user_id','created_at','updated_at','deleted_at']).set_index('id',drop=True).reset_index()"
   ]
  },
  {
   "cell_type": "code",
   "execution_count": 32,
   "id": "ef90ba86",
   "metadata": {},
   "outputs": [
    {
     "data": {
      "text/html": [
       "<div>\n",
       "<style scoped>\n",
       "    .dataframe tbody tr th:only-of-type {\n",
       "        vertical-align: middle;\n",
       "    }\n",
       "\n",
       "    .dataframe tbody tr th {\n",
       "        vertical-align: top;\n",
       "    }\n",
       "\n",
       "    .dataframe thead th {\n",
       "        text-align: right;\n",
       "    }\n",
       "</style>\n",
       "<table border=\"1\" class=\"dataframe\">\n",
       "  <thead>\n",
       "    <tr style=\"text-align: right;\">\n",
       "      <th></th>\n",
       "      <th>id</th>\n",
       "      <th>name</th>\n",
       "      <th>gmt_code</th>\n",
       "      <th>code</th>\n",
       "      <th>created_user_id</th>\n",
       "      <th>updated_user_id</th>\n",
       "      <th>created_at</th>\n",
       "      <th>updated_at</th>\n",
       "      <th>state_id</th>\n",
       "    </tr>\n",
       "  </thead>\n",
       "  <tbody>\n",
       "    <tr>\n",
       "      <th>0</th>\n",
       "      <td>1</td>\n",
       "      <td>تهران</td>\n",
       "      <td>NaN</td>\n",
       "      <td>21.0</td>\n",
       "      <td>NaN</td>\n",
       "      <td>NaN</td>\n",
       "      <td>NaT</td>\n",
       "      <td>NaT</td>\n",
       "      <td>1</td>\n",
       "    </tr>\n",
       "    <tr>\n",
       "      <th>1</th>\n",
       "      <td>2</td>\n",
       "      <td>کرج</td>\n",
       "      <td>NaN</td>\n",
       "      <td>26.0</td>\n",
       "      <td>NaN</td>\n",
       "      <td>NaN</td>\n",
       "      <td>NaT</td>\n",
       "      <td>NaT</td>\n",
       "      <td>2</td>\n",
       "    </tr>\n",
       "    <tr>\n",
       "      <th>2</th>\n",
       "      <td>3</td>\n",
       "      <td>مشهد</td>\n",
       "      <td>NaN</td>\n",
       "      <td>51.0</td>\n",
       "      <td>NaN</td>\n",
       "      <td>NaN</td>\n",
       "      <td>NaT</td>\n",
       "      <td>NaT</td>\n",
       "      <td>3</td>\n",
       "    </tr>\n",
       "    <tr>\n",
       "      <th>3</th>\n",
       "      <td>4</td>\n",
       "      <td>قم</td>\n",
       "      <td>NaN</td>\n",
       "      <td>25.0</td>\n",
       "      <td>NaN</td>\n",
       "      <td>NaN</td>\n",
       "      <td>NaT</td>\n",
       "      <td>NaT</td>\n",
       "      <td>4</td>\n",
       "    </tr>\n",
       "    <tr>\n",
       "      <th>4</th>\n",
       "      <td>5</td>\n",
       "      <td>اصفهان</td>\n",
       "      <td>NaN</td>\n",
       "      <td>31.0</td>\n",
       "      <td>NaN</td>\n",
       "      <td>NaN</td>\n",
       "      <td>NaT</td>\n",
       "      <td>NaT</td>\n",
       "      <td>5</td>\n",
       "    </tr>\n",
       "  </tbody>\n",
       "</table>\n",
       "</div>"
      ],
      "text/plain": [
       "   id    name  gmt_code  code  created_user_id  updated_user_id created_at  \\\n",
       "0   1   تهران       NaN  21.0              NaN              NaN        NaT   \n",
       "1   2     کرج       NaN  26.0              NaN              NaN        NaT   \n",
       "2   3    مشهد       NaN  51.0              NaN              NaN        NaT   \n",
       "3   4      قم       NaN  25.0              NaN              NaN        NaT   \n",
       "4   5  اصفهان       NaN  31.0              NaN              NaN        NaT   \n",
       "\n",
       "  updated_at  state_id  \n",
       "0        NaT         1  \n",
       "1        NaT         2  \n",
       "2        NaT         3  \n",
       "3        NaT         4  \n",
       "4        NaT         5  "
      ]
     },
     "execution_count": 32,
     "metadata": {},
     "output_type": "execute_result"
    },
    {
     "data": {
      "text/plain": [
       "True"
      ]
     },
     "execution_count": 32,
     "metadata": {},
     "output_type": "execute_result"
    }
   ],
   "source": [
    "cities.head()\n",
    "cities['id'].is_unique"
   ]
  },
  {
   "cell_type": "code",
   "execution_count": 33,
   "id": "6e87c9c7",
   "metadata": {},
   "outputs": [
    {
     "data": {
      "text/html": [
       "<div>\n",
       "<style scoped>\n",
       "    .dataframe tbody tr th:only-of-type {\n",
       "        vertical-align: middle;\n",
       "    }\n",
       "\n",
       "    .dataframe tbody tr th {\n",
       "        vertical-align: top;\n",
       "    }\n",
       "\n",
       "    .dataframe thead th {\n",
       "        text-align: right;\n",
       "    }\n",
       "</style>\n",
       "<table border=\"1\" class=\"dataframe\">\n",
       "  <thead>\n",
       "    <tr style=\"text-align: right;\">\n",
       "      <th></th>\n",
       "      <th>name</th>\n",
       "      <th>code</th>\n",
       "      <th>state_id</th>\n",
       "    </tr>\n",
       "    <tr>\n",
       "      <th>id</th>\n",
       "      <th></th>\n",
       "      <th></th>\n",
       "      <th></th>\n",
       "    </tr>\n",
       "  </thead>\n",
       "  <tbody>\n",
       "    <tr>\n",
       "      <th>1</th>\n",
       "      <td>تهران</td>\n",
       "      <td>21.0</td>\n",
       "      <td>1</td>\n",
       "    </tr>\n",
       "    <tr>\n",
       "      <th>2</th>\n",
       "      <td>کرج</td>\n",
       "      <td>26.0</td>\n",
       "      <td>2</td>\n",
       "    </tr>\n",
       "    <tr>\n",
       "      <th>3</th>\n",
       "      <td>مشهد</td>\n",
       "      <td>51.0</td>\n",
       "      <td>3</td>\n",
       "    </tr>\n",
       "    <tr>\n",
       "      <th>4</th>\n",
       "      <td>قم</td>\n",
       "      <td>25.0</td>\n",
       "      <td>4</td>\n",
       "    </tr>\n",
       "    <tr>\n",
       "      <th>5</th>\n",
       "      <td>اصفهان</td>\n",
       "      <td>31.0</td>\n",
       "      <td>5</td>\n",
       "    </tr>\n",
       "    <tr>\n",
       "      <th>...</th>\n",
       "      <td>...</td>\n",
       "      <td>...</td>\n",
       "      <td>...</td>\n",
       "    </tr>\n",
       "    <tr>\n",
       "      <th>1227</th>\n",
       "      <td>دیهوک</td>\n",
       "      <td>NaN</td>\n",
       "      <td>21</td>\n",
       "    </tr>\n",
       "    <tr>\n",
       "      <th>1228</th>\n",
       "      <td>شاهدیه</td>\n",
       "      <td>NaN</td>\n",
       "      <td>21</td>\n",
       "    </tr>\n",
       "    <tr>\n",
       "      <th>1229</th>\n",
       "      <td>احمدآباد</td>\n",
       "      <td>NaN</td>\n",
       "      <td>21</td>\n",
       "    </tr>\n",
       "    <tr>\n",
       "      <th>1230</th>\n",
       "      <td>بفروئیه</td>\n",
       "      <td>NaN</td>\n",
       "      <td>21</td>\n",
       "    </tr>\n",
       "    <tr>\n",
       "      <th>1231</th>\n",
       "      <td>حمیدیا</td>\n",
       "      <td>NaN</td>\n",
       "      <td>21</td>\n",
       "    </tr>\n",
       "  </tbody>\n",
       "</table>\n",
       "<p>1230 rows × 3 columns</p>\n",
       "</div>"
      ],
      "text/plain": [
       "          name  code  state_id\n",
       "id                            \n",
       "1        تهران  21.0         1\n",
       "2          کرج  26.0         2\n",
       "3         مشهد  51.0         3\n",
       "4           قم  25.0         4\n",
       "5       اصفهان  31.0         5\n",
       "...        ...   ...       ...\n",
       "1227     دیهوک   NaN        21\n",
       "1228    شاهدیه   NaN        21\n",
       "1229  احمدآباد   NaN        21\n",
       "1230   بفروئیه   NaN        21\n",
       "1231    حمیدیا   NaN        21\n",
       "\n",
       "[1230 rows x 3 columns]"
      ]
     },
     "execution_count": 33,
     "metadata": {},
     "output_type": "execute_result"
    }
   ],
   "source": [
    "cities = cities.drop(columns=[\n",
    "    'gmt_code','created_user_id','updated_user_id','created_at','updated_at'])\n",
    "cities.set_index('id')"
   ]
  },
  {
   "cell_type": "code",
   "execution_count": 34,
   "id": "81072e4a",
   "metadata": {},
   "outputs": [],
   "source": [
    "order_items = order_items.drop_duplicates(subset='order_id', keep='first')\n",
    "order_items = order_items.drop(\n",
    "    columns=['prepayment',  'updated_at']).set_index('order_id').reset_index()"
   ]
  },
  {
   "cell_type": "code",
   "execution_count": 35,
   "id": "31b0f6cb",
   "metadata": {
    "scrolled": true
   },
   "outputs": [],
   "source": [
    "order_reject = order_reject.drop(columns=[\n",
    "    'created_user_id','updated_at','updated_user_id']).set_index('id').reset_index()"
   ]
  },
  {
   "cell_type": "code",
   "execution_count": 36,
   "id": "bc983f89",
   "metadata": {},
   "outputs": [
    {
     "data": {
      "text/html": [
       "<div>\n",
       "<style scoped>\n",
       "    .dataframe tbody tr th:only-of-type {\n",
       "        vertical-align: middle;\n",
       "    }\n",
       "\n",
       "    .dataframe tbody tr th {\n",
       "        vertical-align: top;\n",
       "    }\n",
       "\n",
       "    .dataframe thead th {\n",
       "        text-align: right;\n",
       "    }\n",
       "</style>\n",
       "<table border=\"1\" class=\"dataframe\">\n",
       "  <thead>\n",
       "    <tr style=\"text-align: right;\">\n",
       "      <th></th>\n",
       "      <th>user_id</th>\n",
       "      <th>total_amount</th>\n",
       "      <th>status</th>\n",
       "      <th>total_items_amount</th>\n",
       "      <th>is_lendo</th>\n",
       "    </tr>\n",
       "    <tr>\n",
       "      <th>id</th>\n",
       "      <th></th>\n",
       "      <th></th>\n",
       "      <th></th>\n",
       "      <th></th>\n",
       "      <th></th>\n",
       "    </tr>\n",
       "  </thead>\n",
       "  <tbody>\n",
       "    <tr>\n",
       "      <th>1.0</th>\n",
       "      <td>7.0</td>\n",
       "      <td>5400000.0</td>\n",
       "      <td>0.0</td>\n",
       "      <td>1813936.0</td>\n",
       "      <td>0.0</td>\n",
       "    </tr>\n",
       "    <tr>\n",
       "      <th>2.0</th>\n",
       "      <td>7.0</td>\n",
       "      <td>5400000.0</td>\n",
       "      <td>0.0</td>\n",
       "      <td>5035398.0</td>\n",
       "      <td>0.0</td>\n",
       "    </tr>\n",
       "    <tr>\n",
       "      <th>3.0</th>\n",
       "      <td>7.0</td>\n",
       "      <td>5400000.0</td>\n",
       "      <td>0.0</td>\n",
       "      <td>4950845.0</td>\n",
       "      <td>0.0</td>\n",
       "    </tr>\n",
       "    <tr>\n",
       "      <th>4.0</th>\n",
       "      <td>8.0</td>\n",
       "      <td>5400000.0</td>\n",
       "      <td>0.0</td>\n",
       "      <td>1813936.0</td>\n",
       "      <td>0.0</td>\n",
       "    </tr>\n",
       "    <tr>\n",
       "      <th>5.0</th>\n",
       "      <td>7.0</td>\n",
       "      <td>8000000.0</td>\n",
       "      <td>0.0</td>\n",
       "      <td>4413936.0</td>\n",
       "      <td>0.0</td>\n",
       "    </tr>\n",
       "    <tr>\n",
       "      <th>...</th>\n",
       "      <td>...</td>\n",
       "      <td>...</td>\n",
       "      <td>...</td>\n",
       "      <td>...</td>\n",
       "      <td>...</td>\n",
       "    </tr>\n",
       "    <tr>\n",
       "      <th>312565.0</th>\n",
       "      <td>416820.0</td>\n",
       "      <td>18162000.0</td>\n",
       "      <td>2.0</td>\n",
       "      <td>2018000.0</td>\n",
       "      <td>0.0</td>\n",
       "    </tr>\n",
       "    <tr>\n",
       "      <th>312566.0</th>\n",
       "      <td>736063.0</td>\n",
       "      <td>24900012.0</td>\n",
       "      <td>2.0</td>\n",
       "      <td>2075001.0</td>\n",
       "      <td>0.0</td>\n",
       "    </tr>\n",
       "    <tr>\n",
       "      <th>312567.0</th>\n",
       "      <td>736059.0</td>\n",
       "      <td>24900012.0</td>\n",
       "      <td>2.0</td>\n",
       "      <td>2075001.0</td>\n",
       "      <td>0.0</td>\n",
       "    </tr>\n",
       "    <tr>\n",
       "      <th>312568.0</th>\n",
       "      <td>694612.0</td>\n",
       "      <td>9688500.0</td>\n",
       "      <td>2.0</td>\n",
       "      <td>1076500.0</td>\n",
       "      <td>0.0</td>\n",
       "    </tr>\n",
       "    <tr>\n",
       "      <th>312569.0</th>\n",
       "      <td>736078.0</td>\n",
       "      <td>24900012.0</td>\n",
       "      <td>2.0</td>\n",
       "      <td>2075001.0</td>\n",
       "      <td>0.0</td>\n",
       "    </tr>\n",
       "  </tbody>\n",
       "</table>\n",
       "<p>310357 rows × 5 columns</p>\n",
       "</div>"
      ],
      "text/plain": [
       "           user_id  total_amount  status  total_items_amount  is_lendo\n",
       "id                                                                    \n",
       "1.0            7.0     5400000.0     0.0           1813936.0       0.0\n",
       "2.0            7.0     5400000.0     0.0           5035398.0       0.0\n",
       "3.0            7.0     5400000.0     0.0           4950845.0       0.0\n",
       "4.0            8.0     5400000.0     0.0           1813936.0       0.0\n",
       "5.0            7.0     8000000.0     0.0           4413936.0       0.0\n",
       "...            ...           ...     ...                 ...       ...\n",
       "312565.0  416820.0    18162000.0     2.0           2018000.0       0.0\n",
       "312566.0  736063.0    24900012.0     2.0           2075001.0       0.0\n",
       "312567.0  736059.0    24900012.0     2.0           2075001.0       0.0\n",
       "312568.0  694612.0     9688500.0     2.0           1076500.0       0.0\n",
       "312569.0  736078.0    24900012.0     2.0           2075001.0       0.0\n",
       "\n",
       "[310357 rows x 5 columns]"
      ]
     },
     "execution_count": 36,
     "metadata": {},
     "output_type": "execute_result"
    }
   ],
   "source": [
    "orders.set_index('id')"
   ]
  },
  {
   "cell_type": "code",
   "execution_count": 37,
   "id": "26978fcf",
   "metadata": {},
   "outputs": [
    {
     "data": {
      "text/html": [
       "<div>\n",
       "<style scoped>\n",
       "    .dataframe tbody tr th:only-of-type {\n",
       "        vertical-align: middle;\n",
       "    }\n",
       "\n",
       "    .dataframe tbody tr th {\n",
       "        vertical-align: top;\n",
       "    }\n",
       "\n",
       "    .dataframe thead th {\n",
       "        text-align: right;\n",
       "    }\n",
       "</style>\n",
       "<table border=\"1\" class=\"dataframe\">\n",
       "  <thead>\n",
       "    <tr style=\"text-align: right;\">\n",
       "      <th></th>\n",
       "      <th>product_id</th>\n",
       "      <th>status</th>\n",
       "      <th>price</th>\n",
       "    </tr>\n",
       "    <tr>\n",
       "      <th>id</th>\n",
       "      <th></th>\n",
       "      <th></th>\n",
       "      <th></th>\n",
       "    </tr>\n",
       "  </thead>\n",
       "  <tbody>\n",
       "    <tr>\n",
       "      <th>1.0</th>\n",
       "      <td>1.0</td>\n",
       "      <td>1.0</td>\n",
       "      <td>10100000.0</td>\n",
       "    </tr>\n",
       "    <tr>\n",
       "      <th>2.0</th>\n",
       "      <td>1.0</td>\n",
       "      <td>0.0</td>\n",
       "      <td>10200000.0</td>\n",
       "    </tr>\n",
       "    <tr>\n",
       "      <th>3.0</th>\n",
       "      <td>2.0</td>\n",
       "      <td>1.0</td>\n",
       "      <td>17050000.0</td>\n",
       "    </tr>\n",
       "    <tr>\n",
       "      <th>4.0</th>\n",
       "      <td>4.0</td>\n",
       "      <td>1.0</td>\n",
       "      <td>13900000.0</td>\n",
       "    </tr>\n",
       "    <tr>\n",
       "      <th>5.0</th>\n",
       "      <td>8.0</td>\n",
       "      <td>1.0</td>\n",
       "      <td>19000000.0</td>\n",
       "    </tr>\n",
       "    <tr>\n",
       "      <th>...</th>\n",
       "      <td>...</td>\n",
       "      <td>...</td>\n",
       "      <td>...</td>\n",
       "    </tr>\n",
       "    <tr>\n",
       "      <th>6638.0</th>\n",
       "      <td>6140.0</td>\n",
       "      <td>1.0</td>\n",
       "      <td>0.0</td>\n",
       "    </tr>\n",
       "    <tr>\n",
       "      <th>6639.0</th>\n",
       "      <td>6142.0</td>\n",
       "      <td>1.0</td>\n",
       "      <td>0.0</td>\n",
       "    </tr>\n",
       "    <tr>\n",
       "      <th>6640.0</th>\n",
       "      <td>6143.0</td>\n",
       "      <td>1.0</td>\n",
       "      <td>0.0</td>\n",
       "    </tr>\n",
       "    <tr>\n",
       "      <th>6641.0</th>\n",
       "      <td>6144.0</td>\n",
       "      <td>1.0</td>\n",
       "      <td>0.0</td>\n",
       "    </tr>\n",
       "    <tr>\n",
       "      <th>6642.0</th>\n",
       "      <td>6146.0</td>\n",
       "      <td>1.0</td>\n",
       "      <td>0.0</td>\n",
       "    </tr>\n",
       "  </tbody>\n",
       "</table>\n",
       "<p>6560 rows × 3 columns</p>\n",
       "</div>"
      ],
      "text/plain": [
       "        product_id  status       price\n",
       "id                                    \n",
       "1.0            1.0     1.0  10100000.0\n",
       "2.0            1.0     0.0  10200000.0\n",
       "3.0            2.0     1.0  17050000.0\n",
       "4.0            4.0     1.0  13900000.0\n",
       "5.0            8.0     1.0  19000000.0\n",
       "...            ...     ...         ...\n",
       "6638.0      6140.0     1.0         0.0\n",
       "6639.0      6142.0     1.0         0.0\n",
       "6640.0      6143.0     1.0         0.0\n",
       "6641.0      6144.0     1.0         0.0\n",
       "6642.0      6146.0     1.0         0.0\n",
       "\n",
       "[6560 rows x 3 columns]"
      ]
     },
     "execution_count": 37,
     "metadata": {},
     "output_type": "execute_result"
    }
   ],
   "source": [
    "product_items = product_items.drop(product_items.iloc[:, 4:17],inplace=False,axis=1)\n",
    "product_items.set_index('id')"
   ]
  },
  {
   "cell_type": "code",
   "execution_count": 38,
   "id": "4dd64d8e",
   "metadata": {},
   "outputs": [
    {
     "data": {
      "text/html": [
       "<div>\n",
       "<style scoped>\n",
       "    .dataframe tbody tr th:only-of-type {\n",
       "        vertical-align: middle;\n",
       "    }\n",
       "\n",
       "    .dataframe tbody tr th {\n",
       "        vertical-align: top;\n",
       "    }\n",
       "\n",
       "    .dataframe thead th {\n",
       "        text-align: right;\n",
       "    }\n",
       "</style>\n",
       "<table border=\"1\" class=\"dataframe\">\n",
       "  <thead>\n",
       "    <tr style=\"text-align: right;\">\n",
       "      <th></th>\n",
       "      <th>name</th>\n",
       "      <th>brand_id</th>\n",
       "      <th>default_product_item_id</th>\n",
       "      <th>slug</th>\n",
       "    </tr>\n",
       "    <tr>\n",
       "      <th>id</th>\n",
       "      <th></th>\n",
       "      <th></th>\n",
       "      <th></th>\n",
       "      <th></th>\n",
       "    </tr>\n",
       "  </thead>\n",
       "  <tbody>\n",
       "    <tr>\n",
       "      <th>1.0</th>\n",
       "      <td>گوشی موبایل اپل مدل iPhone 8 ظرفیت 64 گیگابایت</td>\n",
       "      <td>1.0</td>\n",
       "      <td>238.0</td>\n",
       "      <td>apple-iphone-8-64gb-mobile-phone</td>\n",
       "    </tr>\n",
       "    <tr>\n",
       "      <th>2.0</th>\n",
       "      <td>لپ تاپ اپل مدل MacBook MNYF2 2017 12 inch</td>\n",
       "      <td>1.0</td>\n",
       "      <td>3.0</td>\n",
       "      <td>apple-macbook-mnyf2-2017-12-inch-laptop</td>\n",
       "    </tr>\n",
       "    <tr>\n",
       "      <th>4.0</th>\n",
       "      <td>لپ تاپ اپل مدل MacBook MNYK2 2017 12 inch</td>\n",
       "      <td>1.0</td>\n",
       "      <td>4.0</td>\n",
       "      <td>apple-macbook-mnyk2-2017-12-inch-laptop</td>\n",
       "    </tr>\n",
       "    <tr>\n",
       "      <th>6.0</th>\n",
       "      <td>گوشی موبایل اپل مدل iPhone X ظرفیت 64 گیگابایت</td>\n",
       "      <td>1.0</td>\n",
       "      <td>6.0</td>\n",
       "      <td>apple-iphone-x-64gb-mobile-phone</td>\n",
       "    </tr>\n",
       "    <tr>\n",
       "      <th>8.0</th>\n",
       "      <td>لپ تاپ اپل مدل MacBook MNYN2 2017 12 inch</td>\n",
       "      <td>1.0</td>\n",
       "      <td>5.0</td>\n",
       "      <td>apple-macbook-mnyn2-2017-12-inch-laptop</td>\n",
       "    </tr>\n",
       "    <tr>\n",
       "      <th>...</th>\n",
       "      <td>...</td>\n",
       "      <td>...</td>\n",
       "      <td>...</td>\n",
       "      <td>...</td>\n",
       "    </tr>\n",
       "    <tr>\n",
       "      <th>6141.0</th>\n",
       "      <td>‎کارسیتو</td>\n",
       "      <td>NaN</td>\n",
       "      <td>NaN</td>\n",
       "      <td>karsito</td>\n",
       "    </tr>\n",
       "    <tr>\n",
       "      <th>6142.0</th>\n",
       "      <td>‎پلاک 7</td>\n",
       "      <td>NaN</td>\n",
       "      <td>6639.0</td>\n",
       "      <td>pelak7</td>\n",
       "    </tr>\n",
       "    <tr>\n",
       "      <th>6143.0</th>\n",
       "      <td>‎آکواجوی</td>\n",
       "      <td>NaN</td>\n",
       "      <td>6640.0</td>\n",
       "      <td>aquajoy</td>\n",
       "    </tr>\n",
       "    <tr>\n",
       "      <th>6144.0</th>\n",
       "      <td>دیجی رام</td>\n",
       "      <td>NaN</td>\n",
       "      <td>6641.0</td>\n",
       "      <td>digiram</td>\n",
       "    </tr>\n",
       "    <tr>\n",
       "      <th>6146.0</th>\n",
       "      <td>نت لت</td>\n",
       "      <td>NaN</td>\n",
       "      <td>6642.0</td>\n",
       "      <td>salamod</td>\n",
       "    </tr>\n",
       "  </tbody>\n",
       "</table>\n",
       "<p>5352 rows × 4 columns</p>\n",
       "</div>"
      ],
      "text/plain": [
       "                                                  name  brand_id  \\\n",
       "id                                                                 \n",
       "1.0     گوشی موبایل اپل مدل iPhone 8 ظرفیت 64 گیگابایت       1.0   \n",
       "2.0          لپ تاپ اپل مدل MacBook MNYF2 2017 12 inch       1.0   \n",
       "4.0          لپ تاپ اپل مدل MacBook MNYK2 2017 12 inch       1.0   \n",
       "6.0     گوشی موبایل اپل مدل iPhone X ظرفیت 64 گیگابایت       1.0   \n",
       "8.0          لپ تاپ اپل مدل MacBook MNYN2 2017 12 inch       1.0   \n",
       "...                                                ...       ...   \n",
       "6141.0                                        ‎کارسیتو       NaN   \n",
       "6142.0                                         ‎پلاک 7       NaN   \n",
       "6143.0                                        ‎آکواجوی       NaN   \n",
       "6144.0                                        دیجی رام       NaN   \n",
       "6146.0                                           نت لت       NaN   \n",
       "\n",
       "        default_product_item_id                                     slug  \n",
       "id                                                                        \n",
       "1.0                       238.0         apple-iphone-8-64gb-mobile-phone  \n",
       "2.0                         3.0  apple-macbook-mnyf2-2017-12-inch-laptop  \n",
       "4.0                         4.0  apple-macbook-mnyk2-2017-12-inch-laptop  \n",
       "6.0                         6.0         apple-iphone-x-64gb-mobile-phone  \n",
       "8.0                         5.0  apple-macbook-mnyn2-2017-12-inch-laptop  \n",
       "...                         ...                                      ...  \n",
       "6141.0                      NaN                                  karsito  \n",
       "6142.0                   6639.0                                   pelak7  \n",
       "6143.0                   6640.0                                  aquajoy  \n",
       "6144.0                   6641.0                                  digiram  \n",
       "6146.0                   6642.0                                  salamod  \n",
       "\n",
       "[5352 rows x 4 columns]"
      ]
     },
     "execution_count": 38,
     "metadata": {},
     "output_type": "execute_result"
    }
   ],
   "source": [
    "products = products.drop(products.iloc[:,9:],inplace=False,axis = 1)\n",
    "products = products.drop(['description','insurance_percentage','search','name_en']\n",
    "                         ,inplace=False,axis=1)\n",
    "products.set_index('id')"
   ]
  },
  {
   "cell_type": "code",
   "execution_count": 39,
   "id": "1a8de8b6",
   "metadata": {},
   "outputs": [],
   "source": [
    "reasons = reasons.drop(['created_at','updated_at'],inplace=False,axis = 1)\n",
    "reasons =  reasons.set_index('id').reset_index()"
   ]
  },
  {
   "cell_type": "code",
   "execution_count": 40,
   "id": "519dd64b",
   "metadata": {},
   "outputs": [],
   "source": [
    "users = users.drop(users.columns.difference(['full_name','id']),inplace=False,axis=1)\n",
    "users = users.set_index('id')"
   ]
  },
  {
   "cell_type": "code",
   "execution_count": 41,
   "id": "29a8bb28",
   "metadata": {},
   "outputs": [],
   "source": [
    "customers = customers.set_index('id').reset_index()"
   ]
  },
  {
   "cell_type": "code",
   "execution_count": 42,
   "id": "15153e4f",
   "metadata": {},
   "outputs": [],
   "source": [
    "provience = provience.drop(provience.columns.difference(['id','name']),inplace=False,axis=1)"
   ]
  },
  {
   "cell_type": "code",
   "execution_count": 43,
   "id": "0d0975e1",
   "metadata": {
    "scrolled": true
   },
   "outputs": [
    {
     "data": {
      "text/html": [
       "<div>\n",
       "<style scoped>\n",
       "    .dataframe tbody tr th:only-of-type {\n",
       "        vertical-align: middle;\n",
       "    }\n",
       "\n",
       "    .dataframe tbody tr th {\n",
       "        vertical-align: top;\n",
       "    }\n",
       "\n",
       "    .dataframe thead th {\n",
       "        text-align: right;\n",
       "    }\n",
       "</style>\n",
       "<table border=\"1\" class=\"dataframe\">\n",
       "  <thead>\n",
       "    <tr style=\"text-align: right;\">\n",
       "      <th></th>\n",
       "      <th>id</th>\n",
       "      <th>user_id</th>\n",
       "      <th>address</th>\n",
       "      <th>city_id</th>\n",
       "      <th>state_id</th>\n",
       "      <th>postal_code</th>\n",
       "    </tr>\n",
       "  </thead>\n",
       "  <tbody>\n",
       "    <tr>\n",
       "      <th>0</th>\n",
       "      <td>1.0</td>\n",
       "      <td>7.0</td>\n",
       "      <td>تهران</td>\n",
       "      <td>1.0</td>\n",
       "      <td>1.0</td>\n",
       "      <td>1498754958</td>\n",
       "    </tr>\n",
       "    <tr>\n",
       "      <th>1</th>\n",
       "      <td>3.0</td>\n",
       "      <td>13.0</td>\n",
       "      <td>تهران-شهرک غرب-خیابان درختی-کوجه ثقفی-بلاک ٣١ ...</td>\n",
       "      <td>1.0</td>\n",
       "      <td>1.0</td>\n",
       "      <td>1468795166</td>\n",
       "    </tr>\n",
       "    <tr>\n",
       "      <th>2</th>\n",
       "      <td>4.0</td>\n",
       "      <td>15.0</td>\n",
       "      <td>میدان خراسان .خیابان خراسان خیابان مشهدی رحیم ...</td>\n",
       "      <td>1.0</td>\n",
       "      <td>1.0</td>\n",
       "      <td>1175894313</td>\n",
       "    </tr>\n",
       "    <tr>\n",
       "      <th>3</th>\n",
       "      <td>5.0</td>\n",
       "      <td>16.0</td>\n",
       "      <td>اتوبان محلاتی.خیابان شهید کیانی .کوچه حسن شریع...</td>\n",
       "      <td>1.0</td>\n",
       "      <td>1.0</td>\n",
       "      <td>1175894313</td>\n",
       "    </tr>\n",
       "    <tr>\n",
       "      <th>4</th>\n",
       "      <td>6.0</td>\n",
       "      <td>14.0</td>\n",
       "      <td>تهرانپارس فلکه سوم تهرانپارس خ 196 بین خ سجده ...</td>\n",
       "      <td>1.0</td>\n",
       "      <td>1.0</td>\n",
       "      <td>1655755881</td>\n",
       "    </tr>\n",
       "    <tr>\n",
       "      <th>...</th>\n",
       "      <td>...</td>\n",
       "      <td>...</td>\n",
       "      <td>...</td>\n",
       "      <td>...</td>\n",
       "      <td>...</td>\n",
       "      <td>...</td>\n",
       "    </tr>\n",
       "    <tr>\n",
       "      <th>251611</th>\n",
       "      <td>473016.0</td>\n",
       "      <td>753840.0</td>\n",
       "      <td>NaN</td>\n",
       "      <td>416.0</td>\n",
       "      <td>23.0</td>\n",
       "      <td>NaN</td>\n",
       "    </tr>\n",
       "    <tr>\n",
       "      <th>251612</th>\n",
       "      <td>473017.0</td>\n",
       "      <td>753792.0</td>\n",
       "      <td>شهرک امیرکبیر مجتمع ایثار</td>\n",
       "      <td>46.0</td>\n",
       "      <td>20.0</td>\n",
       "      <td>3817783814</td>\n",
       "    </tr>\n",
       "    <tr>\n",
       "      <th>251613</th>\n",
       "      <td>473018.0</td>\n",
       "      <td>753769.0</td>\n",
       "      <td>NaN</td>\n",
       "      <td>35.0</td>\n",
       "      <td>15.0</td>\n",
       "      <td>NaN</td>\n",
       "    </tr>\n",
       "    <tr>\n",
       "      <th>251614</th>\n",
       "      <td>473019.0</td>\n",
       "      <td>749961.0</td>\n",
       "      <td>مشهد قاسم اباد اندیشه 45 پلاک 12 واحد یک</td>\n",
       "      <td>3.0</td>\n",
       "      <td>3.0</td>\n",
       "      <td>9185315895</td>\n",
       "    </tr>\n",
       "    <tr>\n",
       "      <th>251615</th>\n",
       "      <td>473020.0</td>\n",
       "      <td>507682.0</td>\n",
       "      <td>NaN</td>\n",
       "      <td>29.0</td>\n",
       "      <td>9.0</td>\n",
       "      <td>NaN</td>\n",
       "    </tr>\n",
       "  </tbody>\n",
       "</table>\n",
       "<p>251616 rows × 6 columns</p>\n",
       "</div>"
      ],
      "text/plain": [
       "              id   user_id                                            address  \\\n",
       "0            1.0       7.0                                              تهران   \n",
       "1            3.0      13.0  تهران-شهرک غرب-خیابان درختی-کوجه ثقفی-بلاک ٣١ ...   \n",
       "2            4.0      15.0  میدان خراسان .خیابان خراسان خیابان مشهدی رحیم ...   \n",
       "3            5.0      16.0  اتوبان محلاتی.خیابان شهید کیانی .کوچه حسن شریع...   \n",
       "4            6.0      14.0  تهرانپارس فلکه سوم تهرانپارس خ 196 بین خ سجده ...   \n",
       "...          ...       ...                                                ...   \n",
       "251611  473016.0  753840.0                                                NaN   \n",
       "251612  473017.0  753792.0                          شهرک امیرکبیر مجتمع ایثار   \n",
       "251613  473018.0  753769.0                                                NaN   \n",
       "251614  473019.0  749961.0           مشهد قاسم اباد اندیشه 45 پلاک 12 واحد یک   \n",
       "251615  473020.0  507682.0                                                NaN   \n",
       "\n",
       "        city_id  state_id postal_code  \n",
       "0           1.0       1.0  1498754958  \n",
       "1           1.0       1.0  1468795166  \n",
       "2           1.0       1.0  1175894313  \n",
       "3           1.0       1.0  1175894313  \n",
       "4           1.0       1.0  1655755881  \n",
       "...         ...       ...         ...  \n",
       "251611    416.0      23.0         NaN  \n",
       "251612     46.0      20.0  3817783814  \n",
       "251613     35.0      15.0         NaN  \n",
       "251614      3.0       3.0  9185315895  \n",
       "251615     29.0       9.0         NaN  \n",
       "\n",
       "[251616 rows x 6 columns]"
      ]
     },
     "execution_count": 43,
     "metadata": {},
     "output_type": "execute_result"
    }
   ],
   "source": [
    "customers_address.set_index('id').reset_index()"
   ]
  },
  {
   "cell_type": "code",
   "execution_count": 44,
   "id": "44552e5f",
   "metadata": {
    "scrolled": true
   },
   "outputs": [
    {
     "data": {
      "text/html": [
       "<div>\n",
       "<style scoped>\n",
       "    .dataframe tbody tr th:only-of-type {\n",
       "        vertical-align: middle;\n",
       "    }\n",
       "\n",
       "    .dataframe tbody tr th {\n",
       "        vertical-align: top;\n",
       "    }\n",
       "\n",
       "    .dataframe thead th {\n",
       "        text-align: right;\n",
       "    }\n",
       "</style>\n",
       "<table border=\"1\" class=\"dataframe\">\n",
       "  <thead>\n",
       "    <tr style=\"text-align: right;\">\n",
       "      <th></th>\n",
       "      <th>status_descr</th>\n",
       "    </tr>\n",
       "    <tr>\n",
       "      <th>number</th>\n",
       "      <th></th>\n",
       "    </tr>\n",
       "  </thead>\n",
       "  <tbody>\n",
       "    <tr>\n",
       "      <th>0</th>\n",
       "      <td>rejected</td>\n",
       "    </tr>\n",
       "    <tr>\n",
       "      <th>1</th>\n",
       "      <td>initial approval</td>\n",
       "    </tr>\n",
       "    <tr>\n",
       "      <th>2</th>\n",
       "      <td>correction Doc</td>\n",
       "    </tr>\n",
       "    <tr>\n",
       "      <th>3</th>\n",
       "      <td>lendo validation</td>\n",
       "    </tr>\n",
       "    <tr>\n",
       "      <th>4</th>\n",
       "      <td>perapare contracts</td>\n",
       "    </tr>\n",
       "    <tr>\n",
       "      <th>5</th>\n",
       "      <td>send contract</td>\n",
       "    </tr>\n",
       "    <tr>\n",
       "      <th>6</th>\n",
       "      <td>purchase code</td>\n",
       "    </tr>\n",
       "    <tr>\n",
       "      <th>7</th>\n",
       "      <td>installments payment</td>\n",
       "    </tr>\n",
       "    <tr>\n",
       "      <th>8</th>\n",
       "      <td>end</td>\n",
       "    </tr>\n",
       "    <tr>\n",
       "      <th>9</th>\n",
       "      <td>pre-creditor-validation</td>\n",
       "    </tr>\n",
       "    <tr>\n",
       "      <th>10</th>\n",
       "      <td>no reply</td>\n",
       "    </tr>\n",
       "    <tr>\n",
       "      <th>11</th>\n",
       "      <td>credit approval</td>\n",
       "    </tr>\n",
       "    <tr>\n",
       "      <th>12</th>\n",
       "      <td>first payment</td>\n",
       "    </tr>\n",
       "    <tr>\n",
       "      <th>13</th>\n",
       "      <td>watting opening account</td>\n",
       "    </tr>\n",
       "    <tr>\n",
       "      <th>14</th>\n",
       "      <td>third party validation</td>\n",
       "    </tr>\n",
       "    <tr>\n",
       "      <th>15</th>\n",
       "      <td>sending contract</td>\n",
       "    </tr>\n",
       "    <tr>\n",
       "      <th>16</th>\n",
       "      <td>resending contract</td>\n",
       "    </tr>\n",
       "    <tr>\n",
       "      <th>17</th>\n",
       "      <td>lendo approval</td>\n",
       "    </tr>\n",
       "    <tr>\n",
       "      <th>18</th>\n",
       "      <td>waiting for rejection</td>\n",
       "    </tr>\n",
       "    <tr>\n",
       "      <th>19</th>\n",
       "      <td>review</td>\n",
       "    </tr>\n",
       "    <tr>\n",
       "      <th>20</th>\n",
       "      <td>open account API</td>\n",
       "    </tr>\n",
       "    <tr>\n",
       "      <th>21</th>\n",
       "      <td>upload promissory</td>\n",
       "    </tr>\n",
       "    <tr>\n",
       "      <th>22</th>\n",
       "      <td>promissory check</td>\n",
       "    </tr>\n",
       "    <tr>\n",
       "      <th>23</th>\n",
       "      <td>sign online contr</td>\n",
       "    </tr>\n",
       "  </tbody>\n",
       "</table>\n",
       "</div>"
      ],
      "text/plain": [
       "                   status_descr\n",
       "number                         \n",
       "0                      rejected\n",
       "1              initial approval\n",
       "2                correction Doc\n",
       "3              lendo validation\n",
       "4            perapare contracts\n",
       "5                 send contract\n",
       "6                 purchase code\n",
       "7          installments payment\n",
       "8                           end\n",
       "9       pre-creditor-validation\n",
       "10                    no reply \n",
       "11             credit approval \n",
       "12                first payment\n",
       "13      watting opening account\n",
       "14       third party validation\n",
       "15             sending contract\n",
       "16           resending contract\n",
       "17               lendo approval\n",
       "18        waiting for rejection\n",
       "19                       review\n",
       "20             open account API\n",
       "21            upload promissory\n",
       "22             promissory check\n",
       "23            sign online contr"
      ]
     },
     "execution_count": 44,
     "metadata": {},
     "output_type": "execute_result"
    }
   ],
   "source": [
    "status.set_index('number')"
   ]
  },
  {
   "cell_type": "code",
   "execution_count": 45,
   "id": "88dcb811",
   "metadata": {},
   "outputs": [],
   "source": [
    "#  Creating new dataframe from orders and order_item\n",
    "orders_2 = pd.merge(orders,\n",
    "                    order_items,\n",
    "                    how=\"left\",\n",
    "                    left_on=\"id\",\n",
    "                    right_on=\"order_id\")\n",
    "orders_2 = pd.merge(orders_2,\n",
    "                    status,\n",
    "                    how='left',\n",
    "                    left_on='status',\n",
    "                    right_on='number').drop(columns='number').set_index('id').reset_index()"
   ]
  },
  {
   "cell_type": "markdown",
   "id": "bf57a75a",
   "metadata": {},
   "source": [
    "### Analysis data  \n",
    "For analysis data as explained before I try to explore and analyze data from different aspects, first one is from the operation and the reason I choose operation for the first part is best to section for know process in lendo and exploration. \n"
   ]
  },
  {
   "cell_type": "markdown",
   "id": "d6ca7d56",
   "metadata": {},
   "source": [
    "#### Operation\n",
    "Operation and customer service is a big part of the dataset and key reasons of lendo products, most important part of lendo products is to help their customer to get rid of the government and traditional creditor regulation and their traditional process."
   ]
  },
  {
   "cell_type": "markdown",
   "id": "35ef8ccb",
   "metadata": {},
   "source": [
    "##### create a dataframe and new columns for analysis base year and month\n",
    "\n",
    "Make a new column for the orders table which is the first dataframe start to explore for operation section. "
   ]
  },
  {
   "cell_type": "code",
   "execution_count": 46,
   "id": "5ec32e60",
   "metadata": {},
   "outputs": [
    {
     "data": {
      "text/html": [
       "<div>\n",
       "<style scoped>\n",
       "    .dataframe tbody tr th:only-of-type {\n",
       "        vertical-align: middle;\n",
       "    }\n",
       "\n",
       "    .dataframe tbody tr th {\n",
       "        vertical-align: top;\n",
       "    }\n",
       "\n",
       "    .dataframe thead th {\n",
       "        text-align: right;\n",
       "    }\n",
       "</style>\n",
       "<table border=\"1\" class=\"dataframe\">\n",
       "  <thead>\n",
       "    <tr style=\"text-align: right;\">\n",
       "      <th></th>\n",
       "      <th>id</th>\n",
       "      <th>user_id</th>\n",
       "      <th>total_amount</th>\n",
       "      <th>status</th>\n",
       "      <th>total_items_amount</th>\n",
       "      <th>is_lendo</th>\n",
       "      <th>order_id</th>\n",
       "      <th>product_item_id</th>\n",
       "      <th>price</th>\n",
       "      <th>created_at</th>\n",
       "      <th>status_descr</th>\n",
       "      <th>year_create</th>\n",
       "      <th>year_month</th>\n",
       "    </tr>\n",
       "  </thead>\n",
       "  <tbody>\n",
       "    <tr>\n",
       "      <th>0</th>\n",
       "      <td>1.0</td>\n",
       "      <td>7.0</td>\n",
       "      <td>5400000.0</td>\n",
       "      <td>0.0</td>\n",
       "      <td>1813936.0</td>\n",
       "      <td>0.0</td>\n",
       "      <td>1.0</td>\n",
       "      <td>1.0</td>\n",
       "      <td>5400000.0</td>\n",
       "      <td>2018-06-20 08:35:34</td>\n",
       "      <td>rejected</td>\n",
       "      <td>2018</td>\n",
       "      <td>2018-06</td>\n",
       "    </tr>\n",
       "    <tr>\n",
       "      <th>1</th>\n",
       "      <td>2.0</td>\n",
       "      <td>7.0</td>\n",
       "      <td>5400000.0</td>\n",
       "      <td>0.0</td>\n",
       "      <td>5035398.0</td>\n",
       "      <td>0.0</td>\n",
       "      <td>2.0</td>\n",
       "      <td>2.0</td>\n",
       "      <td>5400000.0</td>\n",
       "      <td>2018-06-20 10:29:10</td>\n",
       "      <td>rejected</td>\n",
       "      <td>2018</td>\n",
       "      <td>2018-06</td>\n",
       "    </tr>\n",
       "    <tr>\n",
       "      <th>2</th>\n",
       "      <td>3.0</td>\n",
       "      <td>7.0</td>\n",
       "      <td>5400000.0</td>\n",
       "      <td>0.0</td>\n",
       "      <td>4950845.0</td>\n",
       "      <td>0.0</td>\n",
       "      <td>3.0</td>\n",
       "      <td>2.0</td>\n",
       "      <td>5400000.0</td>\n",
       "      <td>2018-06-20 11:41:48</td>\n",
       "      <td>rejected</td>\n",
       "      <td>2018</td>\n",
       "      <td>2018-06</td>\n",
       "    </tr>\n",
       "    <tr>\n",
       "      <th>3</th>\n",
       "      <td>4.0</td>\n",
       "      <td>8.0</td>\n",
       "      <td>5400000.0</td>\n",
       "      <td>0.0</td>\n",
       "      <td>1813936.0</td>\n",
       "      <td>0.0</td>\n",
       "      <td>4.0</td>\n",
       "      <td>1.0</td>\n",
       "      <td>5400000.0</td>\n",
       "      <td>2018-06-21 06:49:12</td>\n",
       "      <td>rejected</td>\n",
       "      <td>2018</td>\n",
       "      <td>2018-06</td>\n",
       "    </tr>\n",
       "    <tr>\n",
       "      <th>4</th>\n",
       "      <td>5.0</td>\n",
       "      <td>7.0</td>\n",
       "      <td>8000000.0</td>\n",
       "      <td>0.0</td>\n",
       "      <td>4413936.0</td>\n",
       "      <td>0.0</td>\n",
       "      <td>5.0</td>\n",
       "      <td>6.0</td>\n",
       "      <td>8000000.0</td>\n",
       "      <td>2018-06-23 04:35:51</td>\n",
       "      <td>rejected</td>\n",
       "      <td>2018</td>\n",
       "      <td>2018-06</td>\n",
       "    </tr>\n",
       "  </tbody>\n",
       "</table>\n",
       "</div>"
      ],
      "text/plain": [
       "    id  user_id  total_amount  status  total_items_amount  is_lendo  order_id  \\\n",
       "0  1.0      7.0     5400000.0     0.0           1813936.0       0.0       1.0   \n",
       "1  2.0      7.0     5400000.0     0.0           5035398.0       0.0       2.0   \n",
       "2  3.0      7.0     5400000.0     0.0           4950845.0       0.0       3.0   \n",
       "3  4.0      8.0     5400000.0     0.0           1813936.0       0.0       4.0   \n",
       "4  5.0      7.0     8000000.0     0.0           4413936.0       0.0       5.0   \n",
       "\n",
       "   product_item_id      price          created_at status_descr  year_create  \\\n",
       "0              1.0  5400000.0 2018-06-20 08:35:34     rejected         2018   \n",
       "1              2.0  5400000.0 2018-06-20 10:29:10     rejected         2018   \n",
       "2              2.0  5400000.0 2018-06-20 11:41:48     rejected         2018   \n",
       "3              1.0  5400000.0 2018-06-21 06:49:12     rejected         2018   \n",
       "4              6.0  8000000.0 2018-06-23 04:35:51     rejected         2018   \n",
       "\n",
       "  year_month  \n",
       "0    2018-06  \n",
       "1    2018-06  \n",
       "2    2018-06  \n",
       "3    2018-06  \n",
       "4    2018-06  "
      ]
     },
     "execution_count": 46,
     "metadata": {},
     "output_type": "execute_result"
    }
   ],
   "source": [
    "# make columns for year and year and month toghether from created orders\n",
    "orders_2['year_create'] = pd.DatetimeIndex(orders_2['created_at']).year\n",
    "orders_2['year_month'] =pd.to_datetime(orders_2['created_at']).dt.to_period('m')\n",
    "orders_2.head()"
   ]
  },
  {
   "cell_type": "markdown",
   "id": "ac52b333",
   "metadata": {},
   "source": [
    "##### Orders create per days,month and year"
   ]
  },
  {
   "cell_type": "markdown",
   "id": "8c548303",
   "metadata": {},
   "source": [
    "The first item I check is the number of orders create each day. It's about a major task of operation to process order request of users its good measure for calculating workload of operation.  "
   ]
  },
  {
   "cell_type": "code",
   "execution_count": 49,
   "id": "fdd5fb29",
   "metadata": {},
   "outputs": [],
   "source": [
    "orders_per_day = orders_2[['id']].groupby(\n",
    "    pd.to_datetime(orders_2.created_at).dt.floor('d')).count().reset_index()\n",
    "# orders_per_day['months'] = orders_per_day.created_at.dt.month_name()\n",
    "\n",
    "orders_per_day['months_number'] = orders_per_day.created_at.dt.month\n",
    "orders_per_day['year']= orders_per_day.created_at.dt.year\n",
    "orders_per_days = orders_per_day.groupby(by=['created_at','year']).sum().drop(\n",
    "    columns='months_number').reset_index()\n",
    "orders_per_days['created_at'] = orders_per_days['created_at'].dt.day\n",
    "orders_per_days = orders_per_days.rename_columns({\"created_at\":\"day\"})\n",
    "orders_per_days = orders_per_days.groupby(by=['day','year']).sum().reset_index()\n",
    "orders_per_days = orders_per_days.pivot('day','year','id')\n"
   ]
  },
  {
   "cell_type": "markdown",
   "id": "c108847f",
   "metadata": {},
   "source": [
    "###### Number orders per day"
   ]
  },
  {
   "cell_type": "code",
   "execution_count": 50,
   "id": "e85b7a3a",
   "metadata": {},
   "outputs": [
    {
     "data": {
      "text/plain": [
       "Text(0.5, 1.0, 'Number Orders Create Each Day')"
      ]
     },
     "execution_count": 50,
     "metadata": {},
     "output_type": "execute_result"
    },
    {
     "data": {
      "text/plain": [
       "<AxesSubplot:title={'center':'Number Orders Create Each Day'}, xlabel='year', ylabel='day'>"
      ]
     },
     "execution_count": 50,
     "metadata": {},
     "output_type": "execute_result"
    },
    {
     "data": {
      "image/png": "[encoded data removed]",
      "text/plain": [
       "<Figure size 792x504 with 2 Axes>"
      ]
     },
     "metadata": {
      "needs_background": "light"
     },
     "output_type": "display_data"
    }
   ],
   "source": [
    "f, ax = plt.subplots(figsize=(11,7))\n",
    "plt.title('Number Orders Create Each Day')\n",
    "sns.heatmap(orders_per_days,annot=True,fmt='g')"
   ]
  },
  {
   "cell_type": "markdown",
   "id": "354cfb2d",
   "metadata": {},
   "source": [
    "###### Number orders per month and year"
   ]
  },
  {
   "cell_type": "code",
   "execution_count": 51,
   "id": "85a8e5aa",
   "metadata": {},
   "outputs": [
    {
     "data": {
      "text/plain": [
       "<AxesSubplot:xlabel='months_number'>"
      ]
     },
     "execution_count": 51,
     "metadata": {},
     "output_type": "execute_result"
    },
    {
     "data": {
      "text/plain": [
       "Text(0.5, 1.0, 'Average Number Of Orders Create Per Month')"
      ]
     },
     "execution_count": 51,
     "metadata": {},
     "output_type": "execute_result"
    },
    {
     "data": {
      "text/plain": [
       "<AxesSubplot:xlabel='year'>"
      ]
     },
     "execution_count": 51,
     "metadata": {},
     "output_type": "execute_result"
    },
    {
     "data": {
      "text/plain": [
       "Text(0.5, 1.0, 'Average Number Of Orders Create Per Year')"
      ]
     },
     "execution_count": 51,
     "metadata": {},
     "output_type": "execute_result"
    },
    {
     "data": {
      "image/png": "[encoded data removed]",
      "text/plain": [
       "<Figure size 432x288 with 1 Axes>"
      ]
     },
     "metadata": {
      "needs_background": "light"
     },
     "output_type": "display_data"
    },
    {
     "data": {
      "image/png": "[encoded data removed]",
      "text/plain": [
       "<Figure size 432x288 with 1 Axes>"
      ]
     },
     "metadata": {
      "needs_background": "light"
     },
     "output_type": "display_data"
    }
   ],
   "source": [
    "orders_per_day[['months_number','id']].groupby('months_number').mean().plot.bar()\n",
    "plt.title('Average Number Of Orders Create Per Month')\n",
    "orders_per_day[['year','id']].groupby('year').mean().plot.bar()\n",
    "plt.title('Average Number Of Orders Create Per Year')\n",
    "plt.show()"
   ]
  },
  {
   "cell_type": "code",
   "execution_count": 52,
   "id": "ee7ad0e8",
   "metadata": {
    "scrolled": false
   },
   "outputs": [
    {
     "data": {
      "text/plain": [
       "Text(0.5, 1.0, 'Number Orders Create Per Months')"
      ]
     },
     "execution_count": 52,
     "metadata": {},
     "output_type": "execute_result"
    },
    {
     "data": {
      "text/plain": [
       "<AxesSubplot:title={'center':'Number Orders Create Per Months'}, xlabel='year', ylabel='months_number'>"
      ]
     },
     "execution_count": 52,
     "metadata": {},
     "output_type": "execute_result"
    },
    {
     "data": {
      "image/png": "[encoded data removed]",
      "text/plain": [
       "<Figure size 432x396 with 2 Axes>"
      ]
     },
     "metadata": {
      "needs_background": "light"
     },
     "output_type": "display_data"
    }
   ],
   "source": [
    "orders_per_months = orders_per_day.groupby(by=['year','months_number']).sum().reset_index()\n",
    "orders_per_months= orders_per_months.pivot('months_number','year','id')\n",
    "f, ax = plt.subplots(figsize=(6,5.5))\n",
    "plt.title('Number Orders Create Per Months')\n",
    "sns.heatmap(orders_per_months,annot=True,fmt='g')"
   ]
  },
  {
   "cell_type": "code",
   "execution_count": 53,
   "id": "a0316055",
   "metadata": {
    "scrolled": true
   },
   "outputs": [
    {
     "data": {
      "text/plain": [
       "<AxesSubplot:>"
      ]
     },
     "execution_count": 53,
     "metadata": {},
     "output_type": "execute_result"
    },
    {
     "data": {
      "image/png": "[encoded data removed]",
      "text/plain": [
       "<Figure size 864x432 with 1 Axes>"
      ]
     },
     "metadata": {
      "needs_background": "light"
     },
     "output_type": "display_data"
    }
   ],
   "source": [
    "(pd.value_counts((orders_2['year_month'])).sort_index()).plot.bar(figsize=[12,6])\n",
    "plt.show()"
   ]
  },
  {
   "cell_type": "code",
   "execution_count": 54,
   "id": "fea664a1",
   "metadata": {},
   "outputs": [
    {
     "name": "stdout",
     "output_type": "stream",
     "text": [
      "id    79.443299\n",
      "dtype: float64\n",
      "id    152.11326\n",
      "dtype: float64\n",
      "id    73.767956\n",
      "dtype: float64\n",
      "id    262.150685\n",
      "dtype: float64\n",
      "id    536.488584\n",
      "dtype: float64\n"
     ]
    }
   ],
   "source": [
    "orders_year=orders_per_day.year.unique()\n",
    "for i in orders_year:\n",
    "    df=orders_per_day[['id']]\n",
    "    print(df.loc[orders_per_day.year == i].mean())\n"
   ]
  },
  {
   "cell_type": "markdown",
   "id": "4f995b20",
   "metadata": {},
   "source": [
    "About the above plots when we check the dataset we need considers some mispresent in the data.  \n",
    "   1. Number of orders requests in these five years does not always increase and it seems the number of orders decrease in 2020 after investigating I found the reason is a policy change in regulatory organization for Lendo and obligate Lendo to Change financial source from P2P Loan model to use the internal resource or using leasing as a creditor.  \n",
    "   2. 2018 data start from the middle of year  \n",
    "   3. 2022 is the current year and we have only 8 months of data  \n",
    "   4. one of a cause of the changing trend of order request is launching new products in a different part of a year and its active new features step by step, that means new products perhaps take more than 6 months to fully operate and in while some action is processing manually and it seems its happen 3 time in the duration of activity of Lendo until today and lunching is in different time of year effects number of orders request from customers.   \n",
    "   5. Another reason for changing structure of source of credits, steps like a first-year resource for sell come from capital and in 2019 change from the capital to external credit first to P2P and then from leasing and in the end changing in last year from bank Ayandeh which as I say before became a shareholder of the company and provide credit for Lendo .  \n",
    "    but it seems to take more than one year to automate the process and get government approval for changing the process from manually or better say physically to online last month lendo get permission to start launching products for the first time in Iran and can process credit requests online.  \n",
    "    Lendo having significant growth in the middle of 2021 and the trend seems to continue to today but has a gap for a month it's becuse that month it's near to new year and base regulation of bank lendo can't get any credit near three months is the end of February to May.  "
   ]
  },
  {
   "cell_type": "markdown",
   "id": "f7355a2b",
   "metadata": {},
   "source": [
    "##### Checking trend of in creating orders"
   ]
  },
  {
   "cell_type": "code",
   "execution_count": 55,
   "id": "043996d7",
   "metadata": {},
   "outputs": [
    {
     "data": {
      "text/plain": [
       "<Figure size 936x432 with 0 Axes>"
      ]
     },
     "execution_count": 55,
     "metadata": {},
     "output_type": "execute_result"
    },
    {
     "data": {
      "text/plain": [
       "<AxesSubplot:xlabel='months_number', ylabel='id'>"
      ]
     },
     "execution_count": 55,
     "metadata": {},
     "output_type": "execute_result"
    },
    {
     "data": {
      "text/plain": [
       "Text(0, 0.5, 'Number Of Orders')"
      ]
     },
     "execution_count": 55,
     "metadata": {},
     "output_type": "execute_result"
    },
    {
     "data": {
      "text/plain": [
       "Text(0.5, 0, 'Months')"
      ]
     },
     "execution_count": 55,
     "metadata": {},
     "output_type": "execute_result"
    },
    {
     "data": {
      "text/plain": [
       "Text(0.5, 1.0, 'Y Scale Base Number Of Oders Per Day')"
      ]
     },
     "execution_count": 55,
     "metadata": {},
     "output_type": "execute_result"
    },
    {
     "data": {
      "text/plain": [
       "Text(0.5, 0.98, 'Number Orders Created')"
      ]
     },
     "execution_count": 55,
     "metadata": {},
     "output_type": "execute_result"
    },
    {
     "data": {
      "text/plain": [
       "<Figure size 936x432 with 0 Axes>"
      ]
     },
     "execution_count": 55,
     "metadata": {},
     "output_type": "execute_result"
    },
    {
     "data": {
      "text/plain": [
       "<AxesSubplot:xlabel='months_number', ylabel='id'>"
      ]
     },
     "execution_count": 55,
     "metadata": {},
     "output_type": "execute_result"
    },
    {
     "data": {
      "text/plain": [
       "Text(0, 0.5, 'logaritm Of Numbers Orders Per Day')"
      ]
     },
     "execution_count": 55,
     "metadata": {},
     "output_type": "execute_result"
    },
    {
     "data": {
      "text/plain": [
       "Text(0.5, 0, 'Months')"
      ]
     },
     "execution_count": 55,
     "metadata": {},
     "output_type": "execute_result"
    },
    {
     "data": {
      "text/plain": [
       "Text(0.5, 1.0, 'Y Scale Base Logaritmic Scale')"
      ]
     },
     "execution_count": 55,
     "metadata": {},
     "output_type": "execute_result"
    },
    {
     "data": {
      "image/png": "[encoded data removed]",
      "text/plain": [
       "<Figure size 936x432 with 1 Axes>"
      ]
     },
     "metadata": {
      "needs_background": "light"
     },
     "output_type": "display_data"
    },
    {
     "data": {
      "image/png": "[encoded data removed]",
      "text/plain": [
       "<Figure size 936x432 with 1 Axes>"
      ]
     },
     "metadata": {
      "needs_background": "light"
     },
     "output_type": "display_data"
    }
   ],
   "source": [
    "plt.figure(figsize = (13,6))\n",
    "sns.lineplot(data=orders_per_day,\n",
    "             x='months_number',y='id',hue='year',palette=['r', 'g','black','blue','gray'])\n",
    "plt.ylabel('Number Of Orders')\n",
    "plt.xlabel('Months')\n",
    "plt.title('Y Scale Base Number Of Oders Per Day')\n",
    "plt.suptitle('Number Orders Created', \n",
    "              fontweight='bold')\n",
    "plt.figure(figsize = (13,6))\n",
    "sns.lineplot(data=orders_per_day,\n",
    "             x='months_number',y='id',hue='year',palette=['r', 'g','black','blue','gray'])\n",
    "plt.ylabel('logaritm Of Numbers Orders Per Day')\n",
    "plt.xlabel('Months')\n",
    "plt.yscale('log')\n",
    "plt.title('Y Scale Base Logaritmic Scale')\n",
    "plt.tight_layout()\n",
    "plt.show()"
   ]
  },
  {
   "cell_type": "markdown",
   "id": "45f5798a",
   "metadata": {},
   "source": [
    "We can see trend orders base per year and there is some change in some years such as all orders decrease orders from February and start the increase in June but 2020 start increase in May, in 2019 orders request a decrease in November and trend it's against another year. I explain reason of the ordrs above "
   ]
  },
  {
   "cell_type": "markdown",
   "id": "c99a87bc",
   "metadata": {},
   "source": [
    "##### Number of order per status\n",
    "For checking number orders, I use status for grouping, the column shows the current situation of orders. \n",
    "The priority of Lendo makes the process of customer requests the quickest time. They changed steps or make improvements and major actions happened last year, after changing regulatory requirements."
   ]
  },
  {
   "cell_type": "code",
   "execution_count": 56,
   "id": "6c78836a",
   "metadata": {},
   "outputs": [
    {
     "name": "stdout",
     "output_type": "stream",
     "text": [
      "Number of orders create :  310357 \n",
      " \n",
      " Number of orders create in each status \n",
      " rejected                   216202\n",
      "correction Doc              41702\n",
      "end                         33343\n",
      "installments payment        16741\n",
      "first payment                 599\n",
      "upload promissory             598\n",
      "purchase code                 393\n",
      "waiting for rejection         202\n",
      "watting opening account       192\n",
      "pre-creditor-validation       175\n",
      "lendo validation              112\n",
      "sign online contr              62\n",
      "credit approval                20\n",
      "review                         12\n",
      "promissory check                2\n",
      "initial approval                1\n",
      "lendo approval                  1\n",
      "Name: status_descr, dtype: int64\n"
     ]
    }
   ],
   "source": [
    "orders_status = pd.value_counts(orders_2.status_descr)\n",
    "print('Number of orders create : ', orders_status.sum(), '\\n', '\\n',\n",
    "      'Number of orders create in each status','\\n',orders_status)"
   ]
  },
  {
   "cell_type": "code",
   "execution_count": 57,
   "id": "9c7c64fd",
   "metadata": {},
   "outputs": [
    {
     "data": {
      "text/plain": [
       "<AxesSubplot:>"
      ]
     },
     "execution_count": 57,
     "metadata": {},
     "output_type": "execute_result"
    },
    {
     "data": {
      "text/plain": [
       "Text(0.5, 1.0, 'Number of orders in each status')"
      ]
     },
     "execution_count": 57,
     "metadata": {},
     "output_type": "execute_result"
    },
    {
     "data": {
      "image/png": "[encoded data removed]",
      "text/plain": [
       "<Figure size 432x288 with 1 Axes>"
      ]
     },
     "metadata": {
      "needs_background": "light"
     },
     "output_type": "display_data"
    }
   ],
   "source": [
    "orders_status.plot.bar()\n",
    "plt.title('Number of orders in each status')\n",
    "plt.show()"
   ]
  },
  {
   "cell_type": "markdown",
   "id": "3b83474a",
   "metadata": {},
   "source": [
    "##### Number of orders Per Status base logarithmic Scale\n",
    "To find the near number of orders and gap between another status I'm using logarithmic scales.  \n",
    "[Logarithmic scale](https://matplotlib.org/stable/api/scale_api.html#matplotlib.scale.LogScale)"
   ]
  },
  {
   "cell_type": "code",
   "execution_count": 58,
   "id": "c867ba06",
   "metadata": {},
   "outputs": [
    {
     "data": {
      "text/plain": [
       "<AxesSubplot:>"
      ]
     },
     "execution_count": 58,
     "metadata": {},
     "output_type": "execute_result"
    },
    {
     "data": {
      "text/plain": [
       "Text(0.5, 0, 'Status')"
      ]
     },
     "execution_count": 58,
     "metadata": {},
     "output_type": "execute_result"
    },
    {
     "data": {
      "text/plain": [
       "Text(0, 0.5, 'number of orders')"
      ]
     },
     "execution_count": 58,
     "metadata": {},
     "output_type": "execute_result"
    },
    {
     "data": {
      "text/plain": [
       "Text(0.5, 1.0, 'Number of orders in each status base logarithmic scale')"
      ]
     },
     "execution_count": 58,
     "metadata": {},
     "output_type": "execute_result"
    },
    {
     "data": {
      "image/png": "[encoded data removed]",
      "text/plain": [
       "<Figure size 432x288 with 1 Axes>"
      ]
     },
     "metadata": {
      "needs_background": "light"
     },
     "output_type": "display_data"
    }
   ],
   "source": [
    "pd.value_counts(orders_2.status_descr).plot.bar()\n",
    "plt.yscale('log')\n",
    "plt.xlabel('Status')\n",
    "plt.ylabel('number of orders')\n",
    "plt.title('Number of orders in each status base logarithmic scale')\n",
    "\n",
    "plt.show()"
   ]
  },
  {
   "cell_type": "markdown",
   "id": "e0cc70e9",
   "metadata": {},
   "source": [
    "As you can see in the plot orders don't distribute evenly, And there is a huge gap between the numbers of orders in status,  one of the reasons is the number of all orders in the dataset is more than 300000, and the immense part of orders are in  4 status.\n",
    "The number of orders in 0 status is making a huge gap with another status.   for showing all data besides number I using logarithmic scales.  \n",
    "[Logarithmic scale](https://matplotlib.org/stable/api/scale_api.html#matplotlib.scale.LogScale)"
   ]
  },
  {
   "cell_type": "markdown",
   "id": "707e47b2",
   "metadata": {},
   "source": [
    "##### Checking orders for distrubiotion(Fail or Successful)"
   ]
  },
  {
   "cell_type": "code",
   "execution_count": 59,
   "id": "bbf65013",
   "metadata": {
    "scrolled": false
   },
   "outputs": [
    {
     "name": "stdout",
     "output_type": "stream",
     "text": [
      "Number of successful orders :  50084 \n",
      " Number of failed orders :  257904 \n",
      " Ratio of successful orders to failed orders 19.42 %\n"
     ]
    }
   ],
   "source": [
    "successful_orders = orders_2.loc[(orders_2['status'] == 7) |\n",
    "                                 (orders_2['status'] == 8)]\n",
    "failed_orders = orders_2.loc[(orders_2['status'] == 0) |\n",
    "                             (orders_2['status'] == 2)]\n",
    "\n",
    "print('Number of successful orders : ', successful_orders.id.count(), '\\n',\n",
    "      'Number of failed orders : ', failed_orders.id.count(), '\\n',\n",
    "      'Ratio of successful orders to failed orders',\n",
    "      round(successful_orders.id.count() / failed_orders.id.count() * 100,\n",
    "            2), '%')"
   ]
  },
  {
   "cell_type": "markdown",
   "id": "180d5d27",
   "metadata": {},
   "source": [
    "I calculate the ratio of successful orders, I consider status \"0\" and \"2\" as failed orders, and for successful orders (installment payment = 7 and finish = 8) status.\n",
    "The ratio is 19.4, which that means from 5 orders is create just one of them became successful order, and it's a tremendous waste of lendo resources.\n",
    "We check data about this ratio and the factors that cause this problem."
   ]
  },
  {
   "cell_type": "markdown",
   "id": "b96c471a",
   "metadata": {},
   "source": [
    "##### Reasons of failed orders based on  users or customer comments"
   ]
  },
  {
   "cell_type": "markdown",
   "id": "56430666",
   "metadata": {},
   "source": [
    "Orders in status 0 and 18 check user or customer comment about reason cancel order.  \n",
    "`SQL query for reason of fail orders`   \n",
    "  \n",
    "SELECT form_data.value_fa AS reason,COUNT(DISTINCT orders.id) as COUNT FROM orders  \n",
    "INNER JOIN order_status_logs ON order_status_logs.order_id=orders.id AND order_status_logs.new_status IN (0,18)  \n",
    "INNER JOIN order_rejects o ON orders.id = o.order_id AND o.created_at=order_status_logs.created_at  \n",
    "INNER JOIN form_data ON o.reason = form_data.key AND form_data.section = 'admins.orders.form.rejects'  \n",
    "WHERE date(o.updated_at) < date('2022-08-07')  \n",
    "GROUP BY form_data.value_fa  \n",
    "ORDER BY count DESC  \n"
   ]
  },
  {
   "cell_type": "code",
   "execution_count": 60,
   "id": "1ca28fdc",
   "metadata": {},
   "outputs": [
    {
     "data": {
      "text/html": [
       "<div>\n",
       "<style scoped>\n",
       "    .dataframe tbody tr th:only-of-type {\n",
       "        vertical-align: middle;\n",
       "    }\n",
       "\n",
       "    .dataframe tbody tr th {\n",
       "        vertical-align: top;\n",
       "    }\n",
       "\n",
       "    .dataframe thead th {\n",
       "        text-align: right;\n",
       "    }\n",
       "</style>\n",
       "<table border=\"1\" class=\"dataframe\">\n",
       "  <thead>\n",
       "    <tr style=\"text-align: right;\">\n",
       "      <th></th>\n",
       "      <th>COUNT</th>\n",
       "      <th>perecent</th>\n",
       "    </tr>\n",
       "    <tr>\n",
       "      <th>reason</th>\n",
       "      <th></th>\n",
       "      <th></th>\n",
       "    </tr>\n",
       "  </thead>\n",
       "  <tbody>\n",
       "    <tr>\n",
       "      <th>fail - correction Doc - after 96 hours</th>\n",
       "      <td>123104</td>\n",
       "      <td>62.386102</td>\n",
       "    </tr>\n",
       "    <tr>\n",
       "      <th>user-cancel</th>\n",
       "      <td>29295</td>\n",
       "      <td>14.845991</td>\n",
       "    </tr>\n",
       "    <tr>\n",
       "      <th>user-cart cancel</th>\n",
       "      <td>8505</td>\n",
       "      <td>4.310126</td>\n",
       "    </tr>\n",
       "    <tr>\n",
       "      <th>duplicate orders</th>\n",
       "      <td>5900</td>\n",
       "      <td>2.989976</td>\n",
       "    </tr>\n",
       "    <tr>\n",
       "      <th>out of range</th>\n",
       "      <td>5098</td>\n",
       "      <td>2.583542</td>\n",
       "    </tr>\n",
       "    <tr>\n",
       "      <th>customer unresponsiveness</th>\n",
       "      <td>4407</td>\n",
       "      <td>2.233360</td>\n",
       "    </tr>\n",
       "    <tr>\n",
       "      <th>third party validation fail</th>\n",
       "      <td>3516</td>\n",
       "      <td>1.781823</td>\n",
       "    </tr>\n",
       "    <tr>\n",
       "      <th>pastdue credit</th>\n",
       "      <td>3274</td>\n",
       "      <td>1.659183</td>\n",
       "    </tr>\n",
       "    <tr>\n",
       "      <th>above loan limit</th>\n",
       "      <td>3108</td>\n",
       "      <td>1.575059</td>\n",
       "    </tr>\n",
       "    <tr>\n",
       "      <th>military service status</th>\n",
       "      <td>2184</td>\n",
       "      <td>1.106798</td>\n",
       "    </tr>\n",
       "    <tr>\n",
       "      <th>creditor - reject</th>\n",
       "      <td>1583</td>\n",
       "      <td>0.802226</td>\n",
       "    </tr>\n",
       "    <tr>\n",
       "      <th>delay to send contract</th>\n",
       "      <td>1123</td>\n",
       "      <td>0.569109</td>\n",
       "    </tr>\n",
       "    <tr>\n",
       "      <th>validation-reject</th>\n",
       "      <td>1083</td>\n",
       "      <td>0.548838</td>\n",
       "    </tr>\n",
       "    <tr>\n",
       "      <th>fail - E-promissory</th>\n",
       "      <td>1032</td>\n",
       "      <td>0.522992</td>\n",
       "    </tr>\n",
       "    <tr>\n",
       "      <th>less 1k</th>\n",
       "      <td>4114</td>\n",
       "      <td>2.084875</td>\n",
       "    </tr>\n",
       "  </tbody>\n",
       "</table>\n",
       "</div>"
      ],
      "text/plain": [
       "                                         COUNT   perecent\n",
       "reason                                                   \n",
       "fail - correction Doc - after 96 hours  123104  62.386102\n",
       "user-cancel                              29295  14.845991\n",
       "user-cart cancel                          8505   4.310126\n",
       "duplicate orders                          5900   2.989976\n",
       "out of range                              5098   2.583542\n",
       "customer unresponsiveness                 4407   2.233360\n",
       "third party validation fail               3516   1.781823\n",
       "pastdue credit                            3274   1.659183\n",
       "above loan limit                          3108   1.575059\n",
       "military service status                   2184   1.106798\n",
       "creditor - reject                         1583   0.802226\n",
       "delay to send contract                    1123   0.569109\n",
       "validation-reject                         1083   0.548838\n",
       "fail - E-promissory                       1032   0.522992\n",
       "less 1k                                   4114   2.084875"
      ]
     },
     "execution_count": 60,
     "metadata": {},
     "output_type": "execute_result"
    },
    {
     "data": {
      "text/html": [
       "<div>\n",
       "<style scoped>\n",
       "    .dataframe tbody tr th:only-of-type {\n",
       "        vertical-align: middle;\n",
       "    }\n",
       "\n",
       "    .dataframe tbody tr th {\n",
       "        vertical-align: top;\n",
       "    }\n",
       "\n",
       "    .dataframe thead th {\n",
       "        text-align: right;\n",
       "    }\n",
       "</style>\n",
       "<table border=\"1\" class=\"dataframe\">\n",
       "  <thead>\n",
       "    <tr style=\"text-align: right;\">\n",
       "      <th></th>\n",
       "      <th>reason</th>\n",
       "      <th>COUNT</th>\n",
       "      <th>perecent</th>\n",
       "    </tr>\n",
       "  </thead>\n",
       "  <tbody>\n",
       "    <tr>\n",
       "      <th>0</th>\n",
       "      <td>fail - correction Doc - after 96 hours</td>\n",
       "      <td>123104</td>\n",
       "      <td>62.386102</td>\n",
       "    </tr>\n",
       "    <tr>\n",
       "      <th>1</th>\n",
       "      <td>user-cancel</td>\n",
       "      <td>29295</td>\n",
       "      <td>14.845991</td>\n",
       "    </tr>\n",
       "    <tr>\n",
       "      <th>2</th>\n",
       "      <td>user-cart cancel</td>\n",
       "      <td>8505</td>\n",
       "      <td>4.310126</td>\n",
       "    </tr>\n",
       "    <tr>\n",
       "      <th>3</th>\n",
       "      <td>duplicate orders</td>\n",
       "      <td>5900</td>\n",
       "      <td>2.989976</td>\n",
       "    </tr>\n",
       "    <tr>\n",
       "      <th>4</th>\n",
       "      <td>out of range</td>\n",
       "      <td>5098</td>\n",
       "      <td>2.583542</td>\n",
       "    </tr>\n",
       "    <tr>\n",
       "      <th>5</th>\n",
       "      <td>customer unresponsiveness</td>\n",
       "      <td>4407</td>\n",
       "      <td>2.233360</td>\n",
       "    </tr>\n",
       "    <tr>\n",
       "      <th>6</th>\n",
       "      <td>third party validation fail</td>\n",
       "      <td>3516</td>\n",
       "      <td>1.781823</td>\n",
       "    </tr>\n",
       "    <tr>\n",
       "      <th>7</th>\n",
       "      <td>pastdue credit</td>\n",
       "      <td>3274</td>\n",
       "      <td>1.659183</td>\n",
       "    </tr>\n",
       "    <tr>\n",
       "      <th>8</th>\n",
       "      <td>above loan limit</td>\n",
       "      <td>3108</td>\n",
       "      <td>1.575059</td>\n",
       "    </tr>\n",
       "    <tr>\n",
       "      <th>9</th>\n",
       "      <td>military service status</td>\n",
       "      <td>2184</td>\n",
       "      <td>1.106798</td>\n",
       "    </tr>\n",
       "    <tr>\n",
       "      <th>10</th>\n",
       "      <td>creditor - reject</td>\n",
       "      <td>1583</td>\n",
       "      <td>0.802226</td>\n",
       "    </tr>\n",
       "    <tr>\n",
       "      <th>11</th>\n",
       "      <td>delay to send contract</td>\n",
       "      <td>1123</td>\n",
       "      <td>0.569109</td>\n",
       "    </tr>\n",
       "    <tr>\n",
       "      <th>12</th>\n",
       "      <td>validation-reject</td>\n",
       "      <td>1083</td>\n",
       "      <td>0.548838</td>\n",
       "    </tr>\n",
       "    <tr>\n",
       "      <th>13</th>\n",
       "      <td>fail - E-promissory</td>\n",
       "      <td>1032</td>\n",
       "      <td>0.522992</td>\n",
       "    </tr>\n",
       "    <tr>\n",
       "      <th>14</th>\n",
       "      <td>less 1k</td>\n",
       "      <td>4114</td>\n",
       "      <td>2.084875</td>\n",
       "    </tr>\n",
       "  </tbody>\n",
       "</table>\n",
       "</div>"
      ],
      "text/plain": [
       "                                    reason   COUNT   perecent\n",
       "0   fail - correction Doc - after 96 hours  123104  62.386102\n",
       "1                              user-cancel   29295  14.845991\n",
       "2                         user-cart cancel    8505   4.310126\n",
       "3                         duplicate orders    5900   2.989976\n",
       "4                             out of range    5098   2.583542\n",
       "5                customer unresponsiveness    4407   2.233360\n",
       "6              third party validation fail    3516   1.781823\n",
       "7                           pastdue credit    3274   1.659183\n",
       "8                         above loan limit    3108   1.575059\n",
       "9                  military service status    2184   1.106798\n",
       "10                       creditor - reject    1583   0.802226\n",
       "11                  delay to send contract    1123   0.569109\n",
       "12                       validation-reject    1083   0.548838\n",
       "13                     fail - E-promissory    1032   0.522992\n",
       "14                                 less 1k    4114   2.084875"
      ]
     },
     "execution_count": 60,
     "metadata": {},
     "output_type": "execute_result"
    }
   ],
   "source": [
    "reason_fail = pd.read_excel('Query/reason of reject order.xlsx')\n",
    "reason_fail['perecent'] = reason_fail['COUNT']/reason_fail['COUNT'].sum()*100\n",
    "reason_fail.set_index('reason')"
   ]
  },
  {
   "cell_type": "code",
   "execution_count": 62,
   "id": "c4b7fe79",
   "metadata": {},
   "outputs": [
    {
     "data": {
      "text/plain": [
       "<AxesSubplot:xlabel='reason'>"
      ]
     },
     "execution_count": 62,
     "metadata": {},
     "output_type": "execute_result"
    },
    {
     "data": {
      "image/png": "[encoded data removed]",
      "text/plain": [
       "<Figure size 432x288 with 1 Axes>"
      ]
     },
     "metadata": {
      "needs_background": "light"
     },
     "output_type": "display_data"
    }
   ],
   "source": [
    "reason_fail[['reason', 'COUNT']].groupby('reason').sum().sort_values(\n",
    "    'COUNT', ascending=False).plot.bar()"
   ]
  },
  {
   "cell_type": "markdown",
   "id": "619d62e8",
   "metadata": {},
   "source": [
    "For find reasen I use `order_status_logs`  table and export data base below query.  \n",
    "`SQL query - orders to zero status`  \n",
    "SELECT old_status , COUNT(*) AS orders_count  \n",
    "FROM order_status_logs   \n",
    "`filter orders to 312570 and date to 2022-08-07 because its order and date of get original data`  \n",
    "WHERE new_status = 0 AND order_id < 312570 AND updated_at <= '2022-08-07'   \n",
    "GROUP BY old_status   \n",
    "ORDER BY orders_count DESC  "
   ]
  },
  {
   "cell_type": "code",
   "execution_count": 63,
   "id": "56c2d6f2",
   "metadata": {},
   "outputs": [
    {
     "data": {
      "text/html": [
       "<div>\n",
       "<style scoped>\n",
       "    .dataframe tbody tr th:only-of-type {\n",
       "        vertical-align: middle;\n",
       "    }\n",
       "\n",
       "    .dataframe tbody tr th {\n",
       "        vertical-align: top;\n",
       "    }\n",
       "\n",
       "    .dataframe thead th {\n",
       "        text-align: right;\n",
       "    }\n",
       "</style>\n",
       "<table border=\"1\" class=\"dataframe\">\n",
       "  <thead>\n",
       "    <tr style=\"text-align: right;\">\n",
       "      <th></th>\n",
       "      <th>old_status</th>\n",
       "      <th>orders_count</th>\n",
       "      <th>perecent</th>\n",
       "    </tr>\n",
       "  </thead>\n",
       "  <tbody>\n",
       "    <tr>\n",
       "      <th>0</th>\n",
       "      <td>2.0</td>\n",
       "      <td>110502.0</td>\n",
       "      <td>54.118834</td>\n",
       "    </tr>\n",
       "    <tr>\n",
       "      <th>1</th>\n",
       "      <td>18.0</td>\n",
       "      <td>28002.0</td>\n",
       "      <td>13.714101</td>\n",
       "    </tr>\n",
       "    <tr>\n",
       "      <th>2</th>\n",
       "      <td>9.0</td>\n",
       "      <td>21917.0</td>\n",
       "      <td>10.733946</td>\n",
       "    </tr>\n",
       "    <tr>\n",
       "      <th>3</th>\n",
       "      <td>3.0</td>\n",
       "      <td>9821.0</td>\n",
       "      <td>4.809877</td>\n",
       "    </tr>\n",
       "    <tr>\n",
       "      <th>4</th>\n",
       "      <td>13.0</td>\n",
       "      <td>7414.0</td>\n",
       "      <td>3.631039</td>\n",
       "    </tr>\n",
       "    <tr>\n",
       "      <th>5</th>\n",
       "      <td>1.0</td>\n",
       "      <td>7186.0</td>\n",
       "      <td>3.519375</td>\n",
       "    </tr>\n",
       "    <tr>\n",
       "      <th>6</th>\n",
       "      <td>4.0</td>\n",
       "      <td>5712.0</td>\n",
       "      <td>2.797477</td>\n",
       "    </tr>\n",
       "    <tr>\n",
       "      <th>7</th>\n",
       "      <td>19.0</td>\n",
       "      <td>3328.0</td>\n",
       "      <td>1.629902</td>\n",
       "    </tr>\n",
       "    <tr>\n",
       "      <th>8</th>\n",
       "      <td>10.0</td>\n",
       "      <td>2536.0</td>\n",
       "      <td>1.242017</td>\n",
       "    </tr>\n",
       "    <tr>\n",
       "      <th>9</th>\n",
       "      <td>21.0</td>\n",
       "      <td>1792.0</td>\n",
       "      <td>0.877640</td>\n",
       "    </tr>\n",
       "    <tr>\n",
       "      <th>10</th>\n",
       "      <td>5.0</td>\n",
       "      <td>1680.0</td>\n",
       "      <td>0.822787</td>\n",
       "    </tr>\n",
       "    <tr>\n",
       "      <th>11</th>\n",
       "      <td>12.0</td>\n",
       "      <td>1505.0</td>\n",
       "      <td>0.737080</td>\n",
       "    </tr>\n",
       "    <tr>\n",
       "      <th>12</th>\n",
       "      <td>6.0</td>\n",
       "      <td>889.0</td>\n",
       "      <td>0.435392</td>\n",
       "    </tr>\n",
       "    <tr>\n",
       "      <th>13</th>\n",
       "      <td>7.0</td>\n",
       "      <td>835.0</td>\n",
       "      <td>0.408945</td>\n",
       "    </tr>\n",
       "    <tr>\n",
       "      <th>14</th>\n",
       "      <td>14.0</td>\n",
       "      <td>518.0</td>\n",
       "      <td>0.253693</td>\n",
       "    </tr>\n",
       "    <tr>\n",
       "      <th>15</th>\n",
       "      <td>16.0</td>\n",
       "      <td>143.0</td>\n",
       "      <td>0.070035</td>\n",
       "    </tr>\n",
       "    <tr>\n",
       "      <th>16</th>\n",
       "      <td>15.0</td>\n",
       "      <td>128.0</td>\n",
       "      <td>0.062689</td>\n",
       "    </tr>\n",
       "    <tr>\n",
       "      <th>17</th>\n",
       "      <td>17.0</td>\n",
       "      <td>90.0</td>\n",
       "      <td>0.044078</td>\n",
       "    </tr>\n",
       "    <tr>\n",
       "      <th>18</th>\n",
       "      <td>20.0</td>\n",
       "      <td>54.0</td>\n",
       "      <td>0.026447</td>\n",
       "    </tr>\n",
       "    <tr>\n",
       "      <th>19</th>\n",
       "      <td>11.0</td>\n",
       "      <td>54.0</td>\n",
       "      <td>0.026447</td>\n",
       "    </tr>\n",
       "    <tr>\n",
       "      <th>20</th>\n",
       "      <td>23.0</td>\n",
       "      <td>50.0</td>\n",
       "      <td>0.024488</td>\n",
       "    </tr>\n",
       "    <tr>\n",
       "      <th>21</th>\n",
       "      <td>22.0</td>\n",
       "      <td>28.0</td>\n",
       "      <td>0.013713</td>\n",
       "    </tr>\n",
       "  </tbody>\n",
       "</table>\n",
       "</div>"
      ],
      "text/plain": [
       "    old_status  orders_count   perecent\n",
       "0          2.0      110502.0  54.118834\n",
       "1         18.0       28002.0  13.714101\n",
       "2          9.0       21917.0  10.733946\n",
       "3          3.0        9821.0   4.809877\n",
       "4         13.0        7414.0   3.631039\n",
       "5          1.0        7186.0   3.519375\n",
       "6          4.0        5712.0   2.797477\n",
       "7         19.0        3328.0   1.629902\n",
       "8         10.0        2536.0   1.242017\n",
       "9         21.0        1792.0   0.877640\n",
       "10         5.0        1680.0   0.822787\n",
       "11        12.0        1505.0   0.737080\n",
       "12         6.0         889.0   0.435392\n",
       "13         7.0         835.0   0.408945\n",
       "14        14.0         518.0   0.253693\n",
       "15        16.0         143.0   0.070035\n",
       "16        15.0         128.0   0.062689\n",
       "17        17.0          90.0   0.044078\n",
       "18        20.0          54.0   0.026447\n",
       "19        11.0          54.0   0.026447\n",
       "20        23.0          50.0   0.024488\n",
       "21        22.0          28.0   0.013713"
      ]
     },
     "execution_count": 63,
     "metadata": {},
     "output_type": "execute_result"
    }
   ],
   "source": [
    "orders_to_fail = pd.read_excel('Query/orders to zero status.xlsx')\n",
    "orders_to_fail['perecent'] = orders_to_fail['orders_count']/orders_to_fail['orders_count'].sum()*100\n",
    "orders_to_fail"
   ]
  },
  {
   "cell_type": "markdown",
   "id": "1d345f9f",
   "metadata": {},
   "source": [
    "###### reasons for failed orders and suggestions\n",
    "Status 2  and 18 :\n",
    "Fail orders came from 2 and 18 status, status 2 is document correction and 18 is also fail orders but need approvement from supervisor it's more than 70% of failed orders and base `reason_fail` dataframe more than 62% of failing is in this to action and its document correction and supervisor approve after user fail and reason to 18 is also is the customer doesn't complete their document.  \n",
    "about the document, correction is if users don't correct their document base comment and operation follow-up order goes to fail orders automatically after 96 hours. but some orders base criteria first move to wait for rejection and then major of them after going to fail orders.  \n",
    "\n",
    "Status 9 :\n",
    "In the process provider of credit for the customer is an external resource and more likely leasing or bank after lendo validation orders send to the creditor to get pre-validation, that means if the customer does not take action after this step cause violating creditor regulation, he can receive credit.  \n",
    "As you can see it causes nearly 11% of fail orders and it should be considered these orders pass lendo and third-party validation.  \n",
    "One of the key reasons is only creditors have access to the central-bank system API and the lendo cant check the user, it seems the lendo should send orders in two steps for creditors first base the requirement for the central-bank system and then after all documents in complete for documentation check, it's possible becuse creditor seams cant check orders base API permission they have from service-provider.  \n",
    "Another reason is orders before sending or passing third-party and open account actions move to this status but last month this structure reformed and now orders pass this action and are then sent to the creditor.\n",
    "\n"
   ]
  },
  {
   "cell_type": "markdown",
   "id": "d6e874b3",
   "metadata": {},
   "source": [
    "##### Successful orders vs created orders\n",
    "Data shows major of orders created doesn't become successful orders, I check the data to find what reasons for this difference in customer requests and failed orders."
   ]
  },
  {
   "cell_type": "code",
   "execution_count": 64,
   "id": "5f791278",
   "metadata": {},
   "outputs": [
    {
     "name": "stdout",
     "output_type": "stream",
     "text": [
      "<class 'pandas.core.frame.DataFrame'>\n",
      "RangeIndex: 310357 entries, 0 to 310356\n",
      "Data columns (total 13 columns):\n",
      " #   Column              Non-Null Count   Dtype         \n",
      "---  ------              --------------   -----         \n",
      " 0   id                  310357 non-null  float64       \n",
      " 1   user_id             310357 non-null  float64       \n",
      " 2   total_amount        310357 non-null  float64       \n",
      " 3   status              310357 non-null  float64       \n",
      " 4   total_items_amount  310357 non-null  float64       \n",
      " 5   is_lendo            310357 non-null  float64       \n",
      " 6   order_id            310357 non-null  float64       \n",
      " 7   product_item_id     310357 non-null  float64       \n",
      " 8   price               310357 non-null  float64       \n",
      " 9   created_at          310357 non-null  datetime64[ns]\n",
      " 10  status_descr        310357 non-null  object        \n",
      " 11  year_create         310357 non-null  int64         \n",
      " 12  year_month          310357 non-null  period[M]     \n",
      "dtypes: datetime64[ns](1), float64(9), int64(1), object(1), period[M](1)\n",
      "memory usage: 30.8+ MB\n"
     ]
    }
   ],
   "source": [
    "# for checking number of orders\n",
    "orders_2.info()"
   ]
  },
  {
   "cell_type": "code",
   "execution_count": 65,
   "id": "5a03e24a",
   "metadata": {},
   "outputs": [],
   "source": [
    "per_orders = orders_2[['user_id','status']]\n",
    "per_orders = per_orders.loc[(per_orders.status == 0)|(per_orders.status == 2)|(\n",
    "    per_orders.status == 7)|(per_orders.status == 8)]\n",
    "group_stat = {0:'fail',2:'fail',7:'successful',8:'successful'}\n",
    "per_orders['group'] = per_orders['status'].map(group_stat)\n",
    "per_orders = per_orders.groupby(['user_id','group']).count().reset_index()\n",
    "per_orders = per_orders.pivot('user_id','group','status')\n",
    "per_orders['perecent'] = per_orders['fail']/per_orders['successful']"
   ]
  },
  {
   "cell_type": "code",
   "execution_count": 66,
   "id": "a61d7097",
   "metadata": {
    "scrolled": true
   },
   "outputs": [
    {
     "data": {
      "text/plain": [
       "group\n",
       "fail          257904.0\n",
       "successful     50084.0\n",
       "dtype: float64"
      ]
     },
     "execution_count": 66,
     "metadata": {},
     "output_type": "execute_result"
    }
   ],
   "source": [
    "per_orders[['fail','successful']].sum()"
   ]
  },
  {
   "cell_type": "markdown",
   "id": "b5d4e289",
   "metadata": {},
   "source": [
    "##### Checking database users and creating orders\n",
    "Based on data we find a successful ratio of orders create, now we check data to find how many orders fail and how many users have successful orders and distribution in orders.\n",
    "Every failed order means a waste of company resources, especially when actions are manual and each failed order means a loss of a resource."
   ]
  },
  {
   "cell_type": "code",
   "execution_count": 67,
   "id": "98c4f9f5",
   "metadata": {
    "scrolled": true
   },
   "outputs": [],
   "source": [
    "orders_per_day = orders_2[['id']].groupby(\n",
    "    pd.to_datetime(orders_2.created_at).dt.floor('d')).count().reset_index()\n",
    "orders_per_day['months_number'] = orders_per_day.created_at.dt.month\n",
    "orders_per_day['year']= orders_per_day.created_at.dt.year"
   ]
  },
  {
   "cell_type": "code",
   "execution_count": null,
   "id": "ffa02a96",
   "metadata": {},
   "outputs": [],
   "source": [
    "np.isnan"
   ]
  },
  {
   "cell_type": "code",
   "execution_count": 70,
   "id": "1b850d59",
   "metadata": {},
   "outputs": [
    {
     "data": {
      "text/html": [
       "<div>\n",
       "<style scoped>\n",
       "    .dataframe tbody tr th:only-of-type {\n",
       "        vertical-align: middle;\n",
       "    }\n",
       "\n",
       "    .dataframe tbody tr th {\n",
       "        vertical-align: top;\n",
       "    }\n",
       "\n",
       "    .dataframe thead th {\n",
       "        text-align: right;\n",
       "    }\n",
       "</style>\n",
       "<table border=\"1\" class=\"dataframe\">\n",
       "  <thead>\n",
       "    <tr style=\"text-align: right;\">\n",
       "      <th>group</th>\n",
       "      <th>fail</th>\n",
       "      <th>successful</th>\n",
       "      <th>perecent</th>\n",
       "    </tr>\n",
       "    <tr>\n",
       "      <th>user_id</th>\n",
       "      <th></th>\n",
       "      <th></th>\n",
       "      <th></th>\n",
       "    </tr>\n",
       "  </thead>\n",
       "  <tbody>\n",
       "    <tr>\n",
       "      <th>1.0</th>\n",
       "      <td>4.0</td>\n",
       "      <td>2.0</td>\n",
       "      <td>2.000000</td>\n",
       "    </tr>\n",
       "    <tr>\n",
       "      <th>2.0</th>\n",
       "      <td>1.0</td>\n",
       "      <td>NaN</td>\n",
       "      <td>NaN</td>\n",
       "    </tr>\n",
       "    <tr>\n",
       "      <th>3.0</th>\n",
       "      <td>4.0</td>\n",
       "      <td>11.0</td>\n",
       "      <td>0.363636</td>\n",
       "    </tr>\n",
       "    <tr>\n",
       "      <th>4.0</th>\n",
       "      <td>3.0</td>\n",
       "      <td>1.0</td>\n",
       "      <td>3.000000</td>\n",
       "    </tr>\n",
       "    <tr>\n",
       "      <th>5.0</th>\n",
       "      <td>15.0</td>\n",
       "      <td>14.0</td>\n",
       "      <td>1.071429</td>\n",
       "    </tr>\n",
       "    <tr>\n",
       "      <th>...</th>\n",
       "      <td>...</td>\n",
       "      <td>...</td>\n",
       "      <td>...</td>\n",
       "    </tr>\n",
       "    <tr>\n",
       "      <th>736063.0</th>\n",
       "      <td>1.0</td>\n",
       "      <td>NaN</td>\n",
       "      <td>NaN</td>\n",
       "    </tr>\n",
       "    <tr>\n",
       "      <th>736065.0</th>\n",
       "      <td>1.0</td>\n",
       "      <td>NaN</td>\n",
       "      <td>NaN</td>\n",
       "    </tr>\n",
       "    <tr>\n",
       "      <th>736070.0</th>\n",
       "      <td>1.0</td>\n",
       "      <td>NaN</td>\n",
       "      <td>NaN</td>\n",
       "    </tr>\n",
       "    <tr>\n",
       "      <th>736073.0</th>\n",
       "      <td>1.0</td>\n",
       "      <td>NaN</td>\n",
       "      <td>NaN</td>\n",
       "    </tr>\n",
       "    <tr>\n",
       "      <th>736078.0</th>\n",
       "      <td>1.0</td>\n",
       "      <td>NaN</td>\n",
       "      <td>NaN</td>\n",
       "    </tr>\n",
       "  </tbody>\n",
       "</table>\n",
       "<p>180354 rows × 3 columns</p>\n",
       "</div>"
      ],
      "text/plain": [
       "group     fail  successful  perecent\n",
       "user_id                             \n",
       "1.0        4.0         2.0  2.000000\n",
       "2.0        1.0         NaN       NaN\n",
       "3.0        4.0        11.0  0.363636\n",
       "4.0        3.0         1.0  3.000000\n",
       "5.0       15.0        14.0  1.071429\n",
       "...        ...         ...       ...\n",
       "736063.0   1.0         NaN       NaN\n",
       "736065.0   1.0         NaN       NaN\n",
       "736070.0   1.0         NaN       NaN\n",
       "736073.0   1.0         NaN       NaN\n",
       "736078.0   1.0         NaN       NaN\n",
       "\n",
       "[180354 rows x 3 columns]"
      ]
     },
     "execution_count": 70,
     "metadata": {},
     "output_type": "execute_result"
    }
   ],
   "source": [
    "per_orders"
   ]
  },
  {
   "cell_type": "code",
   "execution_count": 78,
   "id": "73788545",
   "metadata": {},
   "outputs": [
    {
     "data": {
      "text/plain": [
       "1          1.0\n",
       "6         13.0\n",
       "7          6.0\n",
       "8          5.0\n",
       "9         11.0\n",
       "          ... \n",
       "180349     1.0\n",
       "180350     1.0\n",
       "180351     1.0\n",
       "180352     1.0\n",
       "180353     1.0\n",
       "Name: fail, Length: 150891, dtype: float64"
      ]
     },
     "execution_count": 78,
     "metadata": {},
     "output_type": "execute_result"
    }
   ],
   "source": [
    "reset_per_order.fail.loc[np.isnan(reset_per_order['successful'])]"
   ]
  },
  {
   "cell_type": "code",
   "execution_count": 79,
   "id": "3a494879",
   "metadata": {},
   "outputs": [
    {
     "name": "stdout",
     "output_type": "stream",
     "text": [
      " Number of orders create in dataset is :  310357 \n",
      " Number of customer create account in Lendo :  736264 \n",
      " Number of users at least create one order :  181517 \n",
      " Number of total fail orders for user dont have successful order :  210810.0 \n",
      " Number of total successful orders :  14901.0 \n",
      " Number of users have at least one successful order :  29463 \n",
      " Number of users dont have any successful orders :  150891 \n",
      " Number of fail orders with users have successful order :  47094.0 \n",
      " Standard distribution of failed orders to successful orders : 1.60 \n",
      " Mean of failed order to successful orders : 1.76\n"
     ]
    }
   ],
   "source": [
    "user_with_orders = orders_2[['user_id','id']].groupby('user_id').count().reset_index()\n",
    "user_with_orders = user_with_orders['user_id'].count()\n",
    "orders_count = orders_2['id'].count()\n",
    "reset_per_order = per_orders.reset_index()\n",
    "customers_count = customers['id'].count()\n",
    "number_total_fail = reset_per_order.fail.loc[np.isnan(reset_per_order['successful'])].sum()\n",
    "number_total_successful = reset_per_order.successful.loc[np.isnan(reset_per_order['fail'])].sum()\n",
    "nb_suc = per_orders.successful.loc[per_orders.successful > 0].count()\n",
    "number_fail = per_orders.fail.loc[np.isnan(per_orders['successful'])].count()\n",
    "nb_fail = per_orders.fail.loc[per_orders.successful > 0].sum()\n",
    "std_orders = per_orders['perecent'].std()\n",
    "mean_orders = per_orders['perecent'].mean()\n",
    "\n",
    "print( ' Number of orders create in dataset is : ',orders_count,'\\n',\n",
    "    'Number of customer create account in Lendo : ',customers_count,'\\n',\n",
    "    'Number of users at least create one order : ',user_with_orders,'\\n',\n",
    "    'Number of total fail orders for user dont have successful order : ', number_total_fail, '\\n',\n",
    "    'Number of total successful orders : ', number_total_successful, '\\n',\n",
    "    'Number of users have at least one successful order : ', nb_suc, '\\n',\n",
    "    'Number of users dont have any successful orders : ', number_fail, '\\n',\n",
    "    'Number of fail orders with users have successful order : ', nb_fail, '\\n',\n",
    "    'Standard distribution of failed orders to successful orders : %.2f' % std_orders, '\\n',\n",
    "    'Mean of failed order to successful orders : %.2f' % mean_orders)"
   ]
  },
  {
   "cell_type": "markdown",
   "id": "e6c3cbd8",
   "metadata": {},
   "source": [
    "I create a dataframe to check the relation between users and orders.  \n",
    "The number of orders created in the dataset is 310357 and nearly 80 percent of these orders failed.  \n",
    "Number account with customer create base unique parameter 'cellphone-number' lendo have near 737000 and number of users at least create orders is 181517, that means only 25% of users create account request for orders and only near 30000 users have successful order and get 4% ratio base created account its shows we have a huge gap between a number of users and SR(successful rate), we check the reason of this issue in the marketing section of the project.  \n",
    "For users who create orders only 16% of them became SO(successful order), we should consider that buying behavior of the customer and this factor all orders create with choosing a store and that means users have a cart in targeting or purchase intention from a store, the important factor is why users after create orders and seams in first steps of upload document cancel their orders."
   ]
  },
  {
   "cell_type": "markdown",
   "id": "c14ef45e",
   "metadata": {},
   "source": [
    "#####  Time procedure for each task in operation\n",
    "One of the important part of the operation section is the number of tasks they need to do and how much time each action consume.\n",
    "I try to use the status of orders to simplify of process and first show how the operating system works and how much time every task needs for completed. but there is some element to be considered as I say before the automation of the process is not at the same time as launch so some parts of the process first manually and the process became automated."
   ]
  },
  {
   "cell_type": "code",
   "execution_count": 80,
   "id": "0325f827",
   "metadata": {},
   "outputs": [
    {
     "data": {
      "text/html": [
       "<div>\n",
       "<style scoped>\n",
       "    .dataframe tbody tr th:only-of-type {\n",
       "        vertical-align: middle;\n",
       "    }\n",
       "\n",
       "    .dataframe tbody tr th {\n",
       "        vertical-align: top;\n",
       "    }\n",
       "\n",
       "    .dataframe thead th {\n",
       "        text-align: right;\n",
       "    }\n",
       "</style>\n",
       "<table border=\"1\" class=\"dataframe\">\n",
       "  <thead>\n",
       "    <tr style=\"text-align: right;\">\n",
       "      <th></th>\n",
       "      <th>number</th>\n",
       "      <th>status_descr</th>\n",
       "    </tr>\n",
       "  </thead>\n",
       "  <tbody>\n",
       "    <tr>\n",
       "      <th>0</th>\n",
       "      <td>0</td>\n",
       "      <td>rejected</td>\n",
       "    </tr>\n",
       "    <tr>\n",
       "      <th>1</th>\n",
       "      <td>1</td>\n",
       "      <td>initial approval</td>\n",
       "    </tr>\n",
       "    <tr>\n",
       "      <th>2</th>\n",
       "      <td>2</td>\n",
       "      <td>correction Doc</td>\n",
       "    </tr>\n",
       "    <tr>\n",
       "      <th>3</th>\n",
       "      <td>3</td>\n",
       "      <td>lendo validation</td>\n",
       "    </tr>\n",
       "    <tr>\n",
       "      <th>4</th>\n",
       "      <td>4</td>\n",
       "      <td>perapare contracts</td>\n",
       "    </tr>\n",
       "    <tr>\n",
       "      <th>5</th>\n",
       "      <td>5</td>\n",
       "      <td>send contract</td>\n",
       "    </tr>\n",
       "    <tr>\n",
       "      <th>6</th>\n",
       "      <td>6</td>\n",
       "      <td>purchase code</td>\n",
       "    </tr>\n",
       "    <tr>\n",
       "      <th>7</th>\n",
       "      <td>7</td>\n",
       "      <td>installments payment</td>\n",
       "    </tr>\n",
       "    <tr>\n",
       "      <th>8</th>\n",
       "      <td>8</td>\n",
       "      <td>end</td>\n",
       "    </tr>\n",
       "    <tr>\n",
       "      <th>9</th>\n",
       "      <td>9</td>\n",
       "      <td>pre-creditor-validation</td>\n",
       "    </tr>\n",
       "    <tr>\n",
       "      <th>10</th>\n",
       "      <td>10</td>\n",
       "      <td>no reply</td>\n",
       "    </tr>\n",
       "    <tr>\n",
       "      <th>11</th>\n",
       "      <td>11</td>\n",
       "      <td>credit approval</td>\n",
       "    </tr>\n",
       "    <tr>\n",
       "      <th>12</th>\n",
       "      <td>12</td>\n",
       "      <td>first payment</td>\n",
       "    </tr>\n",
       "    <tr>\n",
       "      <th>13</th>\n",
       "      <td>13</td>\n",
       "      <td>watting opening account</td>\n",
       "    </tr>\n",
       "    <tr>\n",
       "      <th>14</th>\n",
       "      <td>14</td>\n",
       "      <td>third party validation</td>\n",
       "    </tr>\n",
       "    <tr>\n",
       "      <th>15</th>\n",
       "      <td>15</td>\n",
       "      <td>sending contract</td>\n",
       "    </tr>\n",
       "    <tr>\n",
       "      <th>16</th>\n",
       "      <td>16</td>\n",
       "      <td>resending contract</td>\n",
       "    </tr>\n",
       "    <tr>\n",
       "      <th>17</th>\n",
       "      <td>17</td>\n",
       "      <td>lendo approval</td>\n",
       "    </tr>\n",
       "    <tr>\n",
       "      <th>18</th>\n",
       "      <td>18</td>\n",
       "      <td>waiting for rejection</td>\n",
       "    </tr>\n",
       "    <tr>\n",
       "      <th>19</th>\n",
       "      <td>19</td>\n",
       "      <td>review</td>\n",
       "    </tr>\n",
       "    <tr>\n",
       "      <th>20</th>\n",
       "      <td>20</td>\n",
       "      <td>open account API</td>\n",
       "    </tr>\n",
       "    <tr>\n",
       "      <th>21</th>\n",
       "      <td>21</td>\n",
       "      <td>upload promissory</td>\n",
       "    </tr>\n",
       "    <tr>\n",
       "      <th>22</th>\n",
       "      <td>22</td>\n",
       "      <td>promissory check</td>\n",
       "    </tr>\n",
       "    <tr>\n",
       "      <th>23</th>\n",
       "      <td>23</td>\n",
       "      <td>sign online contr</td>\n",
       "    </tr>\n",
       "  </tbody>\n",
       "</table>\n",
       "</div>"
      ],
      "text/plain": [
       "    number             status_descr\n",
       "0        0                 rejected\n",
       "1        1         initial approval\n",
       "2        2           correction Doc\n",
       "3        3         lendo validation\n",
       "4        4       perapare contracts\n",
       "5        5            send contract\n",
       "6        6            purchase code\n",
       "7        7     installments payment\n",
       "8        8                      end\n",
       "9        9  pre-creditor-validation\n",
       "10      10                no reply \n",
       "11      11         credit approval \n",
       "12      12            first payment\n",
       "13      13  watting opening account\n",
       "14      14   third party validation\n",
       "15      15         sending contract\n",
       "16      16       resending contract\n",
       "17      17           lendo approval\n",
       "18      18    waiting for rejection\n",
       "19      19                   review\n",
       "20      20         open account API\n",
       "21      21        upload promissory\n",
       "22      22         promissory check\n",
       "23      23        sign online contr"
      ]
     },
     "execution_count": 80,
     "metadata": {},
     "output_type": "execute_result"
    }
   ],
   "source": [
    "status.head(24)"
   ]
  },
  {
   "cell_type": "markdown",
   "id": "60341a83",
   "metadata": {},
   "source": [
    "As you can see above right now we have 24 status which is not in order steps happened many new statuses related to new products is automated old process such as changing from sending a physical document of the bank contract to an online sign happened in the early stage.  \n",
    "I can get any data for changing the time of any of the statuses and try to get the nearest option and time-consuming base data."
   ]
  },
  {
   "cell_type": "markdown",
   "id": "392341e1",
   "metadata": {},
   "source": [
    "##### Status log data\n",
    "for checking data i use order_status_logs table and because of size of table i get query and then analysis in python\n",
    "   \n",
    "`Query order_status_logs` \n",
    "  \n",
    "SELECT DISTINCT(concat(old_status,'-', new_status)) AS old_new , count(*) AS number_of_orders  \n",
    "FROM order_status_logs  \n",
    "WHERE order_id < 312570 AND updated_at <= '2022-08-07'  \n",
    "GROUP BY old_new  \n",
    "ORDER BY old_new  \n"
   ]
  },
  {
   "cell_type": "code",
   "execution_count": 81,
   "id": "9bdbdbee",
   "metadata": {},
   "outputs": [
    {
     "data": {
      "text/html": [
       "<div>\n",
       "<style scoped>\n",
       "    .dataframe tbody tr th:only-of-type {\n",
       "        vertical-align: middle;\n",
       "    }\n",
       "\n",
       "    .dataframe tbody tr th {\n",
       "        vertical-align: top;\n",
       "    }\n",
       "\n",
       "    .dataframe thead th {\n",
       "        text-align: right;\n",
       "    }\n",
       "</style>\n",
       "<table border=\"1\" class=\"dataframe\">\n",
       "  <thead>\n",
       "    <tr style=\"text-align: right;\">\n",
       "      <th></th>\n",
       "      <th>old_new</th>\n",
       "      <th>number_of_orders</th>\n",
       "    </tr>\n",
       "  </thead>\n",
       "  <tbody>\n",
       "    <tr>\n",
       "      <th>0</th>\n",
       "      <td>0-1</td>\n",
       "      <td>68.0</td>\n",
       "    </tr>\n",
       "    <tr>\n",
       "      <th>1</th>\n",
       "      <td>0-11</td>\n",
       "      <td>117.0</td>\n",
       "    </tr>\n",
       "    <tr>\n",
       "      <th>2</th>\n",
       "      <td>0-12</td>\n",
       "      <td>15.0</td>\n",
       "    </tr>\n",
       "    <tr>\n",
       "      <th>3</th>\n",
       "      <td>0-13</td>\n",
       "      <td>393.0</td>\n",
       "    </tr>\n",
       "    <tr>\n",
       "      <th>4</th>\n",
       "      <td>0-14</td>\n",
       "      <td>53.0</td>\n",
       "    </tr>\n",
       "  </tbody>\n",
       "</table>\n",
       "</div>"
      ],
      "text/plain": [
       "  old_new  number_of_orders\n",
       "0     0-1              68.0\n",
       "1    0-11             117.0\n",
       "2    0-12              15.0\n",
       "3    0-13             393.0\n",
       "4    0-14              53.0"
      ]
     },
     "execution_count": 81,
     "metadata": {},
     "output_type": "execute_result"
    },
    {
     "name": "stdout",
     "output_type": "stream",
     "text": [
      "<class 'pandas.core.frame.DataFrame'>\n",
      "RangeIndex: 368 entries, 0 to 367\n",
      "Data columns (total 2 columns):\n",
      " #   Column            Non-Null Count  Dtype  \n",
      "---  ------            --------------  -----  \n",
      " 0   old_new           368 non-null    object \n",
      " 1   number_of_orders  368 non-null    float64\n",
      "dtypes: float64(1), object(1)\n",
      "memory usage: 5.9+ KB\n"
     ]
    }
   ],
   "source": [
    "changing_status = pd.read_excel('Query/orders_status_change.xlsx')\n",
    "changing_status.head()\n",
    "changing_status.info()"
   ]
  },
  {
   "cell_type": "code",
   "execution_count": 82,
   "id": "abcb083e",
   "metadata": {},
   "outputs": [
    {
     "data": {
      "text/plain": [
       "600"
      ]
     },
     "execution_count": 82,
     "metadata": {},
     "output_type": "execute_result"
    }
   ],
   "source": [
    "number_status = range(0,25)\n",
    "number_status=list(itertools.permutations(number_status, 2))\n",
    "len(number_status)"
   ]
  },
  {
   "cell_type": "markdown",
   "id": "6db25a16",
   "metadata": {},
   "source": [
    "We have 368 unique permutations in tables and with 25 different statuses as we see in `number_status` we have 600 permutations. I try to sort data and check the number of records in each one of these parameters.  \n",
    "we put all these statuses in two groups of user and automated (AUTO) and for user status, I get time for each one of them user needs to do that action for status is have more than 1K records its near 98% of all elements."
   ]
  },
  {
   "cell_type": "code",
   "execution_count": 83,
   "id": "6754cbd9",
   "metadata": {},
   "outputs": [
    {
     "data": {
      "text/html": [
       "<div>\n",
       "<style scoped>\n",
       "    .dataframe tbody tr th:only-of-type {\n",
       "        vertical-align: middle;\n",
       "    }\n",
       "\n",
       "    .dataframe tbody tr th {\n",
       "        vertical-align: top;\n",
       "    }\n",
       "\n",
       "    .dataframe thead th {\n",
       "        text-align: right;\n",
       "    }\n",
       "</style>\n",
       "<table border=\"1\" class=\"dataframe\">\n",
       "  <thead>\n",
       "    <tr style=\"text-align: right;\">\n",
       "      <th></th>\n",
       "      <th>old_new</th>\n",
       "      <th>number_of_orders</th>\n",
       "    </tr>\n",
       "  </thead>\n",
       "  <tbody>\n",
       "    <tr>\n",
       "      <th>220</th>\n",
       "      <td>2-3</td>\n",
       "      <td>159688.0</td>\n",
       "    </tr>\n",
       "    <tr>\n",
       "      <th>204</th>\n",
       "      <td>2-0</td>\n",
       "      <td>110502.0</td>\n",
       "    </tr>\n",
       "    <tr>\n",
       "      <th>272</th>\n",
       "      <td>3-2</td>\n",
       "      <td>80449.0</td>\n",
       "    </tr>\n",
       "    <tr>\n",
       "      <th>32</th>\n",
       "      <td>1-3</td>\n",
       "      <td>64037.0</td>\n",
       "    </tr>\n",
       "    <tr>\n",
       "      <th>343</th>\n",
       "      <td>7-8</td>\n",
       "      <td>61132.0</td>\n",
       "    </tr>\n",
       "    <tr>\n",
       "      <th>31</th>\n",
       "      <td>1-2</td>\n",
       "      <td>57842.0</td>\n",
       "    </tr>\n",
       "    <tr>\n",
       "      <th>280</th>\n",
       "      <td>3-9</td>\n",
       "      <td>54601.0</td>\n",
       "    </tr>\n",
       "    <tr>\n",
       "      <th>294</th>\n",
       "      <td>4-5</td>\n",
       "      <td>51067.0</td>\n",
       "    </tr>\n",
       "    <tr>\n",
       "      <th>330</th>\n",
       "      <td>6-7</td>\n",
       "      <td>45275.0</td>\n",
       "    </tr>\n",
       "    <tr>\n",
       "      <th>363</th>\n",
       "      <td>9-3</td>\n",
       "      <td>35027.0</td>\n",
       "    </tr>\n",
       "  </tbody>\n",
       "</table>\n",
       "</div>"
      ],
      "text/plain": [
       "    old_new  number_of_orders\n",
       "220     2-3          159688.0\n",
       "204     2-0          110502.0\n",
       "272     3-2           80449.0\n",
       "32      1-3           64037.0\n",
       "343     7-8           61132.0\n",
       "31      1-2           57842.0\n",
       "280     3-9           54601.0\n",
       "294     4-5           51067.0\n",
       "330     6-7           45275.0\n",
       "363     9-3           35027.0"
      ]
     },
     "execution_count": 83,
     "metadata": {},
     "output_type": "execute_result"
    }
   ],
   "source": [
    "changing_status.sort_values(by='number_of_orders',ascending=False).head(10)"
   ]
  },
  {
   "cell_type": "code",
   "execution_count": 84,
   "id": "b87aaf9a",
   "metadata": {},
   "outputs": [],
   "source": [
    "more_1k = changing_status.drop(changing_status[changing_status.number_of_orders<1000].index)\n",
    "time_status = pd.read_excel('Query/orders_status_change base user and time.xlsx')"
   ]
  },
  {
   "cell_type": "code",
   "execution_count": 85,
   "id": "089e6d56",
   "metadata": {},
   "outputs": [
    {
     "data": {
      "text/html": [
       "<div>\n",
       "<style scoped>\n",
       "    .dataframe tbody tr th:only-of-type {\n",
       "        vertical-align: middle;\n",
       "    }\n",
       "\n",
       "    .dataframe tbody tr th {\n",
       "        vertical-align: top;\n",
       "    }\n",
       "\n",
       "    .dataframe thead th {\n",
       "        text-align: right;\n",
       "    }\n",
       "</style>\n",
       "<table border=\"1\" class=\"dataframe\">\n",
       "  <thead>\n",
       "    <tr style=\"text-align: right;\">\n",
       "      <th></th>\n",
       "      <th>old_new</th>\n",
       "      <th>number_of_orders</th>\n",
       "    </tr>\n",
       "  </thead>\n",
       "  <tbody>\n",
       "    <tr>\n",
       "      <th>5</th>\n",
       "      <td>0-15</td>\n",
       "      <td>1587.0</td>\n",
       "    </tr>\n",
       "    <tr>\n",
       "      <th>15</th>\n",
       "      <td>0-3</td>\n",
       "      <td>4406.0</td>\n",
       "    </tr>\n",
       "    <tr>\n",
       "      <th>21</th>\n",
       "      <td>0-9</td>\n",
       "      <td>1153.0</td>\n",
       "    </tr>\n",
       "    <tr>\n",
       "      <th>22</th>\n",
       "      <td>1-0</td>\n",
       "      <td>7186.0</td>\n",
       "    </tr>\n",
       "    <tr>\n",
       "      <th>23</th>\n",
       "      <td>1-10</td>\n",
       "      <td>5411.0</td>\n",
       "    </tr>\n",
       "    <tr>\n",
       "      <th>...</th>\n",
       "      <td>...</td>\n",
       "      <td>...</td>\n",
       "    </tr>\n",
       "    <tr>\n",
       "      <th>359</th>\n",
       "      <td>9-18</td>\n",
       "      <td>4510.0</td>\n",
       "    </tr>\n",
       "    <tr>\n",
       "      <th>360</th>\n",
       "      <td>9-2</td>\n",
       "      <td>1659.0</td>\n",
       "    </tr>\n",
       "    <tr>\n",
       "      <th>362</th>\n",
       "      <td>9-21</td>\n",
       "      <td>5693.0</td>\n",
       "    </tr>\n",
       "    <tr>\n",
       "      <th>363</th>\n",
       "      <td>9-3</td>\n",
       "      <td>35027.0</td>\n",
       "    </tr>\n",
       "    <tr>\n",
       "      <th>364</th>\n",
       "      <td>9-4</td>\n",
       "      <td>2917.0</td>\n",
       "    </tr>\n",
       "  </tbody>\n",
       "</table>\n",
       "<p>68 rows × 2 columns</p>\n",
       "</div>"
      ],
      "text/plain": [
       "    old_new  number_of_orders\n",
       "5      0-15            1587.0\n",
       "15      0-3            4406.0\n",
       "21      0-9            1153.0\n",
       "22      1-0            7186.0\n",
       "23     1-10            5411.0\n",
       "..      ...               ...\n",
       "359    9-18            4510.0\n",
       "360     9-2            1659.0\n",
       "362    9-21            5693.0\n",
       "363     9-3           35027.0\n",
       "364     9-4            2917.0\n",
       "\n",
       "[68 rows x 2 columns]"
      ]
     },
     "execution_count": 85,
     "metadata": {},
     "output_type": "execute_result"
    },
    {
     "data": {
      "text/html": [
       "<div>\n",
       "<style scoped>\n",
       "    .dataframe tbody tr th:only-of-type {\n",
       "        vertical-align: middle;\n",
       "    }\n",
       "\n",
       "    .dataframe tbody tr th {\n",
       "        vertical-align: top;\n",
       "    }\n",
       "\n",
       "    .dataframe thead th {\n",
       "        text-align: right;\n",
       "    }\n",
       "</style>\n",
       "<table border=\"1\" class=\"dataframe\">\n",
       "  <thead>\n",
       "    <tr style=\"text-align: right;\">\n",
       "      <th></th>\n",
       "      <th>old_new</th>\n",
       "      <th>old_new6</th>\n",
       "      <th>operator</th>\n",
       "      <th>time_minute</th>\n",
       "    </tr>\n",
       "  </thead>\n",
       "  <tbody>\n",
       "    <tr>\n",
       "      <th>0</th>\n",
       "      <td>2-3</td>\n",
       "      <td>correction Doc-lendo validation</td>\n",
       "      <td>user</td>\n",
       "      <td>15.0</td>\n",
       "    </tr>\n",
       "    <tr>\n",
       "      <th>1</th>\n",
       "      <td>2-0</td>\n",
       "      <td>correction Doc-rejected</td>\n",
       "      <td>AUTO</td>\n",
       "      <td>0.0</td>\n",
       "    </tr>\n",
       "    <tr>\n",
       "      <th>2</th>\n",
       "      <td>3-2</td>\n",
       "      <td>lendo validation-correction Doc</td>\n",
       "      <td>user</td>\n",
       "      <td>9.0</td>\n",
       "    </tr>\n",
       "    <tr>\n",
       "      <th>3</th>\n",
       "      <td>1-3</td>\n",
       "      <td>initial approval-lendo validation</td>\n",
       "      <td>AUTO</td>\n",
       "      <td>0.0</td>\n",
       "    </tr>\n",
       "    <tr>\n",
       "      <th>4</th>\n",
       "      <td>7-8</td>\n",
       "      <td>installments payment-end</td>\n",
       "      <td>AUTO</td>\n",
       "      <td>0.0</td>\n",
       "    </tr>\n",
       "  </tbody>\n",
       "</table>\n",
       "</div>"
      ],
      "text/plain": [
       "  old_new                           old_new6 operator  time_minute\n",
       "0     2-3    correction Doc-lendo validation     user         15.0\n",
       "1     2-0            correction Doc-rejected     AUTO          0.0\n",
       "2     3-2    lendo validation-correction Doc     user          9.0\n",
       "3     1-3  initial approval-lendo validation     AUTO          0.0\n",
       "4     7-8           installments payment-end     AUTO          0.0"
      ]
     },
     "execution_count": 85,
     "metadata": {},
     "output_type": "execute_result"
    }
   ],
   "source": [
    "more_1k\n",
    "time_status.head()"
   ]
  },
  {
   "cell_type": "code",
   "execution_count": 86,
   "id": "b1da6cfa",
   "metadata": {},
   "outputs": [
    {
     "data": {
      "text/html": [
       "<div>\n",
       "<style scoped>\n",
       "    .dataframe tbody tr th:only-of-type {\n",
       "        vertical-align: middle;\n",
       "    }\n",
       "\n",
       "    .dataframe tbody tr th {\n",
       "        vertical-align: top;\n",
       "    }\n",
       "\n",
       "    .dataframe thead th {\n",
       "        text-align: right;\n",
       "    }\n",
       "</style>\n",
       "<table border=\"1\" class=\"dataframe\">\n",
       "  <thead>\n",
       "    <tr style=\"text-align: right;\">\n",
       "      <th></th>\n",
       "      <th>old_new</th>\n",
       "      <th>number_of_orders</th>\n",
       "      <th>descr</th>\n",
       "      <th>operator</th>\n",
       "      <th>time_minute</th>\n",
       "    </tr>\n",
       "  </thead>\n",
       "  <tbody>\n",
       "    <tr>\n",
       "      <th>0</th>\n",
       "      <td>0-15</td>\n",
       "      <td>1587.0</td>\n",
       "      <td>rejected-sending contract</td>\n",
       "      <td>AUTO</td>\n",
       "      <td>0.0</td>\n",
       "    </tr>\n",
       "    <tr>\n",
       "      <th>1</th>\n",
       "      <td>0-3</td>\n",
       "      <td>4406.0</td>\n",
       "      <td>rejected-lendo validation</td>\n",
       "      <td>user</td>\n",
       "      <td>7.5</td>\n",
       "    </tr>\n",
       "    <tr>\n",
       "      <th>2</th>\n",
       "      <td>0-9</td>\n",
       "      <td>1153.0</td>\n",
       "      <td>rejected-pre-creditor-validation</td>\n",
       "      <td>user</td>\n",
       "      <td>6.0</td>\n",
       "    </tr>\n",
       "    <tr>\n",
       "      <th>3</th>\n",
       "      <td>1-0</td>\n",
       "      <td>7186.0</td>\n",
       "      <td>initial approval-rejected</td>\n",
       "      <td>user</td>\n",
       "      <td>6.0</td>\n",
       "    </tr>\n",
       "    <tr>\n",
       "      <th>4</th>\n",
       "      <td>1-10</td>\n",
       "      <td>5411.0</td>\n",
       "      <td>initial approval-no reply</td>\n",
       "      <td>user</td>\n",
       "      <td>15.0</td>\n",
       "    </tr>\n",
       "  </tbody>\n",
       "</table>\n",
       "</div>"
      ],
      "text/plain": [
       "  old_new  number_of_orders                             descr operator  \\\n",
       "0    0-15            1587.0         rejected-sending contract     AUTO   \n",
       "1     0-3            4406.0         rejected-lendo validation     user   \n",
       "2     0-9            1153.0  rejected-pre-creditor-validation     user   \n",
       "3     1-0            7186.0         initial approval-rejected     user   \n",
       "4    1-10            5411.0        initial approval-no reply      user   \n",
       "\n",
       "   time_minute  \n",
       "0          0.0  \n",
       "1          7.5  \n",
       "2          6.0  \n",
       "3          6.0  \n",
       "4         15.0  "
      ]
     },
     "execution_count": 86,
     "metadata": {},
     "output_type": "execute_result"
    }
   ],
   "source": [
    "more_1k = pd.merge(more_1k,time_status,how='left',on='old_new')\n",
    "more_1k = more_1k.rename(columns={'old_new6':'descr'})\n",
    "more_1k.head()"
   ]
  },
  {
   "cell_type": "code",
   "execution_count": 87,
   "id": "3d7ea905",
   "metadata": {},
   "outputs": [
    {
     "data": {
      "text/html": [
       "<div>\n",
       "<style scoped>\n",
       "    .dataframe tbody tr th:only-of-type {\n",
       "        vertical-align: middle;\n",
       "    }\n",
       "\n",
       "    .dataframe tbody tr th {\n",
       "        vertical-align: top;\n",
       "    }\n",
       "\n",
       "    .dataframe thead th {\n",
       "        text-align: right;\n",
       "    }\n",
       "</style>\n",
       "<table border=\"1\" class=\"dataframe\">\n",
       "  <thead>\n",
       "    <tr style=\"text-align: right;\">\n",
       "      <th></th>\n",
       "      <th>old_new</th>\n",
       "      <th>number_of_orders</th>\n",
       "      <th>descr</th>\n",
       "      <th>operator</th>\n",
       "      <th>time_minute</th>\n",
       "    </tr>\n",
       "  </thead>\n",
       "  <tbody>\n",
       "    <tr>\n",
       "      <th>64</th>\n",
       "      <td>9-2</td>\n",
       "      <td>1659.0</td>\n",
       "      <td>pre-creditor-validation-correction Doc</td>\n",
       "      <td>user</td>\n",
       "      <td>12.0</td>\n",
       "    </tr>\n",
       "    <tr>\n",
       "      <th>65</th>\n",
       "      <td>9-21</td>\n",
       "      <td>5693.0</td>\n",
       "      <td>pre-creditor-validation-upload promissory</td>\n",
       "      <td>AUTO</td>\n",
       "      <td>0.0</td>\n",
       "    </tr>\n",
       "    <tr>\n",
       "      <th>66</th>\n",
       "      <td>9-3</td>\n",
       "      <td>35027.0</td>\n",
       "      <td>pre-creditor-validation-lendo validation</td>\n",
       "      <td>AUTO</td>\n",
       "      <td>0.0</td>\n",
       "    </tr>\n",
       "    <tr>\n",
       "      <th>67</th>\n",
       "      <td>9-4</td>\n",
       "      <td>2917.0</td>\n",
       "      <td>pre-creditor-validation-perapare contracts</td>\n",
       "      <td>AUTO</td>\n",
       "      <td>0.0</td>\n",
       "    </tr>\n",
       "    <tr>\n",
       "      <th>68</th>\n",
       "      <td>less_1k</td>\n",
       "      <td>24569.0</td>\n",
       "      <td>-</td>\n",
       "      <td>user/AUTO</td>\n",
       "      <td>4.131</td>\n",
       "    </tr>\n",
       "  </tbody>\n",
       "</table>\n",
       "</div>"
      ],
      "text/plain": [
       "    old_new  number_of_orders                                       descr  \\\n",
       "64      9-2            1659.0      pre-creditor-validation-correction Doc   \n",
       "65     9-21            5693.0   pre-creditor-validation-upload promissory   \n",
       "66      9-3           35027.0    pre-creditor-validation-lendo validation   \n",
       "67      9-4            2917.0  pre-creditor-validation-perapare contracts   \n",
       "68  less_1k           24569.0                                           -   \n",
       "\n",
       "     operator time_minute  \n",
       "64       user        12.0  \n",
       "65       AUTO         0.0  \n",
       "66       AUTO         0.0  \n",
       "67       AUTO         0.0  \n",
       "68  user/AUTO       4.131  "
      ]
     },
     "execution_count": 87,
     "metadata": {},
     "output_type": "execute_result"
    }
   ],
   "source": [
    "more_1k.loc[len(more_1k.index)] = ['less_1k', 24569,'-','user/AUTO','4.131']\n",
    "more_1k.tail()"
   ]
  },
  {
   "cell_type": "markdown",
   "id": "ee672ea5",
   "metadata": {},
   "source": [
    "For time-consuming assumption permutations is less than 1k I calculate the first percentage of orders base  user and AUTO and then the average time in user operator time for user status and use the result for 300 status have less than 1k records in the log table"
   ]
  },
  {
   "cell_type": "code",
   "execution_count": 88,
   "id": "ef42aae8",
   "metadata": {},
   "outputs": [],
   "source": [
    "more_1k['time_minute']=more_1k['time_minute'].astype(str).astype(float)\n",
    "more_1k['total_time_minute']=more_1k['time_minute']*more_1k.number_of_orders\n",
    "time_consuming = more_1k.groupby('operator',as_index = False).sum()"
   ]
  },
  {
   "cell_type": "code",
   "execution_count": 89,
   "id": "12ee1e8f",
   "metadata": {},
   "outputs": [
    {
     "data": {
      "text/html": [
       "<div>\n",
       "<style scoped>\n",
       "    .dataframe tbody tr th:only-of-type {\n",
       "        vertical-align: middle;\n",
       "    }\n",
       "\n",
       "    .dataframe tbody tr th {\n",
       "        vertical-align: top;\n",
       "    }\n",
       "\n",
       "    .dataframe thead th {\n",
       "        text-align: right;\n",
       "    }\n",
       "</style>\n",
       "<table border=\"1\" class=\"dataframe\">\n",
       "  <thead>\n",
       "    <tr style=\"text-align: right;\">\n",
       "      <th></th>\n",
       "      <th>old</th>\n",
       "      <th>new</th>\n",
       "      <th>number</th>\n",
       "      <th>status_descr</th>\n",
       "    </tr>\n",
       "  </thead>\n",
       "  <tbody>\n",
       "    <tr>\n",
       "      <th>0</th>\n",
       "      <td>0</td>\n",
       "      <td>15</td>\n",
       "      <td>NaN</td>\n",
       "      <td>NaN</td>\n",
       "    </tr>\n",
       "    <tr>\n",
       "      <th>1</th>\n",
       "      <td>0</td>\n",
       "      <td>3</td>\n",
       "      <td>NaN</td>\n",
       "      <td>NaN</td>\n",
       "    </tr>\n",
       "    <tr>\n",
       "      <th>2</th>\n",
       "      <td>0</td>\n",
       "      <td>9</td>\n",
       "      <td>NaN</td>\n",
       "      <td>NaN</td>\n",
       "    </tr>\n",
       "    <tr>\n",
       "      <th>3</th>\n",
       "      <td>1</td>\n",
       "      <td>0</td>\n",
       "      <td>NaN</td>\n",
       "      <td>NaN</td>\n",
       "    </tr>\n",
       "    <tr>\n",
       "      <th>4</th>\n",
       "      <td>1</td>\n",
       "      <td>10</td>\n",
       "      <td>NaN</td>\n",
       "      <td>NaN</td>\n",
       "    </tr>\n",
       "  </tbody>\n",
       "</table>\n",
       "</div>"
      ],
      "text/plain": [
       "  old new  number status_descr\n",
       "0   0  15     NaN          NaN\n",
       "1   0   3     NaN          NaN\n",
       "2   0   9     NaN          NaN\n",
       "3   1   0     NaN          NaN\n",
       "4   1  10     NaN          NaN"
      ]
     },
     "execution_count": 89,
     "metadata": {},
     "output_type": "execute_result"
    }
   ],
   "source": [
    "status_desc = more_1k['old_new'].str.split(\"-\", n = 1, expand = True)\n",
    "status_desc = status_desc.rename(columns={0:'old',1:'new'})\n",
    "status_desc['old'] = pd.to_numeric(status_desc['old'],errors='ignore')\n",
    "status_desc = pd.merge(status_desc,status,how='left',left_on='old',right_on='status_descr')\n",
    "status_desc.head()"
   ]
  },
  {
   "cell_type": "code",
   "execution_count": 90,
   "id": "459529c2",
   "metadata": {},
   "outputs": [
    {
     "name": "stdout",
     "output_type": "stream",
     "text": [
      "<class 'pandas.core.frame.DataFrame'>\n",
      "Int64Index: 69 entries, 0 to 68\n",
      "Data columns (total 4 columns):\n",
      " #   Column        Non-Null Count  Dtype  \n",
      "---  ------        --------------  -----  \n",
      " 0   old           69 non-null     object \n",
      " 1   new           68 non-null     object \n",
      " 2   number        0 non-null      float64\n",
      " 3   status_descr  0 non-null      object \n",
      "dtypes: float64(1), object(3)\n",
      "memory usage: 2.7+ KB\n",
      "<class 'pandas.core.frame.DataFrame'>\n",
      "RangeIndex: 24 entries, 0 to 23\n",
      "Data columns (total 2 columns):\n",
      " #   Column        Non-Null Count  Dtype \n",
      "---  ------        --------------  ----- \n",
      " 0   number        24 non-null     int64 \n",
      " 1   status_descr  24 non-null     object\n",
      "dtypes: int64(1), object(1)\n",
      "memory usage: 512.0+ bytes\n"
     ]
    }
   ],
   "source": [
    "status_desc.info()\n",
    "status.info()"
   ]
  },
  {
   "cell_type": "code",
   "execution_count": 91,
   "id": "9ce69a87",
   "metadata": {},
   "outputs": [
    {
     "data": {
      "text/plain": [
       "5286256.539"
      ]
     },
     "execution_count": 91,
     "metadata": {},
     "output_type": "execute_result"
    },
    {
     "data": {
      "text/plain": [
       "4.444323832223566"
      ]
     },
     "execution_count": 91,
     "metadata": {},
     "output_type": "execute_result"
    }
   ],
   "source": [
    "# sum of time users spend on changing status\n",
    "time_consuming['total_time_minute'].sum()\n",
    "# Time spend base 7 hours work day , 12 user and 236 workday in year\n",
    "time_consuming['total_time_minute'].sum()/60/7/12/236"
   ]
  },
  {
   "cell_type": "markdown",
   "id": "7db01462",
   "metadata": {},
   "source": [
    "Base data from operation for time consuming and above calculation users spend  `4.44` years for changing status. and top 20 total time is below"
   ]
  },
  {
   "cell_type": "code",
   "execution_count": 92,
   "id": "cda601a8",
   "metadata": {},
   "outputs": [
    {
     "data": {
      "text/html": [
       "<div>\n",
       "<style scoped>\n",
       "    .dataframe tbody tr th:only-of-type {\n",
       "        vertical-align: middle;\n",
       "    }\n",
       "\n",
       "    .dataframe tbody tr th {\n",
       "        vertical-align: top;\n",
       "    }\n",
       "\n",
       "    .dataframe thead th {\n",
       "        text-align: right;\n",
       "    }\n",
       "</style>\n",
       "<table border=\"1\" class=\"dataframe\">\n",
       "  <thead>\n",
       "    <tr style=\"text-align: right;\">\n",
       "      <th></th>\n",
       "      <th>old_new</th>\n",
       "      <th>number_of_orders</th>\n",
       "      <th>descr</th>\n",
       "      <th>operator</th>\n",
       "      <th>time_minute</th>\n",
       "      <th>total_time_minute</th>\n",
       "    </tr>\n",
       "  </thead>\n",
       "  <tbody>\n",
       "    <tr>\n",
       "      <th>30</th>\n",
       "      <td>2-3</td>\n",
       "      <td>159688.0</td>\n",
       "      <td>correction Doc-lendo validation</td>\n",
       "      <td>user</td>\n",
       "      <td>15.000</td>\n",
       "      <td>2395320.000</td>\n",
       "    </tr>\n",
       "    <tr>\n",
       "      <th>43</th>\n",
       "      <td>3-2</td>\n",
       "      <td>80449.0</td>\n",
       "      <td>lendo validation-correction Doc</td>\n",
       "      <td>user</td>\n",
       "      <td>9.000</td>\n",
       "      <td>724041.000</td>\n",
       "    </tr>\n",
       "    <tr>\n",
       "      <th>7</th>\n",
       "      <td>1-4</td>\n",
       "      <td>26886.0</td>\n",
       "      <td>initial approval-perapare contracts</td>\n",
       "      <td>user</td>\n",
       "      <td>15.000</td>\n",
       "      <td>403290.000</td>\n",
       "    </tr>\n",
       "    <tr>\n",
       "      <th>58</th>\n",
       "      <td>6-7</td>\n",
       "      <td>45275.0</td>\n",
       "      <td>purchase code-installments payment</td>\n",
       "      <td>user</td>\n",
       "      <td>4.500</td>\n",
       "      <td>203737.500</td>\n",
       "    </tr>\n",
       "    <tr>\n",
       "      <th>48</th>\n",
       "      <td>4-5</td>\n",
       "      <td>51067.0</td>\n",
       "      <td>perapare contracts-send contract</td>\n",
       "      <td>user</td>\n",
       "      <td>3.000</td>\n",
       "      <td>153201.000</td>\n",
       "    </tr>\n",
       "    <tr>\n",
       "      <th>44</th>\n",
       "      <td>3-20</td>\n",
       "      <td>25097.0</td>\n",
       "      <td>lendo validation-open account API</td>\n",
       "      <td>user</td>\n",
       "      <td>6.000</td>\n",
       "      <td>150582.000</td>\n",
       "    </tr>\n",
       "    <tr>\n",
       "      <th>45</th>\n",
       "      <td>3-4</td>\n",
       "      <td>21008.0</td>\n",
       "      <td>lendo validation-perapare contracts</td>\n",
       "      <td>user</td>\n",
       "      <td>6.000</td>\n",
       "      <td>126048.000</td>\n",
       "    </tr>\n",
       "    <tr>\n",
       "      <th>41</th>\n",
       "      <td>3-14</td>\n",
       "      <td>18184.0</td>\n",
       "      <td>lendo validation-third party validation</td>\n",
       "      <td>user</td>\n",
       "      <td>6.000</td>\n",
       "      <td>109104.000</td>\n",
       "    </tr>\n",
       "    <tr>\n",
       "      <th>68</th>\n",
       "      <td>less_1k</td>\n",
       "      <td>24569.0</td>\n",
       "      <td>-</td>\n",
       "      <td>user/AUTO</td>\n",
       "      <td>4.131</td>\n",
       "      <td>101494.539</td>\n",
       "    </tr>\n",
       "    <tr>\n",
       "      <th>42</th>\n",
       "      <td>3-18</td>\n",
       "      <td>15429.0</td>\n",
       "      <td>lendo validation-waiting for rejection</td>\n",
       "      <td>user</td>\n",
       "      <td>6.000</td>\n",
       "      <td>92574.000</td>\n",
       "    </tr>\n",
       "    <tr>\n",
       "      <th>39</th>\n",
       "      <td>3-0</td>\n",
       "      <td>9821.0</td>\n",
       "      <td>lendo validation-rejected</td>\n",
       "      <td>user</td>\n",
       "      <td>9.000</td>\n",
       "      <td>88389.000</td>\n",
       "    </tr>\n",
       "    <tr>\n",
       "      <th>57</th>\n",
       "      <td>5-6</td>\n",
       "      <td>27660.0</td>\n",
       "      <td>send contract-purchase code</td>\n",
       "      <td>user</td>\n",
       "      <td>3.000</td>\n",
       "      <td>82980.000</td>\n",
       "    </tr>\n",
       "    <tr>\n",
       "      <th>4</th>\n",
       "      <td>1-10</td>\n",
       "      <td>5411.0</td>\n",
       "      <td>initial approval-no reply</td>\n",
       "      <td>user</td>\n",
       "      <td>15.000</td>\n",
       "      <td>81165.000</td>\n",
       "    </tr>\n",
       "    <tr>\n",
       "      <th>26</th>\n",
       "      <td>18-19</td>\n",
       "      <td>4051.0</td>\n",
       "      <td>waiting for rejection-review</td>\n",
       "      <td>user</td>\n",
       "      <td>15.000</td>\n",
       "      <td>60765.000</td>\n",
       "    </tr>\n",
       "    <tr>\n",
       "      <th>40</th>\n",
       "      <td>3-13</td>\n",
       "      <td>9092.0</td>\n",
       "      <td>lendo validation-watting opening account</td>\n",
       "      <td>user</td>\n",
       "      <td>6.000</td>\n",
       "      <td>54552.000</td>\n",
       "    </tr>\n",
       "    <tr>\n",
       "      <th>27</th>\n",
       "      <td>19-0</td>\n",
       "      <td>3328.0</td>\n",
       "      <td>review-rejected</td>\n",
       "      <td>user</td>\n",
       "      <td>15.000</td>\n",
       "      <td>49920.000</td>\n",
       "    </tr>\n",
       "    <tr>\n",
       "      <th>49</th>\n",
       "      <td>4-6</td>\n",
       "      <td>7776.0</td>\n",
       "      <td>perapare contracts-purchase code</td>\n",
       "      <td>user</td>\n",
       "      <td>6.000</td>\n",
       "      <td>46656.000</td>\n",
       "    </tr>\n",
       "    <tr>\n",
       "      <th>3</th>\n",
       "      <td>1-0</td>\n",
       "      <td>7186.0</td>\n",
       "      <td>initial approval-rejected</td>\n",
       "      <td>user</td>\n",
       "      <td>6.000</td>\n",
       "      <td>43116.000</td>\n",
       "    </tr>\n",
       "    <tr>\n",
       "      <th>47</th>\n",
       "      <td>4-0</td>\n",
       "      <td>5712.0</td>\n",
       "      <td>perapare contracts-rejected</td>\n",
       "      <td>user</td>\n",
       "      <td>7.500</td>\n",
       "      <td>42840.000</td>\n",
       "    </tr>\n",
       "    <tr>\n",
       "      <th>29</th>\n",
       "      <td>2-18</td>\n",
       "      <td>4944.0</td>\n",
       "      <td>correction Doc-waiting for rejection</td>\n",
       "      <td>user</td>\n",
       "      <td>7.500</td>\n",
       "      <td>37080.000</td>\n",
       "    </tr>\n",
       "  </tbody>\n",
       "</table>\n",
       "</div>"
      ],
      "text/plain": [
       "    old_new  number_of_orders                                     descr  \\\n",
       "30      2-3          159688.0           correction Doc-lendo validation   \n",
       "43      3-2           80449.0           lendo validation-correction Doc   \n",
       "7       1-4           26886.0       initial approval-perapare contracts   \n",
       "58      6-7           45275.0        purchase code-installments payment   \n",
       "48      4-5           51067.0          perapare contracts-send contract   \n",
       "44     3-20           25097.0         lendo validation-open account API   \n",
       "45      3-4           21008.0       lendo validation-perapare contracts   \n",
       "41     3-14           18184.0   lendo validation-third party validation   \n",
       "68  less_1k           24569.0                                         -   \n",
       "42     3-18           15429.0    lendo validation-waiting for rejection   \n",
       "39      3-0            9821.0                 lendo validation-rejected   \n",
       "57      5-6           27660.0               send contract-purchase code   \n",
       "4      1-10            5411.0                initial approval-no reply    \n",
       "26    18-19            4051.0              waiting for rejection-review   \n",
       "40     3-13            9092.0  lendo validation-watting opening account   \n",
       "27     19-0            3328.0                           review-rejected   \n",
       "49      4-6            7776.0          perapare contracts-purchase code   \n",
       "3       1-0            7186.0                 initial approval-rejected   \n",
       "47      4-0            5712.0               perapare contracts-rejected   \n",
       "29     2-18            4944.0      correction Doc-waiting for rejection   \n",
       "\n",
       "     operator  time_minute  total_time_minute  \n",
       "30       user       15.000        2395320.000  \n",
       "43       user        9.000         724041.000  \n",
       "7        user       15.000         403290.000  \n",
       "58       user        4.500         203737.500  \n",
       "48       user        3.000         153201.000  \n",
       "44       user        6.000         150582.000  \n",
       "45       user        6.000         126048.000  \n",
       "41       user        6.000         109104.000  \n",
       "68  user/AUTO        4.131         101494.539  \n",
       "42       user        6.000          92574.000  \n",
       "39       user        9.000          88389.000  \n",
       "57       user        3.000          82980.000  \n",
       "4        user       15.000          81165.000  \n",
       "26       user       15.000          60765.000  \n",
       "40       user        6.000          54552.000  \n",
       "27       user       15.000          49920.000  \n",
       "49       user        6.000          46656.000  \n",
       "3        user        6.000          43116.000  \n",
       "47       user        7.500          42840.000  \n",
       "29       user        7.500          37080.000  "
      ]
     },
     "execution_count": 92,
     "metadata": {},
     "output_type": "execute_result"
    }
   ],
   "source": [
    "more_1k.sort_values(by='total_time_minute',ascending=False).head(20)"
   ]
  },
  {
   "cell_type": "markdown",
   "id": "c7de2d5b",
   "metadata": {},
   "source": [
    "##### Time and money consuming status  \n",
    "We check some of this actions to find some solutions for reduce time and money for the operation section"
   ]
  },
  {
   "cell_type": "markdown",
   "id": "8d475b5e",
   "metadata": {},
   "source": [
    "For `correction Doc-lendo validation` and `lendo validation-correction Doc`, `\tinitial approval-prepare contracts` in those actions user check documents from each user base government and Lendo regulations for process orders and some orders may be back to this previous status because some documents don't pass the regulation for checking distribution base number of time orders back to another status we check the table in SQL below."
   ]
  },
  {
   "cell_type": "markdown",
   "id": "9d3875ff",
   "metadata": {},
   "source": [
    "`SQL-query Checking count log change in 2 and 3`  \n",
    "WITH number_orders AS (  \n",
    "SELECT order_id , old_status,COUNT(*) AS number_count  \n",
    "FROM order_status_logs  \n",
    "WHERE old_status IN (2,3)  \n",
    "GROUP BY order_id,old_status  \n",
    ")  \n",
    "SELECT  number_count, count(old_status) AS frequent  \n",
    "FROM number_orders  \n",
    "GROUP BY number_count  \n",
    "ORDER BY  frequent DESC  "
   ]
  },
  {
   "cell_type": "code",
   "execution_count": 93,
   "id": "31749c41",
   "metadata": {},
   "outputs": [
    {
     "data": {
      "text/html": [
       "<div>\n",
       "<style scoped>\n",
       "    .dataframe tbody tr th:only-of-type {\n",
       "        vertical-align: middle;\n",
       "    }\n",
       "\n",
       "    .dataframe tbody tr th {\n",
       "        vertical-align: top;\n",
       "    }\n",
       "\n",
       "    .dataframe thead th {\n",
       "        text-align: right;\n",
       "    }\n",
       "</style>\n",
       "<table border=\"1\" class=\"dataframe\">\n",
       "  <thead>\n",
       "    <tr style=\"text-align: right;\">\n",
       "      <th></th>\n",
       "      <th>number_count</th>\n",
       "      <th>frequent</th>\n",
       "    </tr>\n",
       "  </thead>\n",
       "  <tbody>\n",
       "    <tr>\n",
       "      <th>0</th>\n",
       "      <td>1.0</td>\n",
       "      <td>210383.0</td>\n",
       "    </tr>\n",
       "    <tr>\n",
       "      <th>1</th>\n",
       "      <td>2.0</td>\n",
       "      <td>58659.0</td>\n",
       "    </tr>\n",
       "    <tr>\n",
       "      <th>2</th>\n",
       "      <td>3.0</td>\n",
       "      <td>22491.0</td>\n",
       "    </tr>\n",
       "    <tr>\n",
       "      <th>3</th>\n",
       "      <td>4.0</td>\n",
       "      <td>12722.0</td>\n",
       "    </tr>\n",
       "    <tr>\n",
       "      <th>4</th>\n",
       "      <td>5.0</td>\n",
       "      <td>5414.0</td>\n",
       "    </tr>\n",
       "  </tbody>\n",
       "</table>\n",
       "</div>"
      ],
      "text/plain": [
       "   number_count  frequent\n",
       "0           1.0  210383.0\n",
       "1           2.0   58659.0\n",
       "2           3.0   22491.0\n",
       "3           4.0   12722.0\n",
       "4           5.0    5414.0"
      ]
     },
     "execution_count": 93,
     "metadata": {},
     "output_type": "execute_result"
    }
   ],
   "source": [
    "orders_status_change_2_3 = pd.read_excel(\n",
    "    'Query/checking_count_log_change_in_2_and_3_2022-08-26T13_26_29.264441Z.xlsx')\n",
    "orders_status_change_2_3.head()"
   ]
  },
  {
   "cell_type": "code",
   "execution_count": 94,
   "id": "1f092916",
   "metadata": {},
   "outputs": [
    {
     "data": {
      "text/html": [
       "<div>\n",
       "<style scoped>\n",
       "    .dataframe tbody tr th:only-of-type {\n",
       "        vertical-align: middle;\n",
       "    }\n",
       "\n",
       "    .dataframe tbody tr th {\n",
       "        vertical-align: top;\n",
       "    }\n",
       "\n",
       "    .dataframe thead th {\n",
       "        text-align: right;\n",
       "    }\n",
       "</style>\n",
       "<table border=\"1\" class=\"dataframe\">\n",
       "  <thead>\n",
       "    <tr style=\"text-align: right;\">\n",
       "      <th></th>\n",
       "      <th>number_count</th>\n",
       "      <th>frequent</th>\n",
       "      <th>perecent</th>\n",
       "    </tr>\n",
       "  </thead>\n",
       "  <tbody>\n",
       "    <tr>\n",
       "      <th>0</th>\n",
       "      <td>1.0</td>\n",
       "      <td>210383.0</td>\n",
       "      <td>66.365202</td>\n",
       "    </tr>\n",
       "    <tr>\n",
       "      <th>1</th>\n",
       "      <td>2.0</td>\n",
       "      <td>58659.0</td>\n",
       "      <td>18.503949</td>\n",
       "    </tr>\n",
       "    <tr>\n",
       "      <th>2</th>\n",
       "      <td>3.0</td>\n",
       "      <td>22491.0</td>\n",
       "      <td>7.094774</td>\n",
       "    </tr>\n",
       "    <tr>\n",
       "      <th>3</th>\n",
       "      <td>4.0</td>\n",
       "      <td>12722.0</td>\n",
       "      <td>4.013148</td>\n",
       "    </tr>\n",
       "    <tr>\n",
       "      <th>4</th>\n",
       "      <td>5.0</td>\n",
       "      <td>5414.0</td>\n",
       "      <td>1.707843</td>\n",
       "    </tr>\n",
       "  </tbody>\n",
       "</table>\n",
       "</div>"
      ],
      "text/plain": [
       "   number_count  frequent   perecent\n",
       "0           1.0  210383.0  66.365202\n",
       "1           2.0   58659.0  18.503949\n",
       "2           3.0   22491.0   7.094774\n",
       "3           4.0   12722.0   4.013148\n",
       "4           5.0    5414.0   1.707843"
      ]
     },
     "execution_count": 94,
     "metadata": {},
     "output_type": "execute_result"
    }
   ],
   "source": [
    "orders_status_change_2_3['perecent'] = orders_status_change_2_3['frequent']/orders_status_change_2_3[\n",
    "    'frequent'].sum()*100\n",
    "orders_status_change_2_3.head()"
   ]
  },
  {
   "cell_type": "markdown",
   "id": "c3eab921",
   "metadata": {},
   "source": [
    "As you can see most of the orders pass in a few tries and the suggestion could be to use OCR software for automating the process and base software developer and online reaserch there are very reliable products for this amount of usage and many of them don't have API for such usage and the other problem is all document language is Persian and major of them don't support Persian or have some issue with some characters."
   ]
  },
  {
   "cell_type": "markdown",
   "id": "3da91ca1",
   "metadata": {},
   "source": [
    "For the `purchase code-installments payment` action process happen base Iran regulation lendo don't have permission to have a payment gateway or merchant service and for the customer to use the credit in accepting the store to get the purchase code, in this action users put unique purchase code for the customer.\n",
    "My suggestion for this action is third-party merchant service or platform for accepting orders to put series or unique purchase codes and then automatically after the customer reaches this status dataset use that purchase code for the customer."
   ]
  },
  {
   "cell_type": "markdown",
   "id": "3a54ed71",
   "metadata": {},
   "source": [
    "For the `prepare contracts-send contract` action Lendo send some document for users to sign physically and then get back to lendo, it consume a huge amount of time and money for the customer and lendo.  \n",
    "But for the solution to this problem in the new product lunch E-Sign service with the third party to remove this action from the process."
   ]
  },
  {
   "cell_type": "markdown",
   "id": "91b249d8",
   "metadata": {},
   "source": [
    "For three status (`lendo validation-open account API` and `lendo validation-prepare contracts` and `lendo validation-third party validation` ) action it's the same but different steps of upgrading products.  its process after lendo improves to the next steps and if lendo validation means status 1,2,3 automated, this could be passed with product action pass without user review.\n"
   ]
  },
  {
   "cell_type": "markdown",
   "id": "39be4ac4",
   "metadata": {},
   "source": [
    "For less_1k actions, I tell some detail in above its include 300 permutations of actions its happened less than 1k some include automated, user and few test action. "
   ]
  },
  {
   "cell_type": "markdown",
   "id": "063b4dee",
   "metadata": {},
   "source": [
    "For `lendo validation-waiting for rejection` and `lendo validation-rejected` its include rejection with users or for confirmation of supervisor send to waiting for rejection status"
   ]
  },
  {
   "cell_type": "markdown",
   "id": "f585819e",
   "metadata": {},
   "source": [
    "##### checking successful orders\n",
    "Checking successful orders time spending is check in last part for seeing whats situation in this orders and whats happend in operation for this object we investing this orders."
   ]
  },
  {
   "cell_type": "code",
   "execution_count": 95,
   "id": "aab36f32",
   "metadata": {},
   "outputs": [
    {
     "data": {
      "text/html": [
       "<div>\n",
       "<style scoped>\n",
       "    .dataframe tbody tr th:only-of-type {\n",
       "        vertical-align: middle;\n",
       "    }\n",
       "\n",
       "    .dataframe tbody tr th {\n",
       "        vertical-align: top;\n",
       "    }\n",
       "\n",
       "    .dataframe thead th {\n",
       "        text-align: right;\n",
       "    }\n",
       "</style>\n",
       "<table border=\"1\" class=\"dataframe\">\n",
       "  <thead>\n",
       "    <tr style=\"text-align: right;\">\n",
       "      <th>status</th>\n",
       "      <th>year_month</th>\n",
       "      <th>7.0</th>\n",
       "      <th>8.0</th>\n",
       "    </tr>\n",
       "  </thead>\n",
       "  <tbody>\n",
       "    <tr>\n",
       "      <th>0</th>\n",
       "      <td>2018-06</td>\n",
       "      <td>NaN</td>\n",
       "      <td>2.0</td>\n",
       "    </tr>\n",
       "    <tr>\n",
       "      <th>1</th>\n",
       "      <td>2018-07</td>\n",
       "      <td>49.0</td>\n",
       "      <td>553.0</td>\n",
       "    </tr>\n",
       "    <tr>\n",
       "      <th>2</th>\n",
       "      <td>2018-08</td>\n",
       "      <td>109.0</td>\n",
       "      <td>947.0</td>\n",
       "    </tr>\n",
       "    <tr>\n",
       "      <th>3</th>\n",
       "      <td>2018-09</td>\n",
       "      <td>121.0</td>\n",
       "      <td>667.0</td>\n",
       "    </tr>\n",
       "    <tr>\n",
       "      <th>4</th>\n",
       "      <td>2018-10</td>\n",
       "      <td>34.0</td>\n",
       "      <td>459.0</td>\n",
       "    </tr>\n",
       "  </tbody>\n",
       "</table>\n",
       "</div>"
      ],
      "text/plain": [
       "status year_month    7.0    8.0\n",
       "0         2018-06    NaN    2.0\n",
       "1         2018-07   49.0  553.0\n",
       "2         2018-08  109.0  947.0\n",
       "3         2018-09  121.0  667.0\n",
       "4         2018-10   34.0  459.0"
      ]
     },
     "execution_count": 95,
     "metadata": {},
     "output_type": "execute_result"
    }
   ],
   "source": [
    "# making Dataset for plot base status\n",
    "orders_by_staus = (\n",
    "    orders_2.loc[:, ['status', 'year_month']].loc[(orders_2.status == 7)\n",
    "                                                  | (orders_2.status == 8)])\n",
    "orders_by_staus_grouped = orders_by_staus.groupby([\n",
    "    \"year_month\", \"status\"\n",
    "#count orders base status and created date\n",
    "]).agg(count_col=pd.NamedAgg(column=\"status\", aggfunc=\"count\")).reset_index()\n",
    "stack_orders = orders_by_staus_grouped.pivot('year_month',\n",
    "                                             'status').reset_index()\n",
    "stack_orders.columns = stack_orders.columns.droplevel()\n",
    "# reform dataframe and peraper axis\n",
    "stack_orders = stack_orders.rename_columns({'': 'year_month'})\n",
    "stacks_plot_orders = stack_orders.set_index('year_month').reset_index()\n",
    "stacks_plot_orders.head()"
   ]
  },
  {
   "cell_type": "code",
   "execution_count": 96,
   "id": "c657575e",
   "metadata": {},
   "outputs": [
    {
     "data": {
      "text/plain": [
       "<AxesSubplot:>"
      ]
     },
     "execution_count": 96,
     "metadata": {},
     "output_type": "execute_result"
    },
    {
     "data": {
      "text/plain": [
       "<AxesSubplot:>"
      ]
     },
     "execution_count": 96,
     "metadata": {},
     "output_type": "execute_result"
    },
    {
     "data": {
      "text/plain": [
       "<AxesSubplot:>"
      ]
     },
     "execution_count": 96,
     "metadata": {},
     "output_type": "execute_result"
    },
    {
     "data": {
      "image/png": "[encoded data removed]",
      "text/plain": [
       "<Figure size 864x432 with 1 Axes>"
      ]
     },
     "metadata": {
      "needs_background": "light"
     },
     "output_type": "display_data"
    },
    {
     "data": {
      "image/png": "[encoded data removed]",
      "text/plain": [
       "<Figure size 864x432 with 1 Axes>"
      ]
     },
     "metadata": {
      "needs_background": "light"
     },
     "output_type": "display_data"
    },
    {
     "data": {
      "image/png": "[encoded data removed]",
      "text/plain": [
       "<Figure size 864x432 with 1 Axes>"
      ]
     },
     "metadata": {
      "needs_background": "light"
     },
     "output_type": "display_data"
    }
   ],
   "source": [
    "stacks_plot_orders.plot.bar(stacked=True,figsize=[12,6])\n",
    "\n",
    "stacks_plot_orders[['year_month',7.0]].plot.bar(figsize=[12,6])\n",
    "stacks_plot_orders[['year_month',8.0]].plot.bar(figsize=[12,6])\n",
    "plt.show()"
   ]
  },
  {
   "cell_type": "markdown",
   "id": "bb2d5989",
   "metadata": {},
   "source": [
    "base orders status description orders in status 7 (paying installments) and 8 (finished) is one we are paying credit. we check how many orders are finished based created date and the detail of the operation in this status.  \n",
    "Major of the operation besides the installment collection department task for successful orders are for failed payments and finished orders are promissory note cancellation or return promissory.  \n",
    "The installment collection department has separate departments and flow and as you can guess their job is to contact those customers who have passed their installment payment. we check orders past their payment dues. I explore these orders but we check detail in the task part of the project"
   ]
  }
 ],
 "metadata": {
  "kernelspec": {
   "display_name": "Python 3 (ipykernel)",
   "language": "python",
   "name": "python3"
  },
  "language_info": {
   "codemirror_mode": {
    "name": "ipython",
    "version": 3
   },
   "file_extension": ".py",
   "mimetype": "text/x-python",
   "name": "python",
   "nbconvert_exporter": "python",
   "pygments_lexer": "ipython3",
   "version": "3.9.12"
  },
  "latex_envs": {
   "LaTeX_envs_menu_present": true,
   "autoclose": false,
   "autocomplete": true,
   "bibliofile": "biblio.bib",
   "cite_by": "apalike",
   "current_citInitial": 1,
   "eqLabelWithNumbers": true,
   "eqNumInitial": 1,
   "hotkeys": {
    "equation": "Ctrl-E",
    "itemize": "Ctrl-I"
   },
   "labels_anchors": false,
   "latex_user_defs": false,
   "report_style_numbering": false,
   "user_envs_cfg": false
  },
  "toc": {
   "base_numbering": 1,
   "nav_menu": {},
   "number_sections": true,
   "sideBar": true,
   "skip_h1_title": true,
   "title_cell": "Table of Contents",
   "title_sidebar": "Contents",
   "toc_cell": true,
   "toc_position": {
    "height": "calc(100% - 180px)",
    "left": "10px",
    "top": "150px",
    "width": "307.2px"
   },
   "toc_section_display": true,
   "toc_window_display": false
  },
  "varInspector": {
   "cols": {
    "lenName": 16,
    "lenType": 16,
    "lenVar": 40
   },
   "kernels_config": {
    "python": {
     "delete_cmd_postfix": "",
     "delete_cmd_prefix": "del ",
     "library": "var_list.py",
     "varRefreshCmd": "print(var_dic_list())"
    },
    "r": {
     "delete_cmd_postfix": ") ",
     "delete_cmd_prefix": "rm(",
     "library": "var_list.r",
     "varRefreshCmd": "cat(var_dic_list()) "
    }
   },
   "position": {
    "height": "458.85px",
    "left": "926px",
    "right": "20px",
    "top": "140px",
    "width": "350px"
   },
   "types_to_exclude": [
    "module",
    "function",
    "builtin_function_or_method",
    "instance",
    "_Feature"
   ],
   "window_display": false
  }
 },
 "nbformat": 4,
 "nbformat_minor": 5
}
